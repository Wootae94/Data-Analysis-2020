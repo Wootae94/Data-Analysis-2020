{
 "metadata": {
  "language_info": {
   "codemirror_mode": {
    "name": "ipython",
    "version": 3
   },
   "file_extension": ".py",
   "mimetype": "text/x-python",
   "name": "python",
   "nbconvert_exporter": "python",
   "pygments_lexer": "ipython3",
   "version": "3.8.3-final"
  },
  "orig_nbformat": 2,
  "kernelspec": {
   "name": "python3",
   "display_name": "Python 3.8.3 64-bit (conda)",
   "metadata": {
    "interpreter": {
     "hash": "b3ba2566441a7c06988d0923437866b63cedc61552a5af99d1f4fb67d367b25f"
    }
   }
  }
 },
 "nbformat": 4,
 "nbformat_minor": 2,
 "cells": [
  {
   "cell_type": "code",
   "execution_count": 1,
   "metadata": {},
   "outputs": [],
   "source": [
    "import numpy as np\n",
    "import pandas as pd\n",
    "import seaborn as sns\n",
    "import matplotlib as mpl\n",
    "import matplotlib.pyplot as plt\n",
    "%matplotlib inline\n",
    "mpl.rc('font', family='Malgun Gothic')\n",
    "mpl.rc('axes', unicode_minus=False)"
   ]
  },
  {
   "cell_type": "code",
   "execution_count": 15,
   "metadata": {},
   "outputs": [],
   "source": [
    "iris = sns.load_dataset('iris')"
   ]
  },
  {
   "cell_type": "code",
   "execution_count": 16,
   "metadata": {},
   "outputs": [
    {
     "output_type": "execute_result",
     "data": {
      "text/plain": [
       "     sepal_length  sepal_width  petal_length  petal_width    species\n",
       "0             5.1          3.5           1.4          0.2     setosa\n",
       "1             4.9          3.0           1.4          0.2     setosa\n",
       "2             4.7          3.2           1.3          0.2     setosa\n",
       "3             4.6          3.1           1.5          0.2     setosa\n",
       "4             5.0          3.6           1.4          0.2     setosa\n",
       "..            ...          ...           ...          ...        ...\n",
       "145           6.7          3.0           5.2          2.3  virginica\n",
       "146           6.3          2.5           5.0          1.9  virginica\n",
       "147           6.5          3.0           5.2          2.0  virginica\n",
       "148           6.2          3.4           5.4          2.3  virginica\n",
       "149           5.9          3.0           5.1          1.8  virginica\n",
       "\n",
       "[150 rows x 5 columns]"
      ],
      "text/html": "<div>\n<style scoped>\n    .dataframe tbody tr th:only-of-type {\n        vertical-align: middle;\n    }\n\n    .dataframe tbody tr th {\n        vertical-align: top;\n    }\n\n    .dataframe thead th {\n        text-align: right;\n    }\n</style>\n<table border=\"1\" class=\"dataframe\">\n  <thead>\n    <tr style=\"text-align: right;\">\n      <th></th>\n      <th>sepal_length</th>\n      <th>sepal_width</th>\n      <th>petal_length</th>\n      <th>petal_width</th>\n      <th>species</th>\n    </tr>\n  </thead>\n  <tbody>\n    <tr>\n      <th>0</th>\n      <td>5.1</td>\n      <td>3.5</td>\n      <td>1.4</td>\n      <td>0.2</td>\n      <td>setosa</td>\n    </tr>\n    <tr>\n      <th>1</th>\n      <td>4.9</td>\n      <td>3.0</td>\n      <td>1.4</td>\n      <td>0.2</td>\n      <td>setosa</td>\n    </tr>\n    <tr>\n      <th>2</th>\n      <td>4.7</td>\n      <td>3.2</td>\n      <td>1.3</td>\n      <td>0.2</td>\n      <td>setosa</td>\n    </tr>\n    <tr>\n      <th>3</th>\n      <td>4.6</td>\n      <td>3.1</td>\n      <td>1.5</td>\n      <td>0.2</td>\n      <td>setosa</td>\n    </tr>\n    <tr>\n      <th>4</th>\n      <td>5.0</td>\n      <td>3.6</td>\n      <td>1.4</td>\n      <td>0.2</td>\n      <td>setosa</td>\n    </tr>\n    <tr>\n      <th>...</th>\n      <td>...</td>\n      <td>...</td>\n      <td>...</td>\n      <td>...</td>\n      <td>...</td>\n    </tr>\n    <tr>\n      <th>145</th>\n      <td>6.7</td>\n      <td>3.0</td>\n      <td>5.2</td>\n      <td>2.3</td>\n      <td>virginica</td>\n    </tr>\n    <tr>\n      <th>146</th>\n      <td>6.3</td>\n      <td>2.5</td>\n      <td>5.0</td>\n      <td>1.9</td>\n      <td>virginica</td>\n    </tr>\n    <tr>\n      <th>147</th>\n      <td>6.5</td>\n      <td>3.0</td>\n      <td>5.2</td>\n      <td>2.0</td>\n      <td>virginica</td>\n    </tr>\n    <tr>\n      <th>148</th>\n      <td>6.2</td>\n      <td>3.4</td>\n      <td>5.4</td>\n      <td>2.3</td>\n      <td>virginica</td>\n    </tr>\n    <tr>\n      <th>149</th>\n      <td>5.9</td>\n      <td>3.0</td>\n      <td>5.1</td>\n      <td>1.8</td>\n      <td>virginica</td>\n    </tr>\n  </tbody>\n</table>\n<p>150 rows × 5 columns</p>\n</div>"
     },
     "metadata": {},
     "execution_count": 16
    }
   ],
   "source": [
    "iris"
   ]
  },
  {
   "cell_type": "code",
   "execution_count": 17,
   "metadata": {},
   "outputs": [
    {
     "output_type": "execute_result",
     "data": {
      "text/plain": [
       "           sepal_length           sepal_width           petal_length  \\\n",
       "                   mean       std        mean       std         mean   \n",
       "species                                                                \n",
       "setosa            5.006  0.352490       3.428  0.379064        1.462   \n",
       "versicolor        5.936  0.516171       2.770  0.313798        4.260   \n",
       "virginica         6.588  0.635880       2.974  0.322497        5.552   \n",
       "\n",
       "                     petal_width            \n",
       "                 std        mean       std  \n",
       "species                                     \n",
       "setosa      0.173664       0.246  0.105386  \n",
       "versicolor  0.469911       1.326  0.197753  \n",
       "virginica   0.551895       2.026  0.274650  "
      ],
      "text/html": "<div>\n<style scoped>\n    .dataframe tbody tr th:only-of-type {\n        vertical-align: middle;\n    }\n\n    .dataframe tbody tr th {\n        vertical-align: top;\n    }\n\n    .dataframe thead tr th {\n        text-align: left;\n    }\n\n    .dataframe thead tr:last-of-type th {\n        text-align: right;\n    }\n</style>\n<table border=\"1\" class=\"dataframe\">\n  <thead>\n    <tr>\n      <th></th>\n      <th colspan=\"2\" halign=\"left\">sepal_length</th>\n      <th colspan=\"2\" halign=\"left\">sepal_width</th>\n      <th colspan=\"2\" halign=\"left\">petal_length</th>\n      <th colspan=\"2\" halign=\"left\">petal_width</th>\n    </tr>\n    <tr>\n      <th></th>\n      <th>mean</th>\n      <th>std</th>\n      <th>mean</th>\n      <th>std</th>\n      <th>mean</th>\n      <th>std</th>\n      <th>mean</th>\n      <th>std</th>\n    </tr>\n    <tr>\n      <th>species</th>\n      <th></th>\n      <th></th>\n      <th></th>\n      <th></th>\n      <th></th>\n      <th></th>\n      <th></th>\n      <th></th>\n    </tr>\n  </thead>\n  <tbody>\n    <tr>\n      <th>setosa</th>\n      <td>5.006</td>\n      <td>0.352490</td>\n      <td>3.428</td>\n      <td>0.379064</td>\n      <td>1.462</td>\n      <td>0.173664</td>\n      <td>0.246</td>\n      <td>0.105386</td>\n    </tr>\n    <tr>\n      <th>versicolor</th>\n      <td>5.936</td>\n      <td>0.516171</td>\n      <td>2.770</td>\n      <td>0.313798</td>\n      <td>4.260</td>\n      <td>0.469911</td>\n      <td>1.326</td>\n      <td>0.197753</td>\n    </tr>\n    <tr>\n      <th>virginica</th>\n      <td>6.588</td>\n      <td>0.635880</td>\n      <td>2.974</td>\n      <td>0.322497</td>\n      <td>5.552</td>\n      <td>0.551895</td>\n      <td>2.026</td>\n      <td>0.274650</td>\n    </tr>\n  </tbody>\n</table>\n</div>"
     },
     "metadata": {},
     "execution_count": 17
    }
   ],
   "source": [
    "# 연습문제 1 - a\n",
    "iris.groupby(iris.species).agg(['mean','std'])"
   ]
  },
  {
   "cell_type": "code",
   "execution_count": 18,
   "metadata": {},
   "outputs": [],
   "source": [
    "# 연습문제 1 - b\n",
    "def outliers_iqr(data):\n",
    "    Q1,Q3 = np.percentile(data, [25,75])\n",
    "    iqr = Q3 - Q1\n",
    "    lower_bound = Q1 - (1.5 * iqr)\n",
    "    upper_bound = Q3 + (1.5 * iqr)\n",
    "    new_iris = []\n",
    "    for e in data:\n",
    "        if (e<lower_bound)|(e>upper_bound):\n",
    "            e = np.NaN\n",
    "        new_iris.append(e)\n",
    "    return new_iris"
   ]
  },
  {
   "cell_type": "code",
   "execution_count": 19,
   "metadata": {},
   "outputs": [
    {
     "output_type": "execute_result",
     "data": {
      "text/plain": [
       "           sepal_length  sepal_width  petal_length  petal_width\n",
       "species                                                        \n",
       "setosa              5.1          3.5           1.4          0.2\n",
       "setosa              4.9          3.0           1.4          0.2\n",
       "setosa              4.7          3.2           1.3          0.2\n",
       "setosa              4.6          3.1           1.5          0.2\n",
       "setosa              5.0          3.6           1.4          0.2\n",
       "...                 ...          ...           ...          ...\n",
       "virginica           6.7          3.0           5.2          2.3\n",
       "virginica           6.3          2.5           5.0          1.9\n",
       "virginica           6.5          3.0           5.2          2.0\n",
       "virginica           6.2          3.4           5.4          2.3\n",
       "virginica           5.9          3.0           5.1          1.8\n",
       "\n",
       "[150 rows x 4 columns]"
      ],
      "text/html": "<div>\n<style scoped>\n    .dataframe tbody tr th:only-of-type {\n        vertical-align: middle;\n    }\n\n    .dataframe tbody tr th {\n        vertical-align: top;\n    }\n\n    .dataframe thead th {\n        text-align: right;\n    }\n</style>\n<table border=\"1\" class=\"dataframe\">\n  <thead>\n    <tr style=\"text-align: right;\">\n      <th></th>\n      <th>sepal_length</th>\n      <th>sepal_width</th>\n      <th>petal_length</th>\n      <th>petal_width</th>\n    </tr>\n    <tr>\n      <th>species</th>\n      <th></th>\n      <th></th>\n      <th></th>\n      <th></th>\n    </tr>\n  </thead>\n  <tbody>\n    <tr>\n      <th>setosa</th>\n      <td>5.1</td>\n      <td>3.5</td>\n      <td>1.4</td>\n      <td>0.2</td>\n    </tr>\n    <tr>\n      <th>setosa</th>\n      <td>4.9</td>\n      <td>3.0</td>\n      <td>1.4</td>\n      <td>0.2</td>\n    </tr>\n    <tr>\n      <th>setosa</th>\n      <td>4.7</td>\n      <td>3.2</td>\n      <td>1.3</td>\n      <td>0.2</td>\n    </tr>\n    <tr>\n      <th>setosa</th>\n      <td>4.6</td>\n      <td>3.1</td>\n      <td>1.5</td>\n      <td>0.2</td>\n    </tr>\n    <tr>\n      <th>setosa</th>\n      <td>5.0</td>\n      <td>3.6</td>\n      <td>1.4</td>\n      <td>0.2</td>\n    </tr>\n    <tr>\n      <th>...</th>\n      <td>...</td>\n      <td>...</td>\n      <td>...</td>\n      <td>...</td>\n    </tr>\n    <tr>\n      <th>virginica</th>\n      <td>6.7</td>\n      <td>3.0</td>\n      <td>5.2</td>\n      <td>2.3</td>\n    </tr>\n    <tr>\n      <th>virginica</th>\n      <td>6.3</td>\n      <td>2.5</td>\n      <td>5.0</td>\n      <td>1.9</td>\n    </tr>\n    <tr>\n      <th>virginica</th>\n      <td>6.5</td>\n      <td>3.0</td>\n      <td>5.2</td>\n      <td>2.0</td>\n    </tr>\n    <tr>\n      <th>virginica</th>\n      <td>6.2</td>\n      <td>3.4</td>\n      <td>5.4</td>\n      <td>2.3</td>\n    </tr>\n    <tr>\n      <th>virginica</th>\n      <td>5.9</td>\n      <td>3.0</td>\n      <td>5.1</td>\n      <td>1.8</td>\n    </tr>\n  </tbody>\n</table>\n<p>150 rows × 4 columns</p>\n</div>"
     },
     "metadata": {},
     "execution_count": 19
    }
   ],
   "source": [
    "iris_species = iris.set_index('species')\n",
    "iris_species"
   ]
  },
  {
   "cell_type": "code",
   "execution_count": 23,
   "metadata": {},
   "outputs": [],
   "source": [
    "list_species = ['setosa','versicolor','virginica']\n",
    "list_features = ['sepal_length','sepal_width','petal_length','petal_width']\n",
    "for i in list_species:\n",
    "    for k in list_features:\n",
    "        iris_species.loc[i][k] = outliers_iqr(iris_species.loc[i][k])"
   ]
  },
  {
   "cell_type": "code",
   "execution_count": 24,
   "metadata": {},
   "outputs": [
    {
     "output_type": "execute_result",
     "data": {
      "text/plain": [
       "            petal_length  petal_width  sepal_length  sepal_width\n",
       "species                                                         \n",
       "setosa          1.460870     0.233333      5.006000     3.431250\n",
       "versicolor      4.285714     1.326000      5.936000     2.770000\n",
       "virginica       5.552000     2.026000      6.622449     2.955319"
      ],
      "text/html": "<div>\n<style scoped>\n    .dataframe tbody tr th:only-of-type {\n        vertical-align: middle;\n    }\n\n    .dataframe tbody tr th {\n        vertical-align: top;\n    }\n\n    .dataframe thead th {\n        text-align: right;\n    }\n</style>\n<table border=\"1\" class=\"dataframe\">\n  <thead>\n    <tr style=\"text-align: right;\">\n      <th></th>\n      <th>petal_length</th>\n      <th>petal_width</th>\n      <th>sepal_length</th>\n      <th>sepal_width</th>\n    </tr>\n    <tr>\n      <th>species</th>\n      <th></th>\n      <th></th>\n      <th></th>\n      <th></th>\n    </tr>\n  </thead>\n  <tbody>\n    <tr>\n      <th>setosa</th>\n      <td>1.460870</td>\n      <td>0.233333</td>\n      <td>5.006000</td>\n      <td>3.431250</td>\n    </tr>\n    <tr>\n      <th>versicolor</th>\n      <td>4.285714</td>\n      <td>1.326000</td>\n      <td>5.936000</td>\n      <td>2.770000</td>\n    </tr>\n    <tr>\n      <th>virginica</th>\n      <td>5.552000</td>\n      <td>2.026000</td>\n      <td>6.622449</td>\n      <td>2.955319</td>\n    </tr>\n  </tbody>\n</table>\n</div>"
     },
     "metadata": {},
     "execution_count": 24
    }
   ],
   "source": [
    "iris_species.pivot_table(list_features,'species')"
   ]
  },
  {
   "cell_type": "code",
   "execution_count": 31,
   "metadata": {},
   "outputs": [
    {
     "output_type": "execute_result",
     "data": {
      "text/plain": [
       "     survived  pclass     sex   age  sibsp  parch     fare embarked   class  \\\n",
       "0           0       3    male  22.0      1      0   7.2500        S   Third   \n",
       "1           1       1  female  38.0      1      0  71.2833        C   First   \n",
       "2           1       3  female  26.0      0      0   7.9250        S   Third   \n",
       "3           1       1  female  35.0      1      0  53.1000        S   First   \n",
       "4           0       3    male  35.0      0      0   8.0500        S   Third   \n",
       "..        ...     ...     ...   ...    ...    ...      ...      ...     ...   \n",
       "886         0       2    male  27.0      0      0  13.0000        S  Second   \n",
       "887         1       1  female  19.0      0      0  30.0000        S   First   \n",
       "888         0       3  female   NaN      1      2  23.4500        S   Third   \n",
       "889         1       1    male  26.0      0      0  30.0000        C   First   \n",
       "890         0       3    male  32.0      0      0   7.7500        Q   Third   \n",
       "\n",
       "       who  adult_male deck  embark_town alive  alone  \n",
       "0      man        True  NaN  Southampton    no  False  \n",
       "1    woman       False    C    Cherbourg   yes  False  \n",
       "2    woman       False  NaN  Southampton   yes   True  \n",
       "3    woman       False    C  Southampton   yes  False  \n",
       "4      man        True  NaN  Southampton    no   True  \n",
       "..     ...         ...  ...          ...   ...    ...  \n",
       "886    man        True  NaN  Southampton    no   True  \n",
       "887  woman       False    B  Southampton   yes   True  \n",
       "888  woman       False  NaN  Southampton    no  False  \n",
       "889    man        True    C    Cherbourg   yes   True  \n",
       "890    man        True  NaN   Queenstown    no   True  \n",
       "\n",
       "[891 rows x 15 columns]"
      ],
      "text/html": "<div>\n<style scoped>\n    .dataframe tbody tr th:only-of-type {\n        vertical-align: middle;\n    }\n\n    .dataframe tbody tr th {\n        vertical-align: top;\n    }\n\n    .dataframe thead th {\n        text-align: right;\n    }\n</style>\n<table border=\"1\" class=\"dataframe\">\n  <thead>\n    <tr style=\"text-align: right;\">\n      <th></th>\n      <th>survived</th>\n      <th>pclass</th>\n      <th>sex</th>\n      <th>age</th>\n      <th>sibsp</th>\n      <th>parch</th>\n      <th>fare</th>\n      <th>embarked</th>\n      <th>class</th>\n      <th>who</th>\n      <th>adult_male</th>\n      <th>deck</th>\n      <th>embark_town</th>\n      <th>alive</th>\n      <th>alone</th>\n    </tr>\n  </thead>\n  <tbody>\n    <tr>\n      <th>0</th>\n      <td>0</td>\n      <td>3</td>\n      <td>male</td>\n      <td>22.0</td>\n      <td>1</td>\n      <td>0</td>\n      <td>7.2500</td>\n      <td>S</td>\n      <td>Third</td>\n      <td>man</td>\n      <td>True</td>\n      <td>NaN</td>\n      <td>Southampton</td>\n      <td>no</td>\n      <td>False</td>\n    </tr>\n    <tr>\n      <th>1</th>\n      <td>1</td>\n      <td>1</td>\n      <td>female</td>\n      <td>38.0</td>\n      <td>1</td>\n      <td>0</td>\n      <td>71.2833</td>\n      <td>C</td>\n      <td>First</td>\n      <td>woman</td>\n      <td>False</td>\n      <td>C</td>\n      <td>Cherbourg</td>\n      <td>yes</td>\n      <td>False</td>\n    </tr>\n    <tr>\n      <th>2</th>\n      <td>1</td>\n      <td>3</td>\n      <td>female</td>\n      <td>26.0</td>\n      <td>0</td>\n      <td>0</td>\n      <td>7.9250</td>\n      <td>S</td>\n      <td>Third</td>\n      <td>woman</td>\n      <td>False</td>\n      <td>NaN</td>\n      <td>Southampton</td>\n      <td>yes</td>\n      <td>True</td>\n    </tr>\n    <tr>\n      <th>3</th>\n      <td>1</td>\n      <td>1</td>\n      <td>female</td>\n      <td>35.0</td>\n      <td>1</td>\n      <td>0</td>\n      <td>53.1000</td>\n      <td>S</td>\n      <td>First</td>\n      <td>woman</td>\n      <td>False</td>\n      <td>C</td>\n      <td>Southampton</td>\n      <td>yes</td>\n      <td>False</td>\n    </tr>\n    <tr>\n      <th>4</th>\n      <td>0</td>\n      <td>3</td>\n      <td>male</td>\n      <td>35.0</td>\n      <td>0</td>\n      <td>0</td>\n      <td>8.0500</td>\n      <td>S</td>\n      <td>Third</td>\n      <td>man</td>\n      <td>True</td>\n      <td>NaN</td>\n      <td>Southampton</td>\n      <td>no</td>\n      <td>True</td>\n    </tr>\n    <tr>\n      <th>...</th>\n      <td>...</td>\n      <td>...</td>\n      <td>...</td>\n      <td>...</td>\n      <td>...</td>\n      <td>...</td>\n      <td>...</td>\n      <td>...</td>\n      <td>...</td>\n      <td>...</td>\n      <td>...</td>\n      <td>...</td>\n      <td>...</td>\n      <td>...</td>\n      <td>...</td>\n    </tr>\n    <tr>\n      <th>886</th>\n      <td>0</td>\n      <td>2</td>\n      <td>male</td>\n      <td>27.0</td>\n      <td>0</td>\n      <td>0</td>\n      <td>13.0000</td>\n      <td>S</td>\n      <td>Second</td>\n      <td>man</td>\n      <td>True</td>\n      <td>NaN</td>\n      <td>Southampton</td>\n      <td>no</td>\n      <td>True</td>\n    </tr>\n    <tr>\n      <th>887</th>\n      <td>1</td>\n      <td>1</td>\n      <td>female</td>\n      <td>19.0</td>\n      <td>0</td>\n      <td>0</td>\n      <td>30.0000</td>\n      <td>S</td>\n      <td>First</td>\n      <td>woman</td>\n      <td>False</td>\n      <td>B</td>\n      <td>Southampton</td>\n      <td>yes</td>\n      <td>True</td>\n    </tr>\n    <tr>\n      <th>888</th>\n      <td>0</td>\n      <td>3</td>\n      <td>female</td>\n      <td>NaN</td>\n      <td>1</td>\n      <td>2</td>\n      <td>23.4500</td>\n      <td>S</td>\n      <td>Third</td>\n      <td>woman</td>\n      <td>False</td>\n      <td>NaN</td>\n      <td>Southampton</td>\n      <td>no</td>\n      <td>False</td>\n    </tr>\n    <tr>\n      <th>889</th>\n      <td>1</td>\n      <td>1</td>\n      <td>male</td>\n      <td>26.0</td>\n      <td>0</td>\n      <td>0</td>\n      <td>30.0000</td>\n      <td>C</td>\n      <td>First</td>\n      <td>man</td>\n      <td>True</td>\n      <td>C</td>\n      <td>Cherbourg</td>\n      <td>yes</td>\n      <td>True</td>\n    </tr>\n    <tr>\n      <th>890</th>\n      <td>0</td>\n      <td>3</td>\n      <td>male</td>\n      <td>32.0</td>\n      <td>0</td>\n      <td>0</td>\n      <td>7.7500</td>\n      <td>Q</td>\n      <td>Third</td>\n      <td>man</td>\n      <td>True</td>\n      <td>NaN</td>\n      <td>Queenstown</td>\n      <td>no</td>\n      <td>True</td>\n    </tr>\n  </tbody>\n</table>\n<p>891 rows × 15 columns</p>\n</div>"
     },
     "metadata": {},
     "execution_count": 31
    }
   ],
   "source": [
    "# 연습문제 2\n",
    "titanic = sns.load_dataset('titanic')\n",
    "titanic"
   ]
  },
  {
   "cell_type": "code",
   "execution_count": 32,
   "metadata": {},
   "outputs": [
    {
     "output_type": "execute_result",
     "data": {
      "text/plain": [
       "     survived  pclass     sex   age  sibsp  parch   fare embarked   class  \\\n",
       "886         0       2    male  27.0      0      0  13.00        S  Second   \n",
       "887         1       1  female  19.0      0      0  30.00        S   First   \n",
       "888         0       3  female   NaN      1      2  23.45        S   Third   \n",
       "889         1       1    male  26.0      0      0  30.00        C   First   \n",
       "890         0       3    male  32.0      0      0   7.75        Q   Third   \n",
       "\n",
       "       who  adult_male deck  embark_town alive  alone category1  \n",
       "886    man        True  NaN  Southampton    no   True      male  \n",
       "887  woman       False    B  Southampton   yes   True     child  \n",
       "888  woman       False  NaN  Southampton    no  False     child  \n",
       "889    man        True    C    Cherbourg   yes   True      male  \n",
       "890    man        True  NaN   Queenstown    no   True      male  "
      ],
      "text/html": "<div>\n<style scoped>\n    .dataframe tbody tr th:only-of-type {\n        vertical-align: middle;\n    }\n\n    .dataframe tbody tr th {\n        vertical-align: top;\n    }\n\n    .dataframe thead th {\n        text-align: right;\n    }\n</style>\n<table border=\"1\" class=\"dataframe\">\n  <thead>\n    <tr style=\"text-align: right;\">\n      <th></th>\n      <th>survived</th>\n      <th>pclass</th>\n      <th>sex</th>\n      <th>age</th>\n      <th>sibsp</th>\n      <th>parch</th>\n      <th>fare</th>\n      <th>embarked</th>\n      <th>class</th>\n      <th>who</th>\n      <th>adult_male</th>\n      <th>deck</th>\n      <th>embark_town</th>\n      <th>alive</th>\n      <th>alone</th>\n      <th>category1</th>\n    </tr>\n  </thead>\n  <tbody>\n    <tr>\n      <th>886</th>\n      <td>0</td>\n      <td>2</td>\n      <td>male</td>\n      <td>27.0</td>\n      <td>0</td>\n      <td>0</td>\n      <td>13.00</td>\n      <td>S</td>\n      <td>Second</td>\n      <td>man</td>\n      <td>True</td>\n      <td>NaN</td>\n      <td>Southampton</td>\n      <td>no</td>\n      <td>True</td>\n      <td>male</td>\n    </tr>\n    <tr>\n      <th>887</th>\n      <td>1</td>\n      <td>1</td>\n      <td>female</td>\n      <td>19.0</td>\n      <td>0</td>\n      <td>0</td>\n      <td>30.00</td>\n      <td>S</td>\n      <td>First</td>\n      <td>woman</td>\n      <td>False</td>\n      <td>B</td>\n      <td>Southampton</td>\n      <td>yes</td>\n      <td>True</td>\n      <td>child</td>\n    </tr>\n    <tr>\n      <th>888</th>\n      <td>0</td>\n      <td>3</td>\n      <td>female</td>\n      <td>NaN</td>\n      <td>1</td>\n      <td>2</td>\n      <td>23.45</td>\n      <td>S</td>\n      <td>Third</td>\n      <td>woman</td>\n      <td>False</td>\n      <td>NaN</td>\n      <td>Southampton</td>\n      <td>no</td>\n      <td>False</td>\n      <td>child</td>\n    </tr>\n    <tr>\n      <th>889</th>\n      <td>1</td>\n      <td>1</td>\n      <td>male</td>\n      <td>26.0</td>\n      <td>0</td>\n      <td>0</td>\n      <td>30.00</td>\n      <td>C</td>\n      <td>First</td>\n      <td>man</td>\n      <td>True</td>\n      <td>C</td>\n      <td>Cherbourg</td>\n      <td>yes</td>\n      <td>True</td>\n      <td>male</td>\n    </tr>\n    <tr>\n      <th>890</th>\n      <td>0</td>\n      <td>3</td>\n      <td>male</td>\n      <td>32.0</td>\n      <td>0</td>\n      <td>0</td>\n      <td>7.75</td>\n      <td>Q</td>\n      <td>Third</td>\n      <td>man</td>\n      <td>True</td>\n      <td>NaN</td>\n      <td>Queenstown</td>\n      <td>no</td>\n      <td>True</td>\n      <td>male</td>\n    </tr>\n  </tbody>\n</table>\n</div>"
     },
     "metadata": {},
     "execution_count": 32
    }
   ],
   "source": [
    "# 연습문제 2 - a\n",
    "titanic['category1'] = titanic.apply(lambda r: r.sex if r.age > 20 else 'child', axis = 1)\n",
    "titanic.tail()"
   ]
  },
  {
   "cell_type": "code",
   "execution_count": 33,
   "metadata": {},
   "outputs": [
    {
     "output_type": "execute_result",
     "data": {
      "text/plain": [
       "     survived  pclass     sex        age  sibsp  parch     fare embarked  \\\n",
       "0           0       3    male  22.000000      1      0   7.2500        S   \n",
       "1           1       1  female  38.000000      1      0  71.2833        C   \n",
       "2           1       3  female  26.000000      0      0   7.9250        S   \n",
       "3           1       1  female  35.000000      1      0  53.1000        S   \n",
       "4           0       3    male  35.000000      0      0   8.0500        S   \n",
       "..        ...     ...     ...        ...    ...    ...      ...      ...   \n",
       "886         0       2    male  27.000000      0      0  13.0000        S   \n",
       "887         1       1  female  19.000000      0      0  30.0000        S   \n",
       "888         0       3  female  29.699118      1      2  23.4500        S   \n",
       "889         1       1    male  26.000000      0      0  30.0000        C   \n",
       "890         0       3    male  32.000000      0      0   7.7500        Q   \n",
       "\n",
       "      class    who  adult_male deck  embark_town alive  alone category1  \n",
       "0     Third    man        True  NaN  Southampton    no  False      male  \n",
       "1     First  woman       False    C    Cherbourg   yes  False    female  \n",
       "2     Third  woman       False  NaN  Southampton   yes   True    female  \n",
       "3     First  woman       False    C  Southampton   yes  False    female  \n",
       "4     Third    man        True  NaN  Southampton    no   True      male  \n",
       "..      ...    ...         ...  ...          ...   ...    ...       ...  \n",
       "886  Second    man        True  NaN  Southampton    no   True      male  \n",
       "887   First  woman       False    B  Southampton   yes   True     child  \n",
       "888   Third  woman       False  NaN  Southampton    no  False     child  \n",
       "889   First    man        True    C    Cherbourg   yes   True      male  \n",
       "890   Third    man        True  NaN   Queenstown    no   True      male  \n",
       "\n",
       "[891 rows x 16 columns]"
      ],
      "text/html": "<div>\n<style scoped>\n    .dataframe tbody tr th:only-of-type {\n        vertical-align: middle;\n    }\n\n    .dataframe tbody tr th {\n        vertical-align: top;\n    }\n\n    .dataframe thead th {\n        text-align: right;\n    }\n</style>\n<table border=\"1\" class=\"dataframe\">\n  <thead>\n    <tr style=\"text-align: right;\">\n      <th></th>\n      <th>survived</th>\n      <th>pclass</th>\n      <th>sex</th>\n      <th>age</th>\n      <th>sibsp</th>\n      <th>parch</th>\n      <th>fare</th>\n      <th>embarked</th>\n      <th>class</th>\n      <th>who</th>\n      <th>adult_male</th>\n      <th>deck</th>\n      <th>embark_town</th>\n      <th>alive</th>\n      <th>alone</th>\n      <th>category1</th>\n    </tr>\n  </thead>\n  <tbody>\n    <tr>\n      <th>0</th>\n      <td>0</td>\n      <td>3</td>\n      <td>male</td>\n      <td>22.000000</td>\n      <td>1</td>\n      <td>0</td>\n      <td>7.2500</td>\n      <td>S</td>\n      <td>Third</td>\n      <td>man</td>\n      <td>True</td>\n      <td>NaN</td>\n      <td>Southampton</td>\n      <td>no</td>\n      <td>False</td>\n      <td>male</td>\n    </tr>\n    <tr>\n      <th>1</th>\n      <td>1</td>\n      <td>1</td>\n      <td>female</td>\n      <td>38.000000</td>\n      <td>1</td>\n      <td>0</td>\n      <td>71.2833</td>\n      <td>C</td>\n      <td>First</td>\n      <td>woman</td>\n      <td>False</td>\n      <td>C</td>\n      <td>Cherbourg</td>\n      <td>yes</td>\n      <td>False</td>\n      <td>female</td>\n    </tr>\n    <tr>\n      <th>2</th>\n      <td>1</td>\n      <td>3</td>\n      <td>female</td>\n      <td>26.000000</td>\n      <td>0</td>\n      <td>0</td>\n      <td>7.9250</td>\n      <td>S</td>\n      <td>Third</td>\n      <td>woman</td>\n      <td>False</td>\n      <td>NaN</td>\n      <td>Southampton</td>\n      <td>yes</td>\n      <td>True</td>\n      <td>female</td>\n    </tr>\n    <tr>\n      <th>3</th>\n      <td>1</td>\n      <td>1</td>\n      <td>female</td>\n      <td>35.000000</td>\n      <td>1</td>\n      <td>0</td>\n      <td>53.1000</td>\n      <td>S</td>\n      <td>First</td>\n      <td>woman</td>\n      <td>False</td>\n      <td>C</td>\n      <td>Southampton</td>\n      <td>yes</td>\n      <td>False</td>\n      <td>female</td>\n    </tr>\n    <tr>\n      <th>4</th>\n      <td>0</td>\n      <td>3</td>\n      <td>male</td>\n      <td>35.000000</td>\n      <td>0</td>\n      <td>0</td>\n      <td>8.0500</td>\n      <td>S</td>\n      <td>Third</td>\n      <td>man</td>\n      <td>True</td>\n      <td>NaN</td>\n      <td>Southampton</td>\n      <td>no</td>\n      <td>True</td>\n      <td>male</td>\n    </tr>\n    <tr>\n      <th>...</th>\n      <td>...</td>\n      <td>...</td>\n      <td>...</td>\n      <td>...</td>\n      <td>...</td>\n      <td>...</td>\n      <td>...</td>\n      <td>...</td>\n      <td>...</td>\n      <td>...</td>\n      <td>...</td>\n      <td>...</td>\n      <td>...</td>\n      <td>...</td>\n      <td>...</td>\n      <td>...</td>\n    </tr>\n    <tr>\n      <th>886</th>\n      <td>0</td>\n      <td>2</td>\n      <td>male</td>\n      <td>27.000000</td>\n      <td>0</td>\n      <td>0</td>\n      <td>13.0000</td>\n      <td>S</td>\n      <td>Second</td>\n      <td>man</td>\n      <td>True</td>\n      <td>NaN</td>\n      <td>Southampton</td>\n      <td>no</td>\n      <td>True</td>\n      <td>male</td>\n    </tr>\n    <tr>\n      <th>887</th>\n      <td>1</td>\n      <td>1</td>\n      <td>female</td>\n      <td>19.000000</td>\n      <td>0</td>\n      <td>0</td>\n      <td>30.0000</td>\n      <td>S</td>\n      <td>First</td>\n      <td>woman</td>\n      <td>False</td>\n      <td>B</td>\n      <td>Southampton</td>\n      <td>yes</td>\n      <td>True</td>\n      <td>child</td>\n    </tr>\n    <tr>\n      <th>888</th>\n      <td>0</td>\n      <td>3</td>\n      <td>female</td>\n      <td>29.699118</td>\n      <td>1</td>\n      <td>2</td>\n      <td>23.4500</td>\n      <td>S</td>\n      <td>Third</td>\n      <td>woman</td>\n      <td>False</td>\n      <td>NaN</td>\n      <td>Southampton</td>\n      <td>no</td>\n      <td>False</td>\n      <td>child</td>\n    </tr>\n    <tr>\n      <th>889</th>\n      <td>1</td>\n      <td>1</td>\n      <td>male</td>\n      <td>26.000000</td>\n      <td>0</td>\n      <td>0</td>\n      <td>30.0000</td>\n      <td>C</td>\n      <td>First</td>\n      <td>man</td>\n      <td>True</td>\n      <td>C</td>\n      <td>Cherbourg</td>\n      <td>yes</td>\n      <td>True</td>\n      <td>male</td>\n    </tr>\n    <tr>\n      <th>890</th>\n      <td>0</td>\n      <td>3</td>\n      <td>male</td>\n      <td>32.000000</td>\n      <td>0</td>\n      <td>0</td>\n      <td>7.7500</td>\n      <td>Q</td>\n      <td>Third</td>\n      <td>man</td>\n      <td>True</td>\n      <td>NaN</td>\n      <td>Queenstown</td>\n      <td>no</td>\n      <td>True</td>\n      <td>male</td>\n    </tr>\n  </tbody>\n</table>\n<p>891 rows × 16 columns</p>\n</div>"
     },
     "metadata": {},
     "execution_count": 33
    }
   ],
   "source": [
    "# 연습문제 2 - b\n",
    "titanic.age = titanic['age'].fillna(titanic['age'].mean())\n",
    "titanic"
   ]
  },
  {
   "cell_type": "code",
   "execution_count": 34,
   "metadata": {},
   "outputs": [
    {
     "output_type": "execute_result",
     "data": {
      "text/plain": [
       "                           survived\n",
       "sex    class  embark_town          \n",
       "female First  Cherbourg    0.976744\n",
       "              Queenstown   1.000000\n",
       "              Southampton  0.958333\n",
       "       Second Cherbourg    1.000000\n",
       "              Queenstown   1.000000\n",
       "              Southampton  0.910448\n",
       "       Third  Cherbourg    0.652174\n",
       "              Queenstown   0.727273\n",
       "              Southampton  0.375000\n",
       "male   First  Cherbourg    0.404762\n",
       "              Queenstown   0.000000\n",
       "              Southampton  0.354430\n",
       "       Second Cherbourg    0.200000\n",
       "              Queenstown   0.000000\n",
       "              Southampton  0.154639\n",
       "       Third  Cherbourg    0.232558\n",
       "              Queenstown   0.076923\n",
       "              Southampton  0.128302"
      ],
      "text/html": "<div>\n<style scoped>\n    .dataframe tbody tr th:only-of-type {\n        vertical-align: middle;\n    }\n\n    .dataframe tbody tr th {\n        vertical-align: top;\n    }\n\n    .dataframe thead th {\n        text-align: right;\n    }\n</style>\n<table border=\"1\" class=\"dataframe\">\n  <thead>\n    <tr style=\"text-align: right;\">\n      <th></th>\n      <th></th>\n      <th></th>\n      <th>survived</th>\n    </tr>\n    <tr>\n      <th>sex</th>\n      <th>class</th>\n      <th>embark_town</th>\n      <th></th>\n    </tr>\n  </thead>\n  <tbody>\n    <tr>\n      <th rowspan=\"9\" valign=\"top\">female</th>\n      <th rowspan=\"3\" valign=\"top\">First</th>\n      <th>Cherbourg</th>\n      <td>0.976744</td>\n    </tr>\n    <tr>\n      <th>Queenstown</th>\n      <td>1.000000</td>\n    </tr>\n    <tr>\n      <th>Southampton</th>\n      <td>0.958333</td>\n    </tr>\n    <tr>\n      <th rowspan=\"3\" valign=\"top\">Second</th>\n      <th>Cherbourg</th>\n      <td>1.000000</td>\n    </tr>\n    <tr>\n      <th>Queenstown</th>\n      <td>1.000000</td>\n    </tr>\n    <tr>\n      <th>Southampton</th>\n      <td>0.910448</td>\n    </tr>\n    <tr>\n      <th rowspan=\"3\" valign=\"top\">Third</th>\n      <th>Cherbourg</th>\n      <td>0.652174</td>\n    </tr>\n    <tr>\n      <th>Queenstown</th>\n      <td>0.727273</td>\n    </tr>\n    <tr>\n      <th>Southampton</th>\n      <td>0.375000</td>\n    </tr>\n    <tr>\n      <th rowspan=\"9\" valign=\"top\">male</th>\n      <th rowspan=\"3\" valign=\"top\">First</th>\n      <th>Cherbourg</th>\n      <td>0.404762</td>\n    </tr>\n    <tr>\n      <th>Queenstown</th>\n      <td>0.000000</td>\n    </tr>\n    <tr>\n      <th>Southampton</th>\n      <td>0.354430</td>\n    </tr>\n    <tr>\n      <th rowspan=\"3\" valign=\"top\">Second</th>\n      <th>Cherbourg</th>\n      <td>0.200000</td>\n    </tr>\n    <tr>\n      <th>Queenstown</th>\n      <td>0.000000</td>\n    </tr>\n    <tr>\n      <th>Southampton</th>\n      <td>0.154639</td>\n    </tr>\n    <tr>\n      <th rowspan=\"3\" valign=\"top\">Third</th>\n      <th>Cherbourg</th>\n      <td>0.232558</td>\n    </tr>\n    <tr>\n      <th>Queenstown</th>\n      <td>0.076923</td>\n    </tr>\n    <tr>\n      <th>Southampton</th>\n      <td>0.128302</td>\n    </tr>\n  </tbody>\n</table>\n</div>"
     },
     "metadata": {},
     "execution_count": 34
    }
   ],
   "source": [
    "# 연습문제 2 - c\n",
    "titanic.pivot_table('survived',['sex','class','embark_town'])"
   ]
  },
  {
   "cell_type": "code",
   "execution_count": 118,
   "metadata": {},
   "outputs": [
    {
     "output_type": "execute_result",
     "data": {
      "text/plain": [
       "        survived\n",
       "sex             \n",
       "female  0.742038\n",
       "male    0.188908"
      ],
      "text/html": "<div>\n<style scoped>\n    .dataframe tbody tr th:only-of-type {\n        vertical-align: middle;\n    }\n\n    .dataframe tbody tr th {\n        vertical-align: top;\n    }\n\n    .dataframe thead th {\n        text-align: right;\n    }\n</style>\n<table border=\"1\" class=\"dataframe\">\n  <thead>\n    <tr style=\"text-align: right;\">\n      <th></th>\n      <th>survived</th>\n    </tr>\n    <tr>\n      <th>sex</th>\n      <th></th>\n    </tr>\n  </thead>\n  <tbody>\n    <tr>\n      <th>female</th>\n      <td>0.742038</td>\n    </tr>\n    <tr>\n      <th>male</th>\n      <td>0.188908</td>\n    </tr>\n  </tbody>\n</table>\n</div>"
     },
     "metadata": {},
     "execution_count": 118
    }
   ],
   "source": [
    "# 성별 생존율\n",
    "titanic.pivot_table('survived','sex')"
   ]
  },
  {
   "cell_type": "code",
   "execution_count": 117,
   "metadata": {},
   "outputs": [
    {
     "output_type": "execute_result",
     "data": {
      "text/plain": [
       "        survived\n",
       "class           \n",
       "First   0.629630\n",
       "Second  0.472826\n",
       "Third   0.242363"
      ],
      "text/html": "<div>\n<style scoped>\n    .dataframe tbody tr th:only-of-type {\n        vertical-align: middle;\n    }\n\n    .dataframe tbody tr th {\n        vertical-align: top;\n    }\n\n    .dataframe thead th {\n        text-align: right;\n    }\n</style>\n<table border=\"1\" class=\"dataframe\">\n  <thead>\n    <tr style=\"text-align: right;\">\n      <th></th>\n      <th>survived</th>\n    </tr>\n    <tr>\n      <th>class</th>\n      <th></th>\n    </tr>\n  </thead>\n  <tbody>\n    <tr>\n      <th>First</th>\n      <td>0.629630</td>\n    </tr>\n    <tr>\n      <th>Second</th>\n      <td>0.472826</td>\n    </tr>\n    <tr>\n      <th>Third</th>\n      <td>0.242363</td>\n    </tr>\n  </tbody>\n</table>\n</div>"
     },
     "metadata": {},
     "execution_count": 117
    }
   ],
   "source": [
    "# 선실별 생존율\n",
    "titanic.pivot_table('survived','class')"
   ]
  },
  {
   "cell_type": "code",
   "execution_count": 116,
   "metadata": {},
   "outputs": [
    {
     "output_type": "execute_result",
     "data": {
      "text/plain": [
       "             survived\n",
       "embark_town          \n",
       "Cherbourg    0.553571\n",
       "Queenstown   0.389610\n",
       "Southampton  0.336957"
      ],
      "text/html": "<div>\n<style scoped>\n    .dataframe tbody tr th:only-of-type {\n        vertical-align: middle;\n    }\n\n    .dataframe tbody tr th {\n        vertical-align: top;\n    }\n\n    .dataframe thead th {\n        text-align: right;\n    }\n</style>\n<table border=\"1\" class=\"dataframe\">\n  <thead>\n    <tr style=\"text-align: right;\">\n      <th></th>\n      <th>survived</th>\n    </tr>\n    <tr>\n      <th>embark_town</th>\n      <th></th>\n    </tr>\n  </thead>\n  <tbody>\n    <tr>\n      <th>Cherbourg</th>\n      <td>0.553571</td>\n    </tr>\n    <tr>\n      <th>Queenstown</th>\n      <td>0.389610</td>\n    </tr>\n    <tr>\n      <th>Southampton</th>\n      <td>0.336957</td>\n    </tr>\n  </tbody>\n</table>\n</div>"
     },
     "metadata": {},
     "execution_count": 116
    }
   ],
   "source": [
    "# 출발지별 생존율\n",
    "titanic.pivot_table('survived','embark_town')"
   ]
  },
  {
   "cell_type": "code",
   "execution_count": 38,
   "metadata": {},
   "outputs": [
    {
     "output_type": "display_data",
     "data": {
      "text/plain": "<Figure size 432x288 with 1 Axes>",
      "image/svg+xml": "<?xml version=\"1.0\" encoding=\"utf-8\" standalone=\"no\"?>\r\n<!DOCTYPE svg PUBLIC \"-//W3C//DTD SVG 1.1//EN\"\r\n  \"http://www.w3.org/Graphics/SVG/1.1/DTD/svg11.dtd\">\r\n<!-- Created with matplotlib (https://matplotlib.org/) -->\r\n<svg height=\"262.7525pt\" version=\"1.1\" viewBox=\"0 0 383.359375 262.7525\" width=\"383.359375pt\" xmlns=\"http://www.w3.org/2000/svg\" xmlns:xlink=\"http://www.w3.org/1999/xlink\">\r\n <defs>\r\n  <style type=\"text/css\">\r\n*{stroke-linecap:butt;stroke-linejoin:round;}\r\n  </style>\r\n </defs>\r\n <g id=\"figure_1\">\r\n  <g id=\"patch_1\">\r\n   <path d=\"M 0 262.7525 \r\nL 383.359375 262.7525 \r\nL 383.359375 0 \r\nL 0 0 \r\nz\r\n\" style=\"fill:none;\"/>\r\n  </g>\r\n  <g id=\"axes_1\">\r\n   <g id=\"patch_2\">\r\n    <path d=\"M 41.359375 224.64 \r\nL 376.159375 224.64 \r\nL 376.159375 7.2 \r\nL 41.359375 7.2 \r\nz\r\n\" style=\"fill:#ffffff;\"/>\r\n   </g>\r\n   <g id=\"patch_3\">\r\n    <path clip-path=\"url(#pff74bdb2ee)\" d=\"M 58.099375 224.64 \r\nL 102.739375 224.64 \r\nL 102.739375 148.255925 \r\nL 58.099375 148.255925 \r\nz\r\n\" style=\"fill:#3274a1;\"/>\r\n   </g>\r\n   <g id=\"patch_4\">\r\n    <path clip-path=\"url(#pff74bdb2ee)\" d=\"M 225.499375 224.64 \r\nL 270.139375 224.64 \r\nL 270.139375 24.163404 \r\nL 225.499375 24.163404 \r\nz\r\n\" style=\"fill:#3274a1;\"/>\r\n   </g>\r\n   <g id=\"patch_5\">\r\n    <path clip-path=\"url(#pff74bdb2ee)\" d=\"M 102.739375 224.64 \r\nL 147.379375 224.64 \r\nL 147.379375 192.043175 \r\nL 102.739375 192.043175 \r\nz\r\n\" style=\"fill:#e1812c;\"/>\r\n   </g>\r\n   <g id=\"patch_6\">\r\n    <path clip-path=\"url(#pff74bdb2ee)\" d=\"M 270.139375 224.64 \r\nL 314.779375 224.64 \r\nL 314.779375 33.903158 \r\nL 270.139375 33.903158 \r\nz\r\n\" style=\"fill:#e1812c;\"/>\r\n   </g>\r\n   <g id=\"patch_7\">\r\n    <path clip-path=\"url(#pff74bdb2ee)\" d=\"M 147.379375 224.64 \r\nL 192.019375 224.64 \r\nL 192.019375 196.590926 \r\nL 147.379375 196.590926 \r\nz\r\n\" style=\"fill:#3a923a;\"/>\r\n   </g>\r\n   <g id=\"patch_8\">\r\n    <path clip-path=\"url(#pff74bdb2ee)\" d=\"M 314.779375 224.64 \r\nL 359.419375 224.64 \r\nL 359.419375 121.097143 \r\nL 314.779375 121.097143 \r\nz\r\n\" style=\"fill:#3a923a;\"/>\r\n   </g>\r\n   <g id=\"matplotlib.axis_1\">\r\n    <g id=\"xtick_1\">\r\n     <g id=\"line2d_1\">\r\n      <defs>\r\n       <path d=\"M 0 0 \r\nL 0 3.5 \r\n\" id=\"me799af6a9f\" style=\"stroke:#000000;stroke-width:0.8;\"/>\r\n      </defs>\r\n      <g>\r\n       <use style=\"stroke:#000000;stroke-width:0.8;\" x=\"125.059375\" xlink:href=\"#me799af6a9f\" y=\"224.64\"/>\r\n      </g>\r\n     </g>\r\n     <g id=\"text_1\">\r\n      <!-- male -->\r\n      <defs>\r\n       <path d=\"M 80.71875 0 \r\nL 72.953125 0 \r\nL 72.953125 29.4375 \r\nQ 72.953125 38.484375 70.234375 42.21875 \r\nQ 67.53125 45.953125 61.28125 45.953125 \r\nQ 56 45.953125 52.21875 40.984375 \r\nQ 48.4375 36.03125 48.4375 29.296875 \r\nL 48.4375 0 \r\nL 40.71875 0 \r\nL 40.71875 30.515625 \r\nQ 40.71875 45.953125 28.8125 45.953125 \r\nQ 23.390625 45.953125 19.765625 41.28125 \r\nQ 16.15625 36.625 16.15625 29.296875 \r\nL 16.15625 0 \r\nL 8.40625 0 \r\nL 8.40625 51.3125 \r\nL 16.15625 51.3125 \r\nL 16.15625 43.171875 \r\nL 16.359375 43.171875 \r\nQ 21.734375 52.484375 32.234375 52.484375 \r\nQ 37.203125 52.484375 41.1875 49.625 \r\nQ 45.171875 46.78125 46.734375 41.796875 \r\nQ 52.4375 52.484375 63.765625 52.484375 \r\nQ 80.71875 52.484375 80.71875 31.59375 \r\nz\r\n\" id=\"MalgunGothic-109\"/>\r\n       <path d=\"M 9.625 47.65625 \r\nQ 17.140625 52.484375 26.90625 52.484375 \r\nQ 44.78125 52.484375 44.78125 33.546875 \r\nL 44.78125 0 \r\nL 37.015625 0 \r\nL 37.015625 8.0625 \r\nL 36.71875 8.0625 \r\nQ 31.390625 -1.21875 20.953125 -1.21875 \r\nQ 13.421875 -1.21875 9 2.8125 \r\nQ 4.59375 6.84375 4.59375 13.578125 \r\nQ 4.59375 27.875 21.484375 30.21875 \r\nL 36.96875 32.46875 \r\nQ 36.96875 45.84375 26.3125 45.84375 \r\nQ 16.9375 45.84375 9.625 39.453125 \r\nz\r\nM 24.421875 24.359375 \r\nQ 18.40625 23.578125 15.515625 21.421875 \r\nQ 12.640625 19.28125 12.640625 14.109375 \r\nQ 12.640625 10.203125 15.40625 7.8125 \r\nQ 18.171875 5.421875 22.65625 5.421875 \r\nQ 28.859375 5.421875 32.90625 9.8125 \r\nQ 36.96875 14.203125 36.96875 20.84375 \r\nL 36.96875 26.03125 \r\nz\r\n\" id=\"MalgunGothic-97\"/>\r\n       <path d=\"M 8.453125 0 \r\nL 8.453125 75.921875 \r\nL 16.15625 75.921875 \r\nL 16.15625 0 \r\nz\r\n\" id=\"MalgunGothic-108\"/>\r\n       <path d=\"M 49.3125 23.734375 \r\nL 12.9375 23.734375 \r\nQ 13.1875 14.84375 17.703125 10.125 \r\nQ 22.21875 5.421875 29.828125 5.421875 \r\nQ 38.625 5.421875 45.84375 11.234375 \r\nL 45.84375 3.8125 \r\nQ 38.96875 -1.21875 28.03125 -1.21875 \r\nQ 17.1875 -1.21875 11.0625 5.875 \r\nQ 4.9375 12.984375 4.9375 25.53125 \r\nQ 4.9375 37.203125 11.671875 44.84375 \r\nQ 18.40625 52.484375 28.375 52.484375 \r\nQ 38.328125 52.484375 43.8125 45.96875 \r\nQ 49.3125 39.453125 49.3125 27.9375 \r\nz\r\nM 41.3125 30.5625 \r\nQ 41.3125 37.75 37.859375 41.796875 \r\nQ 34.421875 45.84375 28.265625 45.84375 \r\nQ 22.46875 45.84375 18.265625 41.671875 \r\nQ 14.0625 37.5 13.03125 30.5625 \r\nz\r\n\" id=\"MalgunGothic-101\"/>\r\n      </defs>\r\n      <g transform=\"translate(114.153906 239.232187)scale(0.1 -0.1)\">\r\n       <use xlink:href=\"#MalgunGothic-109\"/>\r\n       <use x=\"87.988281\" xlink:href=\"#MalgunGothic-97\"/>\r\n       <use x=\"139.990234\" xlink:href=\"#MalgunGothic-108\"/>\r\n       <use x=\"164.599609\" xlink:href=\"#MalgunGothic-101\"/>\r\n      </g>\r\n     </g>\r\n    </g>\r\n    <g id=\"xtick_2\">\r\n     <g id=\"line2d_2\">\r\n      <g>\r\n       <use style=\"stroke:#000000;stroke-width:0.8;\" x=\"292.459375\" xlink:href=\"#me799af6a9f\" y=\"224.64\"/>\r\n      </g>\r\n     </g>\r\n     <g id=\"text_2\">\r\n      <!-- female -->\r\n      <defs>\r\n       <path d=\"M 33.25 69.09375 \r\nQ 30.859375 70.40625 27.78125 70.40625 \r\nQ 19.09375 70.40625 19.09375 59.375 \r\nL 19.09375 51.3125 \r\nL 31.109375 51.3125 \r\nL 31.109375 44.625 \r\nL 19.09375 44.625 \r\nL 19.09375 0 \r\nL 11.46875 0 \r\nL 11.46875 44.625 \r\nL 2.6875 44.625 \r\nL 2.6875 51.3125 \r\nL 11.46875 51.3125 \r\nL 11.46875 59.765625 \r\nQ 11.46875 67.828125 16.03125 72.4375 \r\nQ 20.609375 77.046875 27.390625 77.046875 \r\nQ 31.15625 77.046875 33.25 76.171875 \r\nz\r\n\" id=\"MalgunGothic-102\"/>\r\n      </defs>\r\n      <g transform=\"translate(277.296094 239.232187)scale(0.1 -0.1)\">\r\n       <use xlink:href=\"#MalgunGothic-102\"/>\r\n       <use x=\"31.640625\" xlink:href=\"#MalgunGothic-101\"/>\r\n       <use x=\"85.15625\" xlink:href=\"#MalgunGothic-109\"/>\r\n       <use x=\"173.144531\" xlink:href=\"#MalgunGothic-97\"/>\r\n       <use x=\"225.146484\" xlink:href=\"#MalgunGothic-108\"/>\r\n       <use x=\"249.755859\" xlink:href=\"#MalgunGothic-101\"/>\r\n      </g>\r\n     </g>\r\n    </g>\r\n    <g id=\"text_3\">\r\n     <!-- sex -->\r\n     <defs>\r\n      <path d=\"M 5.171875 10.453125 \r\nQ 11.921875 5.46875 19.96875 5.46875 \r\nQ 30.90625 5.46875 30.90625 12.84375 \r\nQ 30.90625 16.015625 28.515625 18.09375 \r\nQ 26.125 20.171875 19.09375 22.796875 \r\nQ 10.984375 26.03125 8.125 29.34375 \r\nQ 5.28125 32.671875 5.28125 37.75 \r\nQ 5.28125 44.28125 10.9375 48.375 \r\nQ 16.609375 52.484375 24.75 52.484375 \r\nQ 31.296875 52.484375 36.578125 50.203125 \r\nL 36.578125 42.140625 \r\nQ 30.859375 45.84375 23.53125 45.84375 \r\nQ 18.75 45.84375 16.015625 43.71875 \r\nQ 13.28125 41.609375 13.28125 38.421875 \r\nQ 13.28125 35.015625 15.296875 33.203125 \r\nQ 17.328125 31.390625 24.125 28.71875 \r\nQ 33.296875 25.140625 36.078125 21.71875 \r\nQ 38.875 18.3125 38.875 13.578125 \r\nQ 38.875 6.734375 33.234375 2.75 \r\nQ 27.59375 -1.21875 18.796875 -1.21875 \r\nQ 10.84375 -1.21875 5.171875 1.90625 \r\nz\r\n\" id=\"MalgunGothic-115\"/>\r\n      <path d=\"M 45.0625 51.3125 \r\nL 27.875 25.25 \r\nL 44.828125 0 \r\nL 35.75 0 \r\nL 25.53125 16.84375 \r\nQ 24.421875 18.703125 23.296875 20.703125 \r\nL 23.046875 20.703125 \r\nQ 22.75 20.0625 20.75 16.84375 \r\nL 10.25 0 \r\nL 1.375 0 \r\nL 18.890625 25.09375 \r\nL 2.09375 51.3125 \r\nL 11.140625 51.3125 \r\nL 23.34375 29.640625 \r\nL 23.53125 29.640625 \r\nQ 23.828125 30.078125 25.640625 33.109375 \r\nL 36.625 51.3125 \r\nz\r\n\" id=\"MalgunGothic-120\"/>\r\n     </defs>\r\n     <g transform=\"translate(201.59375 253.188437)scale(0.1 -0.1)\">\r\n      <use xlink:href=\"#MalgunGothic-115\"/>\r\n      <use x=\"43.310547\" xlink:href=\"#MalgunGothic-101\"/>\r\n      <use x=\"96.826172\" xlink:href=\"#MalgunGothic-120\"/>\r\n     </g>\r\n    </g>\r\n   </g>\r\n   <g id=\"matplotlib.axis_2\">\r\n    <g id=\"ytick_1\">\r\n     <g id=\"line2d_3\">\r\n      <defs>\r\n       <path d=\"M 0 0 \r\nL -3.5 0 \r\n\" id=\"m45b68b7fb5\" style=\"stroke:#000000;stroke-width:0.8;\"/>\r\n      </defs>\r\n      <g>\r\n       <use style=\"stroke:#000000;stroke-width:0.8;\" x=\"41.359375\" xlink:href=\"#m45b68b7fb5\" y=\"224.64\"/>\r\n      </g>\r\n     </g>\r\n     <g id=\"text_4\">\r\n      <!-- 0.0 -->\r\n      <defs>\r\n       <path d=\"M 4.34375 34.46875 \r\nQ 4.34375 53.515625 10.546875 63.28125 \r\nQ 16.75 73.046875 28.421875 73.046875 \r\nQ 50.828125 73.046875 50.828125 36.234375 \r\nQ 50.828125 18.0625 44.59375 8.421875 \r\nQ 38.375 -1.21875 26.8125 -1.21875 \r\nQ 15.875 -1.21875 10.109375 8.125 \r\nQ 4.34375 17.484375 4.34375 34.46875 \r\nz\r\nM 12.25 34.859375 \r\nQ 12.25 5.375 27.640625 5.375 \r\nQ 42.921875 5.375 42.921875 35.296875 \r\nQ 42.921875 66.40625 28.03125 66.40625 \r\nQ 12.25 66.40625 12.25 34.859375 \r\nz\r\n\" id=\"MalgunGothic-48\"/>\r\n       <path d=\"M 5.5625 4.296875 \r\nQ 5.5625 6.59375 7.171875 8.171875 \r\nQ 8.796875 9.765625 10.9375 9.765625 \r\nQ 13.09375 9.765625 14.703125 8.171875 \r\nQ 16.3125 6.59375 16.3125 4.296875 \r\nQ 16.3125 2.15625 14.71875 0.515625 \r\nQ 13.140625 -1.125 10.9375 -1.125 \r\nQ 8.734375 -1.125 7.140625 0.453125 \r\nQ 5.5625 2.046875 5.5625 4.296875 \r\nz\r\n\" id=\"MalgunGothic-46\"/>\r\n      </defs>\r\n      <g transform=\"translate(21.15625 228.436094)scale(0.1 -0.1)\">\r\n       <use xlink:href=\"#MalgunGothic-48\"/>\r\n       <use x=\"55.078125\" xlink:href=\"#MalgunGothic-46\"/>\r\n       <use x=\"76.953125\" xlink:href=\"#MalgunGothic-48\"/>\r\n      </g>\r\n     </g>\r\n    </g>\r\n    <g id=\"ytick_2\">\r\n     <g id=\"line2d_4\">\r\n      <g>\r\n       <use style=\"stroke:#000000;stroke-width:0.8;\" x=\"41.359375\" xlink:href=\"#m45b68b7fb5\" y=\"183.222857\"/>\r\n      </g>\r\n     </g>\r\n     <g id=\"text_5\">\r\n      <!-- 0.2 -->\r\n      <defs>\r\n       <path d=\"M 39.359375 52.6875 \r\nQ 39.359375 59.125 35.546875 62.78125 \r\nQ 31.734375 66.453125 25.4375 66.453125 \r\nQ 20.953125 66.453125 16.453125 64.125 \r\nQ 11.96875 61.8125 8.34375 57.765625 \r\nL 8.34375 66.15625 \r\nQ 15.328125 73.046875 26.421875 73.046875 \r\nQ 35.640625 73.046875 41.28125 67.71875 \r\nQ 46.921875 62.40625 46.921875 53.375 \r\nQ 46.921875 45.609375 43.3125 39.765625 \r\nQ 39.703125 33.9375 31 27.734375 \r\nQ 22.796875 21.96875 19.59375 18.984375 \r\nQ 16.40625 16.015625 15.109375 13.34375 \r\nQ 13.8125 10.6875 13.8125 7.03125 \r\nL 48.6875 7.03125 \r\nL 48.6875 0 \r\nL 5.5625 0 \r\nL 5.5625 3.515625 \r\nQ 5.5625 9.421875 7.203125 13.59375 \r\nQ 8.84375 17.78125 12.671875 21.75 \r\nQ 16.5 25.734375 24.953125 31.59375 \r\nQ 32.671875 36.921875 36.015625 41.71875 \r\nQ 39.359375 46.53125 39.359375 52.6875 \r\nz\r\n\" id=\"MalgunGothic-50\"/>\r\n      </defs>\r\n      <g transform=\"translate(21.15625 187.018951)scale(0.1 -0.1)\">\r\n       <use xlink:href=\"#MalgunGothic-48\"/>\r\n       <use x=\"55.078125\" xlink:href=\"#MalgunGothic-46\"/>\r\n       <use x=\"76.953125\" xlink:href=\"#MalgunGothic-50\"/>\r\n      </g>\r\n     </g>\r\n    </g>\r\n    <g id=\"ytick_3\">\r\n     <g id=\"line2d_5\">\r\n      <g>\r\n       <use style=\"stroke:#000000;stroke-width:0.8;\" x=\"41.359375\" xlink:href=\"#m45b68b7fb5\" y=\"141.805714\"/>\r\n      </g>\r\n     </g>\r\n     <g id=\"text_6\">\r\n      <!-- 0.4 -->\r\n      <defs>\r\n       <path d=\"M 42.234375 71.875 \r\nL 42.234375 24.421875 \r\nL 51.703125 24.421875 \r\nL 51.703125 17.390625 \r\nL 42.234375 17.390625 \r\nL 42.234375 0 \r\nL 34.578125 0 \r\nL 34.578125 17.390625 \r\nL 0.78125 17.390625 \r\nL 0.78125 23.96875 \r\nQ 11.375 35.890625 20.234375 48.578125 \r\nQ 29.109375 61.28125 33.9375 71.875 \r\nz\r\nM 9.765625 24.421875 \r\nL 34.578125 24.421875 \r\nL 34.578125 59.859375 \r\nQ 25.203125 43.5625 14.984375 30.953125 \r\nz\r\n\" id=\"MalgunGothic-52\"/>\r\n      </defs>\r\n      <g transform=\"translate(21.15625 145.601808)scale(0.1 -0.1)\">\r\n       <use xlink:href=\"#MalgunGothic-48\"/>\r\n       <use x=\"55.078125\" xlink:href=\"#MalgunGothic-46\"/>\r\n       <use x=\"76.953125\" xlink:href=\"#MalgunGothic-52\"/>\r\n      </g>\r\n     </g>\r\n    </g>\r\n    <g id=\"ytick_4\">\r\n     <g id=\"line2d_6\">\r\n      <g>\r\n       <use style=\"stroke:#000000;stroke-width:0.8;\" x=\"41.359375\" xlink:href=\"#m45b68b7fb5\" y=\"100.388571\"/>\r\n      </g>\r\n     </g>\r\n     <g id=\"text_7\">\r\n      <!-- 0.6 -->\r\n      <defs>\r\n       <path d=\"M 46.578125 63.578125 \r\nQ 40.921875 66.40625 34.8125 66.40625 \r\nQ 24.859375 66.40625 19.1875 57.640625 \r\nQ 13.53125 48.875 13.578125 34.578125 \r\nL 13.8125 34.578125 \r\nQ 18.796875 44.875 30.28125 44.875 \r\nQ 39.796875 44.875 45.359375 38.71875 \r\nQ 50.921875 32.5625 50.921875 22.65625 \r\nQ 50.921875 12.453125 44.640625 5.609375 \r\nQ 38.375 -1.21875 28.515625 -1.21875 \r\nQ 17.4375 -1.21875 11.5 7.46875 \r\nQ 5.5625 16.15625 5.5625 31.546875 \r\nQ 5.5625 49.703125 13.234375 61.375 \r\nQ 20.90625 73.046875 34.71875 73.046875 \r\nQ 42.1875 73.046875 46.578125 71 \r\nz\r\nM 14.15625 23.53125 \r\nQ 14.15625 15.96875 18.203125 10.671875 \r\nQ 22.265625 5.375 28.8125 5.375 \r\nQ 35.109375 5.375 39.03125 10.078125 \r\nQ 42.96875 14.796875 42.96875 21.6875 \r\nQ 42.96875 29.5 39.203125 33.859375 \r\nQ 35.453125 38.234375 28.71875 38.234375 \r\nQ 22.5625 38.234375 18.359375 33.953125 \r\nQ 14.15625 29.6875 14.15625 23.53125 \r\nz\r\n\" id=\"MalgunGothic-54\"/>\r\n      </defs>\r\n      <g transform=\"translate(21.15625 104.184665)scale(0.1 -0.1)\">\r\n       <use xlink:href=\"#MalgunGothic-48\"/>\r\n       <use x=\"55.078125\" xlink:href=\"#MalgunGothic-46\"/>\r\n       <use x=\"76.953125\" xlink:href=\"#MalgunGothic-54\"/>\r\n      </g>\r\n     </g>\r\n    </g>\r\n    <g id=\"ytick_5\">\r\n     <g id=\"line2d_7\">\r\n      <g>\r\n       <use style=\"stroke:#000000;stroke-width:0.8;\" x=\"41.359375\" xlink:href=\"#m45b68b7fb5\" y=\"58.971429\"/>\r\n      </g>\r\n     </g>\r\n     <g id=\"text_8\">\r\n      <!-- 0.8 -->\r\n      <defs>\r\n       <path d=\"M 4.734375 20.015625 \r\nQ 4.734375 26.078125 8.421875 31.421875 \r\nQ 12.109375 36.765625 18.015625 38.96875 \r\nQ 13.375 41.359375 10.546875 45.546875 \r\nQ 7.71875 49.75 7.71875 54.6875 \r\nQ 7.71875 59.8125 10.296875 64.03125 \r\nQ 12.890625 68.265625 17.53125 70.65625 \r\nQ 22.171875 73.046875 27.78125 73.046875 \r\nQ 36.46875 73.046875 42.1875 67.84375 \r\nQ 47.90625 62.640625 47.90625 54.6875 \r\nQ 47.90625 49.703125 45.015625 45.53125 \r\nQ 42.140625 41.359375 37.703125 38.96875 \r\nQ 43.5625 36.71875 47.21875 31.390625 \r\nQ 50.875 26.078125 50.875 20.015625 \r\nQ 50.875 10.5 44.421875 4.640625 \r\nQ 37.984375 -1.21875 27.78125 -1.21875 \r\nQ 17.671875 -1.21875 11.203125 4.703125 \r\nQ 4.734375 10.640625 4.734375 20.015625 \r\nz\r\nM 12.640625 20.75 \r\nQ 12.640625 13.71875 16.890625 9.546875 \r\nQ 21.140625 5.375 27.828125 5.375 \r\nQ 34.46875 5.375 38.78125 9.671875 \r\nQ 43.109375 13.96875 43.109375 20.75 \r\nQ 43.109375 27.046875 38.78125 31.421875 \r\nQ 34.46875 35.796875 27.828125 35.796875 \r\nQ 21.4375 35.796875 17.03125 31.5625 \r\nQ 12.640625 27.34375 12.640625 20.75 \r\nz\r\nM 15.671875 54.046875 \r\nQ 15.671875 48.828125 19.28125 45.3125 \r\nQ 22.90625 41.796875 27.828125 41.796875 \r\nQ 32.765625 41.796875 36.40625 45.3125 \r\nQ 40.046875 48.828125 40.046875 54.046875 \r\nQ 40.046875 59.421875 36.578125 62.90625 \r\nQ 33.109375 66.40625 27.828125 66.40625 \r\nQ 22.65625 66.40625 19.15625 62.953125 \r\nQ 15.671875 59.515625 15.671875 54.046875 \r\nz\r\n\" id=\"MalgunGothic-56\"/>\r\n      </defs>\r\n      <g transform=\"translate(21.15625 62.767522)scale(0.1 -0.1)\">\r\n       <use xlink:href=\"#MalgunGothic-48\"/>\r\n       <use x=\"55.078125\" xlink:href=\"#MalgunGothic-46\"/>\r\n       <use x=\"76.953125\" xlink:href=\"#MalgunGothic-56\"/>\r\n      </g>\r\n     </g>\r\n    </g>\r\n    <g id=\"ytick_6\">\r\n     <g id=\"line2d_8\">\r\n      <g>\r\n       <use style=\"stroke:#000000;stroke-width:0.8;\" x=\"41.359375\" xlink:href=\"#m45b68b7fb5\" y=\"17.554286\"/>\r\n      </g>\r\n     </g>\r\n     <g id=\"text_9\">\r\n      <!-- 1.0 -->\r\n      <defs>\r\n       <path d=\"M 34.859375 0 \r\nL 27.09375 0 \r\nL 27.09375 62.0625 \r\nQ 24.859375 59.8125 19.78125 57.203125 \r\nQ 14.703125 54.59375 10.5 53.5625 \r\nL 10.5 61.859375 \r\nQ 15.875 63.375 22.015625 66.796875 \r\nQ 28.171875 70.21875 31.734375 73.4375 \r\nL 34.859375 73.4375 \r\nz\r\n\" id=\"MalgunGothic-49\"/>\r\n      </defs>\r\n      <g transform=\"translate(21.15625 21.350379)scale(0.1 -0.1)\">\r\n       <use xlink:href=\"#MalgunGothic-49\"/>\r\n       <use x=\"55.078125\" xlink:href=\"#MalgunGothic-46\"/>\r\n       <use x=\"76.953125\" xlink:href=\"#MalgunGothic-48\"/>\r\n      </g>\r\n     </g>\r\n    </g>\r\n    <g id=\"text_10\">\r\n     <!-- survived -->\r\n     <defs>\r\n      <path d=\"M 49.46875 0 \r\nL 41.703125 0 \r\nL 41.703125 8.109375 \r\nL 41.5 8.109375 \r\nQ 36.421875 -1.21875 25.6875 -1.21875 \r\nQ 7.328125 -1.21875 7.328125 20.65625 \r\nL 7.328125 51.3125 \r\nL 14.984375 51.3125 \r\nL 14.984375 21.921875 \r\nQ 14.984375 5.375 27.59375 5.375 \r\nQ 33.734375 5.375 37.71875 9.9375 \r\nQ 41.703125 14.5 41.703125 21.78125 \r\nL 41.703125 51.3125 \r\nL 49.46875 51.3125 \r\nz\r\n\" id=\"MalgunGothic-117\"/>\r\n      <path d=\"M 34.765625 43.359375 \r\nQ 32.5625 45.015625 28.5625 45.015625 \r\nQ 23.296875 45.015625 19.71875 39.890625 \r\nQ 16.15625 34.765625 16.15625 26.265625 \r\nL 16.15625 0 \r\nL 8.40625 0 \r\nL 8.40625 51.3125 \r\nL 16.15625 51.3125 \r\nL 16.15625 40.671875 \r\nL 16.359375 40.671875 \r\nQ 18.109375 46.09375 21.703125 49.140625 \r\nQ 25.296875 52.203125 29.734375 52.203125 \r\nQ 32.953125 52.203125 34.765625 51.515625 \r\nz\r\n\" id=\"MalgunGothic-114\"/>\r\n      <path d=\"M 48.1875 51.3125 \r\nL 27.640625 0 \r\nL 20.21875 0 \r\nL 0.734375 51.3125 \r\nL 9.28125 51.3125 \r\nL 22.515625 13.625 \r\nQ 23.921875 9.515625 24.3125 6.640625 \r\nL 24.5625 6.640625 \r\nQ 25.046875 10.453125 26.125 13.484375 \r\nL 40.046875 51.3125 \r\nz\r\n\" id=\"MalgunGothic-118\"/>\r\n      <path d=\"M 7.375 69.78125 \r\nQ 7.375 71.96875 8.828125 73.453125 \r\nQ 10.296875 74.953125 12.40625 74.953125 \r\nQ 14.59375 74.953125 16.078125 73.4375 \r\nQ 17.578125 71.921875 17.578125 69.78125 \r\nQ 17.578125 67.578125 16.078125 66.109375 \r\nQ 14.59375 64.65625 12.40625 64.65625 \r\nQ 10.296875 64.65625 8.828125 66.09375 \r\nQ 7.375 67.53125 7.375 69.78125 \r\nz\r\nM 8.453125 0 \r\nL 8.453125 51.3125 \r\nL 16.15625 51.3125 \r\nL 16.15625 0 \r\nz\r\n\" id=\"MalgunGothic-105\"/>\r\n      <path d=\"M 51.765625 0 \r\nL 44.09375 0 \r\nL 44.09375 8.84375 \r\nL 43.890625 8.84375 \r\nQ 38.1875 -1.21875 26.171875 -1.21875 \r\nQ 16.5 -1.21875 10.71875 5.6875 \r\nQ 4.9375 12.59375 4.9375 24.46875 \r\nQ 4.9375 37.109375 11.375 44.796875 \r\nQ 17.828125 52.484375 28.375 52.484375 \r\nQ 38.96875 52.484375 43.890625 44.09375 \r\nL 44.09375 44.09375 \r\nL 44.09375 75.921875 \r\nL 51.765625 75.921875 \r\nz\r\nM 44.09375 30.90625 \r\nQ 44.09375 37.15625 39.84375 41.546875 \r\nQ 35.59375 45.953125 29.25 45.953125 \r\nQ 21.625 45.953125 17.203125 40.265625 \r\nQ 12.796875 34.578125 12.796875 24.859375 \r\nQ 12.796875 16.015625 16.96875 10.6875 \r\nQ 21.140625 5.375 28.328125 5.375 \r\nQ 35.15625 5.375 39.625 10.40625 \r\nQ 44.09375 15.4375 44.09375 23.09375 \r\nz\r\n\" id=\"MalgunGothic-100\"/>\r\n     </defs>\r\n     <g transform=\"translate(14.792188 134.721562)rotate(-90)scale(0.1 -0.1)\">\r\n      <use xlink:href=\"#MalgunGothic-115\"/>\r\n      <use x=\"43.310547\" xlink:href=\"#MalgunGothic-117\"/>\r\n      <use x=\"101.123047\" xlink:href=\"#MalgunGothic-114\"/>\r\n      <use x=\"140.849609\" xlink:href=\"#MalgunGothic-118\"/>\r\n      <use x=\"189.580078\" xlink:href=\"#MalgunGothic-105\"/>\r\n      <use x=\"214.189453\" xlink:href=\"#MalgunGothic-118\"/>\r\n      <use x=\"262.294922\" xlink:href=\"#MalgunGothic-101\"/>\r\n      <use x=\"315.810547\" xlink:href=\"#MalgunGothic-100\"/>\r\n     </g>\r\n    </g>\r\n   </g>\r\n   <g id=\"line2d_9\">\r\n    <path clip-path=\"url(#pff74bdb2ee)\" d=\"M 80.419375 165.230164 \r\nL 80.419375 129.584262 \r\n\" style=\"fill:none;stroke:#424242;stroke-linecap:square;stroke-width:2.7;\"/>\r\n   </g>\r\n   <g id=\"line2d_10\">\r\n    <path clip-path=\"url(#pff74bdb2ee)\" d=\"M 247.819375 32.975562 \r\nL 247.819375 17.554286 \r\n\" style=\"fill:none;stroke:#424242;stroke-linecap:square;stroke-width:2.7;\"/>\r\n   </g>\r\n   <g id=\"line2d_11\">\r\n    <path clip-path=\"url(#pff74bdb2ee)\" d=\"M 125.059375 205.465397 \r\nL 125.059375 176.703492 \r\n\" style=\"fill:none;stroke:#424242;stroke-linecap:square;stroke-width:2.7;\"/>\r\n   </g>\r\n   <g id=\"line2d_12\">\r\n    <path clip-path=\"url(#pff74bdb2ee)\" d=\"M 292.459375 47.527218 \r\nL 292.459375 23.00391 \r\n\" style=\"fill:none;stroke:#424242;stroke-linecap:square;stroke-width:2.7;\"/>\r\n   </g>\r\n   <g id=\"line2d_13\">\r\n    <path clip-path=\"url(#pff74bdb2ee)\" d=\"M 169.699375 204.349181 \r\nL 169.699375 188.832672 \r\n\" style=\"fill:none;stroke:#424242;stroke-linecap:square;stroke-width:2.7;\"/>\r\n   </g>\r\n   <g id=\"line2d_14\">\r\n    <path clip-path=\"url(#pff74bdb2ee)\" d=\"M 337.099375 138.354286 \r\nL 337.099375 103.84 \r\n\" style=\"fill:none;stroke:#424242;stroke-linecap:square;stroke-width:2.7;\"/>\r\n   </g>\r\n   <g id=\"patch_9\">\r\n    <path d=\"M 41.359375 224.64 \r\nL 41.359375 7.2 \r\n\" style=\"fill:none;stroke:#000000;stroke-linecap:square;stroke-linejoin:miter;stroke-width:0.8;\"/>\r\n   </g>\r\n   <g id=\"patch_10\">\r\n    <path d=\"M 376.159375 224.64 \r\nL 376.159375 7.2 \r\n\" style=\"fill:none;stroke:#000000;stroke-linecap:square;stroke-linejoin:miter;stroke-width:0.8;\"/>\r\n   </g>\r\n   <g id=\"patch_11\">\r\n    <path d=\"M 41.359375 224.64 \r\nL 376.159375 224.64 \r\n\" style=\"fill:none;stroke:#000000;stroke-linecap:square;stroke-linejoin:miter;stroke-width:0.8;\"/>\r\n   </g>\r\n   <g id=\"patch_12\">\r\n    <path d=\"M 41.359375 7.2 \r\nL 376.159375 7.2 \r\n\" style=\"fill:none;stroke:#000000;stroke-linecap:square;stroke-linejoin:miter;stroke-width:0.8;\"/>\r\n   </g>\r\n   <g id=\"legend_1\">\r\n    <g id=\"patch_13\">\r\n     <path d=\"M 48.359375 75.025 \r\nL 113.659375 75.025 \r\nQ 115.659375 75.025 115.659375 73.025 \r\nL 115.659375 14.2 \r\nQ 115.659375 12.2 113.659375 12.2 \r\nL 48.359375 12.2 \r\nQ 46.359375 12.2 46.359375 14.2 \r\nL 46.359375 73.025 \r\nQ 46.359375 75.025 48.359375 75.025 \r\nz\r\n\" style=\"fill:#ffffff;opacity:0.8;stroke:#cccccc;stroke-linejoin:miter;\"/>\r\n    </g>\r\n    <g id=\"text_11\">\r\n     <!-- class -->\r\n     <defs>\r\n      <path d=\"M 43.171875 2.390625 \r\nQ 37.109375 -1.21875 29.25 -1.21875 \r\nQ 18.5 -1.21875 11.71875 5.8125 \r\nQ 4.9375 12.84375 4.9375 24.46875 \r\nQ 4.9375 37.203125 12.140625 44.84375 \r\nQ 19.34375 52.484375 31.390625 52.484375 \r\nQ 38.03125 52.484375 43.21875 50 \r\nL 43.21875 41.890625 \r\nQ 37.453125 45.953125 30.953125 45.953125 \r\nQ 23.09375 45.953125 17.9375 40.265625 \r\nQ 12.796875 34.578125 12.796875 25.140625 \r\nQ 12.796875 16.15625 17.5 10.765625 \r\nQ 22.21875 5.375 30.421875 5.375 \r\nQ 37.203125 5.375 43.171875 9.859375 \r\nz\r\n\" id=\"MalgunGothic-99\"/>\r\n     </defs>\r\n     <g transform=\"translate(70.484375 23.792187)scale(0.1 -0.1)\">\r\n      <use xlink:href=\"#MalgunGothic-99\"/>\r\n      <use x=\"47.265625\" xlink:href=\"#MalgunGothic-108\"/>\r\n      <use x=\"71.875\" xlink:href=\"#MalgunGothic-97\"/>\r\n      <use x=\"123.876953\" xlink:href=\"#MalgunGothic-115\"/>\r\n      <use x=\"167.1875\" xlink:href=\"#MalgunGothic-115\"/>\r\n     </g>\r\n    </g>\r\n    <g id=\"patch_14\">\r\n     <path d=\"M 50.359375 38.748437 \r\nL 70.359375 38.748437 \r\nL 70.359375 31.748437 \r\nL 50.359375 31.748437 \r\nz\r\n\" style=\"fill:#3274a1;\"/>\r\n    </g>\r\n    <g id=\"text_12\">\r\n     <!-- First -->\r\n     <defs>\r\n      <path d=\"M 45.65625 64.59375 \r\nL 17.390625 64.59375 \r\nL 17.390625 39.3125 \r\nL 43.5625 39.3125 \r\nL 43.5625 32.03125 \r\nL 17.390625 32.03125 \r\nL 17.390625 0 \r\nL 9.515625 0 \r\nL 9.515625 71.875 \r\nL 45.65625 71.875 \r\nz\r\n\" id=\"MalgunGothic-70\"/>\r\n      <path d=\"M 31.734375 0.484375 \r\nQ 28.8125 -1.125 24.265625 -1.125 \r\nQ 11.03125 -1.125 11.03125 13.765625 \r\nL 11.03125 44.625 \r\nL 2.15625 44.625 \r\nL 2.15625 51.3125 \r\nL 11.03125 51.3125 \r\nL 11.03125 63.921875 \r\nL 18.75 66.40625 \r\nL 18.75 51.3125 \r\nL 31.734375 51.3125 \r\nL 31.734375 44.625 \r\nL 18.75 44.625 \r\nL 18.75 15.1875 \r\nQ 18.75 9.765625 20.546875 7.609375 \r\nQ 22.359375 5.46875 26.421875 5.46875 \r\nQ 29.5 5.46875 31.734375 7.171875 \r\nz\r\n\" id=\"MalgunGothic-116\"/>\r\n     </defs>\r\n     <g transform=\"translate(78.359375 38.748437)scale(0.1 -0.1)\">\r\n      <use xlink:href=\"#MalgunGothic-70\"/>\r\n      <use x=\"49.853516\" xlink:href=\"#MalgunGothic-105\"/>\r\n      <use x=\"74.462891\" xlink:href=\"#MalgunGothic-114\"/>\r\n      <use x=\"110.564453\" xlink:href=\"#MalgunGothic-115\"/>\r\n      <use x=\"153.875\" xlink:href=\"#MalgunGothic-116\"/>\r\n     </g>\r\n    </g>\r\n    <g id=\"patch_15\">\r\n     <path d=\"M 50.359375 53.704687 \r\nL 70.359375 53.704687 \r\nL 70.359375 46.704687 \r\nL 50.359375 46.704687 \r\nz\r\n\" style=\"fill:#e1812c;\"/>\r\n    </g>\r\n    <g id=\"text_13\">\r\n     <!-- Second -->\r\n     <defs>\r\n      <path d=\"M 6.15625 12.453125 \r\nQ 9.46875 9.578125 15.0625 7.8125 \r\nQ 20.65625 6.0625 25.390625 6.0625 \r\nQ 41.0625 6.0625 41.0625 17.4375 \r\nQ 41.0625 20.703125 39.421875 23.1875 \r\nQ 37.796875 25.6875 35.15625 27.4375 \r\nQ 32.515625 29.203125 24.171875 33.5 \r\nQ 14.109375 38.671875 10.171875 43.03125 \r\nQ 6.25 47.40625 6.25 54 \r\nQ 6.25 62.796875 13.40625 67.921875 \r\nQ 20.5625 73.046875 31.0625 73.046875 \r\nQ 41.703125 73.046875 46.296875 70.515625 \r\nL 46.296875 61.375 \r\nQ 40.046875 65.71875 30.03125 65.71875 \r\nQ 23.1875 65.71875 18.859375 62.78125 \r\nQ 14.546875 59.859375 14.546875 54.6875 \r\nQ 14.546875 50 17.59375 47.046875 \r\nQ 20.65625 44.09375 30.28125 39.40625 \r\nQ 41.5 33.796875 45.40625 28.8125 \r\nQ 49.3125 23.828125 49.3125 18.015625 \r\nQ 49.3125 8.6875 42.578125 3.734375 \r\nQ 35.84375 -1.21875 23.921875 -1.21875 \r\nQ 20.171875 -1.21875 14.484375 -0.015625 \r\nQ 8.796875 1.171875 6.15625 2.9375 \r\nz\r\n\" id=\"MalgunGothic-83\"/>\r\n      <path d=\"M 4.9375 25 \r\nQ 4.9375 37.796875 11.890625 45.140625 \r\nQ 18.84375 52.484375 30.90625 52.484375 \r\nQ 42.140625 52.484375 48.609375 45.421875 \r\nQ 55.078125 38.375 55.078125 25.78125 \r\nQ 55.078125 13.578125 48.09375 6.171875 \r\nQ 41.109375 -1.21875 29.6875 -1.21875 \r\nQ 18.5 -1.21875 11.71875 6 \r\nQ 4.9375 13.234375 4.9375 25 \r\nz\r\nM 12.796875 25.34375 \r\nQ 12.796875 16.265625 17.546875 10.8125 \r\nQ 22.3125 5.375 30.21875 5.375 \r\nQ 38.421875 5.375 42.796875 10.625 \r\nQ 47.171875 15.875 47.171875 25.53125 \r\nQ 47.171875 35.25 42.765625 40.59375 \r\nQ 38.375 45.953125 30.21875 45.953125 \r\nQ 22.265625 45.953125 17.53125 40.421875 \r\nQ 12.796875 34.90625 12.796875 25.34375 \r\nz\r\n\" id=\"MalgunGothic-111\"/>\r\n      <path d=\"M 50.59375 0 \r\nL 42.828125 0 \r\nL 42.828125 29.296875 \r\nQ 42.828125 45.953125 30.671875 45.953125 \r\nQ 24.421875 45.953125 20.28125 41.234375 \r\nQ 16.15625 36.53125 16.15625 29.25 \r\nL 16.15625 0 \r\nL 8.40625 0 \r\nL 8.40625 51.3125 \r\nL 16.15625 51.3125 \r\nL 16.15625 42.71875 \r\nL 16.359375 42.71875 \r\nQ 22.125 52.484375 33.203125 52.484375 \r\nQ 41.65625 52.484375 46.125 47.0625 \r\nQ 50.59375 41.65625 50.59375 31.34375 \r\nz\r\n\" id=\"MalgunGothic-110\"/>\r\n     </defs>\r\n     <g transform=\"translate(78.359375 53.704687)scale(0.1 -0.1)\">\r\n      <use xlink:href=\"#MalgunGothic-83\"/>\r\n      <use x=\"54.296875\" xlink:href=\"#MalgunGothic-101\"/>\r\n      <use x=\"107.8125\" xlink:href=\"#MalgunGothic-99\"/>\r\n      <use x=\"155.078125\" xlink:href=\"#MalgunGothic-111\"/>\r\n      <use x=\"214.990234\" xlink:href=\"#MalgunGothic-110\"/>\r\n      <use x=\"272.802734\" xlink:href=\"#MalgunGothic-100\"/>\r\n     </g>\r\n    </g>\r\n    <g id=\"patch_16\">\r\n     <path d=\"M 50.359375 68.660937 \r\nL 70.359375 68.660937 \r\nL 70.359375 61.660937 \r\nL 50.359375 61.660937 \r\nz\r\n\" style=\"fill:#3a923a;\"/>\r\n    </g>\r\n    <g id=\"text_14\">\r\n     <!-- Third -->\r\n     <defs>\r\n      <path d=\"M 51.46875 64.59375 \r\nL 30.71875 64.59375 \r\nL 30.71875 0 \r\nL 22.75 0 \r\nL 22.75 64.59375 \r\nL 2.09375 64.59375 \r\nL 2.09375 71.875 \r\nL 51.46875 71.875 \r\nz\r\n\" id=\"MalgunGothic-84\"/>\r\n      <path d=\"M 50.59375 0 \r\nL 42.875 0 \r\nL 42.875 29.59375 \r\nQ 42.875 45.953125 30.671875 45.953125 \r\nQ 24.5625 45.953125 20.359375 41.203125 \r\nQ 16.15625 36.46875 16.15625 29.046875 \r\nL 16.15625 0 \r\nL 8.40625 0 \r\nL 8.40625 75.921875 \r\nL 16.15625 75.921875 \r\nL 16.15625 42.71875 \r\nL 16.359375 42.71875 \r\nQ 22.265625 52.484375 33.25 52.484375 \r\nQ 50.59375 52.484375 50.59375 31.59375 \r\nz\r\n\" id=\"MalgunGothic-104\"/>\r\n     </defs>\r\n     <g transform=\"translate(78.359375 68.660937)scale(0.1 -0.1)\">\r\n      <use xlink:href=\"#MalgunGothic-84\"/>\r\n      <use x=\"53.369141\" xlink:href=\"#MalgunGothic-104\"/>\r\n      <use x=\"111.230469\" xlink:href=\"#MalgunGothic-105\"/>\r\n      <use x=\"135.839844\" xlink:href=\"#MalgunGothic-114\"/>\r\n      <use x=\"169.816406\" xlink:href=\"#MalgunGothic-100\"/>\r\n     </g>\r\n    </g>\r\n   </g>\r\n  </g>\r\n </g>\r\n <defs>\r\n  <clipPath id=\"pff74bdb2ee\">\r\n   <rect height=\"217.44\" width=\"334.8\" x=\"41.359375\" y=\"7.2\"/>\r\n  </clipPath>\r\n </defs>\r\n</svg>\r\n",
      "image/png": "[encoded data removed]"
     },
     "metadata": {
      "needs_background": "light"
     }
    }
   ],
   "source": [
    "sns.barplot(x = 'sex',y = 'survived',hue='class',data=titanic)\n",
    "plt.show()"
   ]
  },
  {
   "cell_type": "code",
   "execution_count": 40,
   "metadata": {},
   "outputs": [],
   "source": [
    "# 연습문제 2 - d\n",
    "bins = [1, 20, 30, 50, 70, 100]\n",
    "labels = [\"미성년자\", \"청년\", \"중년\", \"장년\", \"노년\"]\n",
    "titanic['age_cat'] = pd.cut(titanic.age,bins,labels = labels)"
   ]
  },
  {
   "cell_type": "code",
   "execution_count": 41,
   "metadata": {},
   "outputs": [
    {
     "output_type": "execute_result",
     "data": {
      "text/plain": [
       "     survived  pclass     sex        age  sibsp  parch     fare embarked  \\\n",
       "0           0       3    male  22.000000      1      0   7.2500        S   \n",
       "1           1       1  female  38.000000      1      0  71.2833        C   \n",
       "2           1       3  female  26.000000      0      0   7.9250        S   \n",
       "3           1       1  female  35.000000      1      0  53.1000        S   \n",
       "4           0       3    male  35.000000      0      0   8.0500        S   \n",
       "..        ...     ...     ...        ...    ...    ...      ...      ...   \n",
       "886         0       2    male  27.000000      0      0  13.0000        S   \n",
       "887         1       1  female  19.000000      0      0  30.0000        S   \n",
       "888         0       3  female  29.699118      1      2  23.4500        S   \n",
       "889         1       1    male  26.000000      0      0  30.0000        C   \n",
       "890         0       3    male  32.000000      0      0   7.7500        Q   \n",
       "\n",
       "      class    who  adult_male deck  embark_town alive  alone category1  \\\n",
       "0     Third    man        True  NaN  Southampton    no  False      male   \n",
       "1     First  woman       False    C    Cherbourg   yes  False    female   \n",
       "2     Third  woman       False  NaN  Southampton   yes   True    female   \n",
       "3     First  woman       False    C  Southampton   yes  False    female   \n",
       "4     Third    man        True  NaN  Southampton    no   True      male   \n",
       "..      ...    ...         ...  ...          ...   ...    ...       ...   \n",
       "886  Second    man        True  NaN  Southampton    no   True      male   \n",
       "887   First  woman       False    B  Southampton   yes   True     child   \n",
       "888   Third  woman       False  NaN  Southampton    no  False     child   \n",
       "889   First    man        True    C    Cherbourg   yes   True      male   \n",
       "890   Third    man        True  NaN   Queenstown    no   True      male   \n",
       "\n",
       "    age_cat  \n",
       "0        청년  \n",
       "1        중년  \n",
       "2        청년  \n",
       "3        중년  \n",
       "4        중년  \n",
       "..      ...  \n",
       "886      청년  \n",
       "887    미성년자  \n",
       "888      청년  \n",
       "889      청년  \n",
       "890      중년  \n",
       "\n",
       "[891 rows x 17 columns]"
      ],
      "text/html": "<div>\n<style scoped>\n    .dataframe tbody tr th:only-of-type {\n        vertical-align: middle;\n    }\n\n    .dataframe tbody tr th {\n        vertical-align: top;\n    }\n\n    .dataframe thead th {\n        text-align: right;\n    }\n</style>\n<table border=\"1\" class=\"dataframe\">\n  <thead>\n    <tr style=\"text-align: right;\">\n      <th></th>\n      <th>survived</th>\n      <th>pclass</th>\n      <th>sex</th>\n      <th>age</th>\n      <th>sibsp</th>\n      <th>parch</th>\n      <th>fare</th>\n      <th>embarked</th>\n      <th>class</th>\n      <th>who</th>\n      <th>adult_male</th>\n      <th>deck</th>\n      <th>embark_town</th>\n      <th>alive</th>\n      <th>alone</th>\n      <th>category1</th>\n      <th>age_cat</th>\n    </tr>\n  </thead>\n  <tbody>\n    <tr>\n      <th>0</th>\n      <td>0</td>\n      <td>3</td>\n      <td>male</td>\n      <td>22.000000</td>\n      <td>1</td>\n      <td>0</td>\n      <td>7.2500</td>\n      <td>S</td>\n      <td>Third</td>\n      <td>man</td>\n      <td>True</td>\n      <td>NaN</td>\n      <td>Southampton</td>\n      <td>no</td>\n      <td>False</td>\n      <td>male</td>\n      <td>청년</td>\n    </tr>\n    <tr>\n      <th>1</th>\n      <td>1</td>\n      <td>1</td>\n      <td>female</td>\n      <td>38.000000</td>\n      <td>1</td>\n      <td>0</td>\n      <td>71.2833</td>\n      <td>C</td>\n      <td>First</td>\n      <td>woman</td>\n      <td>False</td>\n      <td>C</td>\n      <td>Cherbourg</td>\n      <td>yes</td>\n      <td>False</td>\n      <td>female</td>\n      <td>중년</td>\n    </tr>\n    <tr>\n      <th>2</th>\n      <td>1</td>\n      <td>3</td>\n      <td>female</td>\n      <td>26.000000</td>\n      <td>0</td>\n      <td>0</td>\n      <td>7.9250</td>\n      <td>S</td>\n      <td>Third</td>\n      <td>woman</td>\n      <td>False</td>\n      <td>NaN</td>\n      <td>Southampton</td>\n      <td>yes</td>\n      <td>True</td>\n      <td>female</td>\n      <td>청년</td>\n    </tr>\n    <tr>\n      <th>3</th>\n      <td>1</td>\n      <td>1</td>\n      <td>female</td>\n      <td>35.000000</td>\n      <td>1</td>\n      <td>0</td>\n      <td>53.1000</td>\n      <td>S</td>\n      <td>First</td>\n      <td>woman</td>\n      <td>False</td>\n      <td>C</td>\n      <td>Southampton</td>\n      <td>yes</td>\n      <td>False</td>\n      <td>female</td>\n      <td>중년</td>\n    </tr>\n    <tr>\n      <th>4</th>\n      <td>0</td>\n      <td>3</td>\n      <td>male</td>\n      <td>35.000000</td>\n      <td>0</td>\n      <td>0</td>\n      <td>8.0500</td>\n      <td>S</td>\n      <td>Third</td>\n      <td>man</td>\n      <td>True</td>\n      <td>NaN</td>\n      <td>Southampton</td>\n      <td>no</td>\n      <td>True</td>\n      <td>male</td>\n      <td>중년</td>\n    </tr>\n    <tr>\n      <th>...</th>\n      <td>...</td>\n      <td>...</td>\n      <td>...</td>\n      <td>...</td>\n      <td>...</td>\n      <td>...</td>\n      <td>...</td>\n      <td>...</td>\n      <td>...</td>\n      <td>...</td>\n      <td>...</td>\n      <td>...</td>\n      <td>...</td>\n      <td>...</td>\n      <td>...</td>\n      <td>...</td>\n      <td>...</td>\n    </tr>\n    <tr>\n      <th>886</th>\n      <td>0</td>\n      <td>2</td>\n      <td>male</td>\n      <td>27.000000</td>\n      <td>0</td>\n      <td>0</td>\n      <td>13.0000</td>\n      <td>S</td>\n      <td>Second</td>\n      <td>man</td>\n      <td>True</td>\n      <td>NaN</td>\n      <td>Southampton</td>\n      <td>no</td>\n      <td>True</td>\n      <td>male</td>\n      <td>청년</td>\n    </tr>\n    <tr>\n      <th>887</th>\n      <td>1</td>\n      <td>1</td>\n      <td>female</td>\n      <td>19.000000</td>\n      <td>0</td>\n      <td>0</td>\n      <td>30.0000</td>\n      <td>S</td>\n      <td>First</td>\n      <td>woman</td>\n      <td>False</td>\n      <td>B</td>\n      <td>Southampton</td>\n      <td>yes</td>\n      <td>True</td>\n      <td>child</td>\n      <td>미성년자</td>\n    </tr>\n    <tr>\n      <th>888</th>\n      <td>0</td>\n      <td>3</td>\n      <td>female</td>\n      <td>29.699118</td>\n      <td>1</td>\n      <td>2</td>\n      <td>23.4500</td>\n      <td>S</td>\n      <td>Third</td>\n      <td>woman</td>\n      <td>False</td>\n      <td>NaN</td>\n      <td>Southampton</td>\n      <td>no</td>\n      <td>False</td>\n      <td>child</td>\n      <td>청년</td>\n    </tr>\n    <tr>\n      <th>889</th>\n      <td>1</td>\n      <td>1</td>\n      <td>male</td>\n      <td>26.000000</td>\n      <td>0</td>\n      <td>0</td>\n      <td>30.0000</td>\n      <td>C</td>\n      <td>First</td>\n      <td>man</td>\n      <td>True</td>\n      <td>C</td>\n      <td>Cherbourg</td>\n      <td>yes</td>\n      <td>True</td>\n      <td>male</td>\n      <td>청년</td>\n    </tr>\n    <tr>\n      <th>890</th>\n      <td>0</td>\n      <td>3</td>\n      <td>male</td>\n      <td>32.000000</td>\n      <td>0</td>\n      <td>0</td>\n      <td>7.7500</td>\n      <td>Q</td>\n      <td>Third</td>\n      <td>man</td>\n      <td>True</td>\n      <td>NaN</td>\n      <td>Queenstown</td>\n      <td>no</td>\n      <td>True</td>\n      <td>male</td>\n      <td>중년</td>\n    </tr>\n  </tbody>\n</table>\n<p>891 rows × 17 columns</p>\n</div>"
     },
     "metadata": {},
     "execution_count": 41
    }
   ],
   "source": [
    "titanic"
   ]
  },
  {
   "cell_type": "code",
   "execution_count": 42,
   "metadata": {},
   "outputs": [
    {
     "output_type": "execute_result",
     "data": {
      "text/plain": [
       "         survived\n",
       "age_cat          \n",
       "미성년자     0.424242\n",
       "청년       0.334152\n",
       "중년       0.423237\n",
       "장년       0.355932\n",
       "노년       0.200000"
      ],
      "text/html": "<div>\n<style scoped>\n    .dataframe tbody tr th:only-of-type {\n        vertical-align: middle;\n    }\n\n    .dataframe tbody tr th {\n        vertical-align: top;\n    }\n\n    .dataframe thead th {\n        text-align: right;\n    }\n</style>\n<table border=\"1\" class=\"dataframe\">\n  <thead>\n    <tr style=\"text-align: right;\">\n      <th></th>\n      <th>survived</th>\n    </tr>\n    <tr>\n      <th>age_cat</th>\n      <th></th>\n    </tr>\n  </thead>\n  <tbody>\n    <tr>\n      <th>미성년자</th>\n      <td>0.424242</td>\n    </tr>\n    <tr>\n      <th>청년</th>\n      <td>0.334152</td>\n    </tr>\n    <tr>\n      <th>중년</th>\n      <td>0.423237</td>\n    </tr>\n    <tr>\n      <th>장년</th>\n      <td>0.355932</td>\n    </tr>\n    <tr>\n      <th>노년</th>\n      <td>0.200000</td>\n    </tr>\n  </tbody>\n</table>\n</div>"
     },
     "metadata": {},
     "execution_count": 42
    }
   ],
   "source": [
    "# 그룹별 생존율 \n",
    "titanic.pivot_table('survived','age_cat')"
   ]
  },
  {
   "cell_type": "code",
   "execution_count": 45,
   "metadata": {},
   "outputs": [
    {
     "output_type": "display_data",
     "data": {
      "text/plain": "<Figure size 432x288 with 1 Axes>",
      "image/svg+xml": "<?xml version=\"1.0\" encoding=\"utf-8\" standalone=\"no\"?>\r\n<!DOCTYPE svg PUBLIC \"-//W3C//DTD SVG 1.1//EN\"\r\n  \"http://www.w3.org/Graphics/SVG/1.1/DTD/svg11.dtd\">\r\n<!-- Created with matplotlib (https://matplotlib.org/) -->\r\n<svg height=\"262.7525pt\" version=\"1.1\" viewBox=\"0 0 410.15625 262.7525\" width=\"410.15625pt\" xmlns=\"http://www.w3.org/2000/svg\" xmlns:xlink=\"http://www.w3.org/1999/xlink\">\r\n <defs>\r\n  <style type=\"text/css\">\r\n*{stroke-linecap:butt;stroke-linejoin:round;}\r\n  </style>\r\n </defs>\r\n <g id=\"figure_1\">\r\n  <g id=\"patch_1\">\r\n   <path d=\"M 0 262.7525 \r\nL 410.15625 262.7525 \r\nL 410.15625 0 \r\nL 0 0 \r\nz\r\n\" style=\"fill:none;\"/>\r\n  </g>\r\n  <g id=\"axes_1\">\r\n   <g id=\"patch_2\">\r\n    <path d=\"M 68.15625 224.64 \r\nL 402.95625 224.64 \r\nL 402.95625 7.2 \r\nL 68.15625 7.2 \r\nz\r\n\" style=\"fill:#ffffff;\"/>\r\n   </g>\r\n   <g id=\"patch_3\">\r\n    <path clip-path=\"url(#p351da82cb1)\" d=\"M 68.15625 11.5488 \r\nL 293.610795 11.5488 \r\nL 293.610795 46.3392 \r\nL 68.15625 46.3392 \r\nz\r\n\" style=\"fill:#3274a1;\"/>\r\n   </g>\r\n   <g id=\"patch_4\">\r\n    <path clip-path=\"url(#p351da82cb1)\" d=\"M 68.15625 55.0368 \r\nL 245.734348 55.0368 \r\nL 245.734348 89.8272 \r\nL 68.15625 89.8272 \r\nz\r\n\" style=\"fill:#e1812c;\"/>\r\n   </g>\r\n   <g id=\"patch_5\">\r\n    <path clip-path=\"url(#p351da82cb1)\" d=\"M 68.15625 98.5248 \r\nL 293.076226 98.5248 \r\nL 293.076226 133.3152 \r\nL 68.15625 133.3152 \r\nz\r\n\" style=\"fill:#3a923a;\"/>\r\n   </g>\r\n   <g id=\"patch_6\">\r\n    <path clip-path=\"url(#p351da82cb1)\" d=\"M 68.15625 142.0128 \r\nL 257.308792 142.0128 \r\nL 257.308792 176.8032 \r\nL 68.15625 176.8032 \r\nz\r\n\" style=\"fill:#c03d3e;\"/>\r\n   </g>\r\n   <g id=\"patch_7\">\r\n    <path clip-path=\"url(#p351da82cb1)\" d=\"M 68.15625 185.5008 \r\nL 174.441964 185.5008 \r\nL 174.441964 220.2912 \r\nL 68.15625 220.2912 \r\nz\r\n\" style=\"fill:#9372b2;\"/>\r\n   </g>\r\n   <g id=\"matplotlib.axis_1\">\r\n    <g id=\"xtick_1\">\r\n     <g id=\"line2d_1\">\r\n      <defs>\r\n       <path d=\"M 0 0 \r\nL 0 3.5 \r\n\" id=\"m7f84520c6a\" style=\"stroke:#000000;stroke-width:0.8;\"/>\r\n      </defs>\r\n      <g>\r\n       <use style=\"stroke:#000000;stroke-width:0.8;\" x=\"68.15625\" xlink:href=\"#m7f84520c6a\" y=\"224.64\"/>\r\n      </g>\r\n     </g>\r\n     <g id=\"text_1\">\r\n      <!-- 0.0 -->\r\n      <defs>\r\n       <path d=\"M 4.34375 34.46875 \r\nQ 4.34375 53.515625 10.546875 63.28125 \r\nQ 16.75 73.046875 28.421875 73.046875 \r\nQ 50.828125 73.046875 50.828125 36.234375 \r\nQ 50.828125 18.0625 44.59375 8.421875 \r\nQ 38.375 -1.21875 26.8125 -1.21875 \r\nQ 15.875 -1.21875 10.109375 8.125 \r\nQ 4.34375 17.484375 4.34375 34.46875 \r\nz\r\nM 12.25 34.859375 \r\nQ 12.25 5.375 27.640625 5.375 \r\nQ 42.921875 5.375 42.921875 35.296875 \r\nQ 42.921875 66.40625 28.03125 66.40625 \r\nQ 12.25 66.40625 12.25 34.859375 \r\nz\r\n\" id=\"MalgunGothic-48\"/>\r\n       <path d=\"M 5.5625 4.296875 \r\nQ 5.5625 6.59375 7.171875 8.171875 \r\nQ 8.796875 9.765625 10.9375 9.765625 \r\nQ 13.09375 9.765625 14.703125 8.171875 \r\nQ 16.3125 6.59375 16.3125 4.296875 \r\nQ 16.3125 2.15625 14.71875 0.515625 \r\nQ 13.140625 -1.125 10.9375 -1.125 \r\nQ 8.734375 -1.125 7.140625 0.453125 \r\nQ 5.5625 2.046875 5.5625 4.296875 \r\nz\r\n\" id=\"MalgunGothic-46\"/>\r\n      </defs>\r\n      <g transform=\"translate(61.554688 239.232187)scale(0.1 -0.1)\">\r\n       <use xlink:href=\"#MalgunGothic-48\"/>\r\n       <use x=\"55.078125\" xlink:href=\"#MalgunGothic-46\"/>\r\n       <use x=\"76.953125\" xlink:href=\"#MalgunGothic-48\"/>\r\n      </g>\r\n     </g>\r\n    </g>\r\n    <g id=\"xtick_2\">\r\n     <g id=\"line2d_2\">\r\n      <g>\r\n       <use style=\"stroke:#000000;stroke-width:0.8;\" x=\"121.299107\" xlink:href=\"#m7f84520c6a\" y=\"224.64\"/>\r\n      </g>\r\n     </g>\r\n     <g id=\"text_2\">\r\n      <!-- 0.1 -->\r\n      <defs>\r\n       <path d=\"M 34.859375 0 \r\nL 27.09375 0 \r\nL 27.09375 62.0625 \r\nQ 24.859375 59.8125 19.78125 57.203125 \r\nQ 14.703125 54.59375 10.5 53.5625 \r\nL 10.5 61.859375 \r\nQ 15.875 63.375 22.015625 66.796875 \r\nQ 28.171875 70.21875 31.734375 73.4375 \r\nL 34.859375 73.4375 \r\nz\r\n\" id=\"MalgunGothic-49\"/>\r\n      </defs>\r\n      <g transform=\"translate(114.697545 239.232187)scale(0.1 -0.1)\">\r\n       <use xlink:href=\"#MalgunGothic-48\"/>\r\n       <use x=\"55.078125\" xlink:href=\"#MalgunGothic-46\"/>\r\n       <use x=\"76.953125\" xlink:href=\"#MalgunGothic-49\"/>\r\n      </g>\r\n     </g>\r\n    </g>\r\n    <g id=\"xtick_3\">\r\n     <g id=\"line2d_3\">\r\n      <g>\r\n       <use style=\"stroke:#000000;stroke-width:0.8;\" x=\"174.441964\" xlink:href=\"#m7f84520c6a\" y=\"224.64\"/>\r\n      </g>\r\n     </g>\r\n     <g id=\"text_3\">\r\n      <!-- 0.2 -->\r\n      <defs>\r\n       <path d=\"M 39.359375 52.6875 \r\nQ 39.359375 59.125 35.546875 62.78125 \r\nQ 31.734375 66.453125 25.4375 66.453125 \r\nQ 20.953125 66.453125 16.453125 64.125 \r\nQ 11.96875 61.8125 8.34375 57.765625 \r\nL 8.34375 66.15625 \r\nQ 15.328125 73.046875 26.421875 73.046875 \r\nQ 35.640625 73.046875 41.28125 67.71875 \r\nQ 46.921875 62.40625 46.921875 53.375 \r\nQ 46.921875 45.609375 43.3125 39.765625 \r\nQ 39.703125 33.9375 31 27.734375 \r\nQ 22.796875 21.96875 19.59375 18.984375 \r\nQ 16.40625 16.015625 15.109375 13.34375 \r\nQ 13.8125 10.6875 13.8125 7.03125 \r\nL 48.6875 7.03125 \r\nL 48.6875 0 \r\nL 5.5625 0 \r\nL 5.5625 3.515625 \r\nQ 5.5625 9.421875 7.203125 13.59375 \r\nQ 8.84375 17.78125 12.671875 21.75 \r\nQ 16.5 25.734375 24.953125 31.59375 \r\nQ 32.671875 36.921875 36.015625 41.71875 \r\nQ 39.359375 46.53125 39.359375 52.6875 \r\nz\r\n\" id=\"MalgunGothic-50\"/>\r\n      </defs>\r\n      <g transform=\"translate(167.840402 239.232187)scale(0.1 -0.1)\">\r\n       <use xlink:href=\"#MalgunGothic-48\"/>\r\n       <use x=\"55.078125\" xlink:href=\"#MalgunGothic-46\"/>\r\n       <use x=\"76.953125\" xlink:href=\"#MalgunGothic-50\"/>\r\n      </g>\r\n     </g>\r\n    </g>\r\n    <g id=\"xtick_4\">\r\n     <g id=\"line2d_4\">\r\n      <g>\r\n       <use style=\"stroke:#000000;stroke-width:0.8;\" x=\"227.584821\" xlink:href=\"#m7f84520c6a\" y=\"224.64\"/>\r\n      </g>\r\n     </g>\r\n     <g id=\"text_4\">\r\n      <!-- 0.3 -->\r\n      <defs>\r\n       <path d=\"M 6.5 11.234375 \r\nQ 13.921875 5.375 23.09375 5.375 \r\nQ 30.609375 5.375 35.21875 9.171875 \r\nQ 39.84375 12.984375 39.84375 19.484375 \r\nQ 39.84375 33.890625 19.578125 33.890625 \r\nL 13.625 33.890625 \r\nL 13.625 40.484375 \r\nL 19.28125 40.484375 \r\nQ 37.3125 40.484375 37.3125 53.953125 \r\nQ 37.3125 66.40625 23.578125 66.40625 \r\nQ 15.96875 66.40625 9.28125 61.1875 \r\nL 9.28125 68.953125 \r\nQ 16.109375 73.046875 25.53125 73.046875 \r\nQ 34.125 73.046875 39.671875 68.3125 \r\nQ 45.21875 63.578125 45.21875 55.953125 \r\nQ 45.21875 41.84375 30.8125 37.640625 \r\nL 30.8125 37.5 \r\nQ 38.578125 36.8125 43.1875 32.078125 \r\nQ 47.796875 27.34375 47.796875 20.3125 \r\nQ 47.796875 10.5 40.6875 4.640625 \r\nQ 33.59375 -1.21875 22.65625 -1.21875 \r\nQ 12.59375 -1.21875 6.5 2.640625 \r\nz\r\n\" id=\"MalgunGothic-51\"/>\r\n      </defs>\r\n      <g transform=\"translate(220.983259 239.232187)scale(0.1 -0.1)\">\r\n       <use xlink:href=\"#MalgunGothic-48\"/>\r\n       <use x=\"55.078125\" xlink:href=\"#MalgunGothic-46\"/>\r\n       <use x=\"76.953125\" xlink:href=\"#MalgunGothic-51\"/>\r\n      </g>\r\n     </g>\r\n    </g>\r\n    <g id=\"xtick_5\">\r\n     <g id=\"line2d_5\">\r\n      <g>\r\n       <use style=\"stroke:#000000;stroke-width:0.8;\" x=\"280.727679\" xlink:href=\"#m7f84520c6a\" y=\"224.64\"/>\r\n      </g>\r\n     </g>\r\n     <g id=\"text_5\">\r\n      <!-- 0.4 -->\r\n      <defs>\r\n       <path d=\"M 42.234375 71.875 \r\nL 42.234375 24.421875 \r\nL 51.703125 24.421875 \r\nL 51.703125 17.390625 \r\nL 42.234375 17.390625 \r\nL 42.234375 0 \r\nL 34.578125 0 \r\nL 34.578125 17.390625 \r\nL 0.78125 17.390625 \r\nL 0.78125 23.96875 \r\nQ 11.375 35.890625 20.234375 48.578125 \r\nQ 29.109375 61.28125 33.9375 71.875 \r\nz\r\nM 9.765625 24.421875 \r\nL 34.578125 24.421875 \r\nL 34.578125 59.859375 \r\nQ 25.203125 43.5625 14.984375 30.953125 \r\nz\r\n\" id=\"MalgunGothic-52\"/>\r\n      </defs>\r\n      <g transform=\"translate(274.126116 239.232187)scale(0.1 -0.1)\">\r\n       <use xlink:href=\"#MalgunGothic-48\"/>\r\n       <use x=\"55.078125\" xlink:href=\"#MalgunGothic-46\"/>\r\n       <use x=\"76.953125\" xlink:href=\"#MalgunGothic-52\"/>\r\n      </g>\r\n     </g>\r\n    </g>\r\n    <g id=\"xtick_6\">\r\n     <g id=\"line2d_6\">\r\n      <g>\r\n       <use style=\"stroke:#000000;stroke-width:0.8;\" x=\"333.870536\" xlink:href=\"#m7f84520c6a\" y=\"224.64\"/>\r\n      </g>\r\n     </g>\r\n     <g id=\"text_6\">\r\n      <!-- 0.5 -->\r\n      <defs>\r\n       <path d=\"M 48 21.921875 \r\nQ 48 11.28125 41.1875 5.03125 \r\nQ 34.375 -1.21875 22.953125 -1.21875 \r\nQ 12.9375 -1.21875 8.0625 1.765625 \r\nL 8.0625 10.15625 \r\nQ 15.53125 5.375 23.046875 5.375 \r\nQ 30.765625 5.375 35.46875 9.84375 \r\nQ 40.1875 14.3125 40.1875 21.4375 \r\nQ 40.1875 28.71875 35.390625 32.6875 \r\nQ 30.609375 36.671875 21.578125 36.671875 \r\nQ 15.53125 36.671875 9.421875 35.9375 \r\nL 11.859375 71.875 \r\nL 44.828125 71.875 \r\nL 44.828125 64.796875 \r\nL 18.84375 64.796875 \r\nL 17.28125 43.171875 \r\nQ 21.046875 43.5 24.171875 43.5 \r\nQ 35.359375 43.5 41.671875 37.71875 \r\nQ 48 31.9375 48 21.921875 \r\nz\r\n\" id=\"MalgunGothic-53\"/>\r\n      </defs>\r\n      <g transform=\"translate(327.268973 239.232187)scale(0.1 -0.1)\">\r\n       <use xlink:href=\"#MalgunGothic-48\"/>\r\n       <use x=\"55.078125\" xlink:href=\"#MalgunGothic-46\"/>\r\n       <use x=\"76.953125\" xlink:href=\"#MalgunGothic-53\"/>\r\n      </g>\r\n     </g>\r\n    </g>\r\n    <g id=\"xtick_7\">\r\n     <g id=\"line2d_7\">\r\n      <g>\r\n       <use style=\"stroke:#000000;stroke-width:0.8;\" x=\"387.013393\" xlink:href=\"#m7f84520c6a\" y=\"224.64\"/>\r\n      </g>\r\n     </g>\r\n     <g id=\"text_7\">\r\n      <!-- 0.6 -->\r\n      <defs>\r\n       <path d=\"M 46.578125 63.578125 \r\nQ 40.921875 66.40625 34.8125 66.40625 \r\nQ 24.859375 66.40625 19.1875 57.640625 \r\nQ 13.53125 48.875 13.578125 34.578125 \r\nL 13.8125 34.578125 \r\nQ 18.796875 44.875 30.28125 44.875 \r\nQ 39.796875 44.875 45.359375 38.71875 \r\nQ 50.921875 32.5625 50.921875 22.65625 \r\nQ 50.921875 12.453125 44.640625 5.609375 \r\nQ 38.375 -1.21875 28.515625 -1.21875 \r\nQ 17.4375 -1.21875 11.5 7.46875 \r\nQ 5.5625 16.15625 5.5625 31.546875 \r\nQ 5.5625 49.703125 13.234375 61.375 \r\nQ 20.90625 73.046875 34.71875 73.046875 \r\nQ 42.1875 73.046875 46.578125 71 \r\nz\r\nM 14.15625 23.53125 \r\nQ 14.15625 15.96875 18.203125 10.671875 \r\nQ 22.265625 5.375 28.8125 5.375 \r\nQ 35.109375 5.375 39.03125 10.078125 \r\nQ 42.96875 14.796875 42.96875 21.6875 \r\nQ 42.96875 29.5 39.203125 33.859375 \r\nQ 35.453125 38.234375 28.71875 38.234375 \r\nQ 22.5625 38.234375 18.359375 33.953125 \r\nQ 14.15625 29.6875 14.15625 23.53125 \r\nz\r\n\" id=\"MalgunGothic-54\"/>\r\n      </defs>\r\n      <g transform=\"translate(380.41183 239.232187)scale(0.1 -0.1)\">\r\n       <use xlink:href=\"#MalgunGothic-48\"/>\r\n       <use x=\"55.078125\" xlink:href=\"#MalgunGothic-46\"/>\r\n       <use x=\"76.953125\" xlink:href=\"#MalgunGothic-54\"/>\r\n      </g>\r\n     </g>\r\n    </g>\r\n    <g id=\"text_8\">\r\n     <!-- survived -->\r\n     <defs>\r\n      <path d=\"M 5.171875 10.453125 \r\nQ 11.921875 5.46875 19.96875 5.46875 \r\nQ 30.90625 5.46875 30.90625 12.84375 \r\nQ 30.90625 16.015625 28.515625 18.09375 \r\nQ 26.125 20.171875 19.09375 22.796875 \r\nQ 10.984375 26.03125 8.125 29.34375 \r\nQ 5.28125 32.671875 5.28125 37.75 \r\nQ 5.28125 44.28125 10.9375 48.375 \r\nQ 16.609375 52.484375 24.75 52.484375 \r\nQ 31.296875 52.484375 36.578125 50.203125 \r\nL 36.578125 42.140625 \r\nQ 30.859375 45.84375 23.53125 45.84375 \r\nQ 18.75 45.84375 16.015625 43.71875 \r\nQ 13.28125 41.609375 13.28125 38.421875 \r\nQ 13.28125 35.015625 15.296875 33.203125 \r\nQ 17.328125 31.390625 24.125 28.71875 \r\nQ 33.296875 25.140625 36.078125 21.71875 \r\nQ 38.875 18.3125 38.875 13.578125 \r\nQ 38.875 6.734375 33.234375 2.75 \r\nQ 27.59375 -1.21875 18.796875 -1.21875 \r\nQ 10.84375 -1.21875 5.171875 1.90625 \r\nz\r\n\" id=\"MalgunGothic-115\"/>\r\n      <path d=\"M 49.46875 0 \r\nL 41.703125 0 \r\nL 41.703125 8.109375 \r\nL 41.5 8.109375 \r\nQ 36.421875 -1.21875 25.6875 -1.21875 \r\nQ 7.328125 -1.21875 7.328125 20.65625 \r\nL 7.328125 51.3125 \r\nL 14.984375 51.3125 \r\nL 14.984375 21.921875 \r\nQ 14.984375 5.375 27.59375 5.375 \r\nQ 33.734375 5.375 37.71875 9.9375 \r\nQ 41.703125 14.5 41.703125 21.78125 \r\nL 41.703125 51.3125 \r\nL 49.46875 51.3125 \r\nz\r\n\" id=\"MalgunGothic-117\"/>\r\n      <path d=\"M 34.765625 43.359375 \r\nQ 32.5625 45.015625 28.5625 45.015625 \r\nQ 23.296875 45.015625 19.71875 39.890625 \r\nQ 16.15625 34.765625 16.15625 26.265625 \r\nL 16.15625 0 \r\nL 8.40625 0 \r\nL 8.40625 51.3125 \r\nL 16.15625 51.3125 \r\nL 16.15625 40.671875 \r\nL 16.359375 40.671875 \r\nQ 18.109375 46.09375 21.703125 49.140625 \r\nQ 25.296875 52.203125 29.734375 52.203125 \r\nQ 32.953125 52.203125 34.765625 51.515625 \r\nz\r\n\" id=\"MalgunGothic-114\"/>\r\n      <path d=\"M 48.1875 51.3125 \r\nL 27.640625 0 \r\nL 20.21875 0 \r\nL 0.734375 51.3125 \r\nL 9.28125 51.3125 \r\nL 22.515625 13.625 \r\nQ 23.921875 9.515625 24.3125 6.640625 \r\nL 24.5625 6.640625 \r\nQ 25.046875 10.453125 26.125 13.484375 \r\nL 40.046875 51.3125 \r\nz\r\n\" id=\"MalgunGothic-118\"/>\r\n      <path d=\"M 7.375 69.78125 \r\nQ 7.375 71.96875 8.828125 73.453125 \r\nQ 10.296875 74.953125 12.40625 74.953125 \r\nQ 14.59375 74.953125 16.078125 73.4375 \r\nQ 17.578125 71.921875 17.578125 69.78125 \r\nQ 17.578125 67.578125 16.078125 66.109375 \r\nQ 14.59375 64.65625 12.40625 64.65625 \r\nQ 10.296875 64.65625 8.828125 66.09375 \r\nQ 7.375 67.53125 7.375 69.78125 \r\nz\r\nM 8.453125 0 \r\nL 8.453125 51.3125 \r\nL 16.15625 51.3125 \r\nL 16.15625 0 \r\nz\r\n\" id=\"MalgunGothic-105\"/>\r\n      <path d=\"M 49.3125 23.734375 \r\nL 12.9375 23.734375 \r\nQ 13.1875 14.84375 17.703125 10.125 \r\nQ 22.21875 5.421875 29.828125 5.421875 \r\nQ 38.625 5.421875 45.84375 11.234375 \r\nL 45.84375 3.8125 \r\nQ 38.96875 -1.21875 28.03125 -1.21875 \r\nQ 17.1875 -1.21875 11.0625 5.875 \r\nQ 4.9375 12.984375 4.9375 25.53125 \r\nQ 4.9375 37.203125 11.671875 44.84375 \r\nQ 18.40625 52.484375 28.375 52.484375 \r\nQ 38.328125 52.484375 43.8125 45.96875 \r\nQ 49.3125 39.453125 49.3125 27.9375 \r\nz\r\nM 41.3125 30.5625 \r\nQ 41.3125 37.75 37.859375 41.796875 \r\nQ 34.421875 45.84375 28.265625 45.84375 \r\nQ 22.46875 45.84375 18.265625 41.671875 \r\nQ 14.0625 37.5 13.03125 30.5625 \r\nz\r\n\" id=\"MalgunGothic-101\"/>\r\n      <path d=\"M 51.765625 0 \r\nL 44.09375 0 \r\nL 44.09375 8.84375 \r\nL 43.890625 8.84375 \r\nQ 38.1875 -1.21875 26.171875 -1.21875 \r\nQ 16.5 -1.21875 10.71875 5.6875 \r\nQ 4.9375 12.59375 4.9375 24.46875 \r\nQ 4.9375 37.109375 11.375 44.796875 \r\nQ 17.828125 52.484375 28.375 52.484375 \r\nQ 38.96875 52.484375 43.890625 44.09375 \r\nL 44.09375 44.09375 \r\nL 44.09375 75.921875 \r\nL 51.765625 75.921875 \r\nz\r\nM 44.09375 30.90625 \r\nQ 44.09375 37.15625 39.84375 41.546875 \r\nQ 35.59375 45.953125 29.25 45.953125 \r\nQ 21.625 45.953125 17.203125 40.265625 \r\nQ 12.796875 34.578125 12.796875 24.859375 \r\nQ 12.796875 16.015625 16.96875 10.6875 \r\nQ 21.140625 5.375 28.328125 5.375 \r\nQ 35.15625 5.375 39.625 10.40625 \r\nQ 44.09375 15.4375 44.09375 23.09375 \r\nz\r\n\" id=\"MalgunGothic-100\"/>\r\n     </defs>\r\n     <g transform=\"translate(216.754688 253.188437)scale(0.1 -0.1)\">\r\n      <use xlink:href=\"#MalgunGothic-115\"/>\r\n      <use x=\"43.310547\" xlink:href=\"#MalgunGothic-117\"/>\r\n      <use x=\"101.123047\" xlink:href=\"#MalgunGothic-114\"/>\r\n      <use x=\"140.849609\" xlink:href=\"#MalgunGothic-118\"/>\r\n      <use x=\"189.580078\" xlink:href=\"#MalgunGothic-105\"/>\r\n      <use x=\"214.189453\" xlink:href=\"#MalgunGothic-118\"/>\r\n      <use x=\"262.294922\" xlink:href=\"#MalgunGothic-101\"/>\r\n      <use x=\"315.810547\" xlink:href=\"#MalgunGothic-100\"/>\r\n     </g>\r\n    </g>\r\n   </g>\r\n   <g id=\"matplotlib.axis_2\">\r\n    <g id=\"ytick_1\">\r\n     <g id=\"line2d_8\">\r\n      <defs>\r\n       <path d=\"M 0 0 \r\nL -3.5 0 \r\n\" id=\"m1eedfb5898\" style=\"stroke:#000000;stroke-width:0.8;\"/>\r\n      </defs>\r\n      <g>\r\n       <use style=\"stroke:#000000;stroke-width:0.8;\" x=\"68.15625\" xlink:href=\"#m1eedfb5898\" y=\"28.944\"/>\r\n      </g>\r\n     </g>\r\n     <g id=\"text_9\">\r\n      <!-- 미성년자 -->\r\n      <defs>\r\n       <path d=\"M 76.3125 -8.796875 \r\nL 76.3125 85.40625 \r\nL 83.59375 85.40625 \r\nL 83.59375 -8.796875 \r\nz\r\nM 12.796875 18.890625 \r\nL 12.796875 77.09375 \r\nL 57.625 77.09375 \r\nL 57.625 18.890625 \r\nz\r\nM 50.296875 70.703125 \r\nL 20.125 70.703125 \r\nL 20.125 25.296875 \r\nL 50.296875 25.296875 \r\nz\r\n\" id=\"MalgunGothic-48120\"/>\r\n       <path d=\"M 77.296875 31 \r\nL 77.296875 59.078125 \r\nL 55.328125 59.078125 \r\nL 55.328125 65.625 \r\nL 77.296875 65.625 \r\nL 77.296875 85.40625 \r\nL 84.625 85.40625 \r\nL 84.625 31 \r\nz\r\nM 57.078125 36.375 \r\nQ 50.6875 39.84375 44.234375 46.09375 \r\nQ 37.796875 52.34375 35.203125 57.8125 \r\nQ 32.421875 51.609375 25.921875 44.65625 \r\nQ 19.4375 37.703125 12.796875 33.984375 \r\nL 7.625 39.015625 \r\nQ 17.71875 43.84375 24.546875 53.015625 \r\nQ 31.390625 62.203125 31.390625 72.3125 \r\nL 31.390625 82.328125 \r\nL 38.484375 82.328125 \r\nL 38.484375 72.3125 \r\nQ 38.484375 62.890625 45.5625 54.25 \r\nQ 52.640625 45.609375 62.015625 41.703125 \r\nz\r\nM 55.71875 -7.421875 \r\nQ 40.96875 -7.421875 32.9375 -2.3125 \r\nQ 24.90625 2.78125 24.90625 10.890625 \r\nQ 24.90625 19 32.90625 24.046875 \r\nQ 40.921875 29.109375 55.71875 29.109375 \r\nQ 70.515625 29.109375 78.515625 24.046875 \r\nQ 86.53125 19 86.53125 10.890625 \r\nQ 86.53125 2.78125 78.484375 -2.3125 \r\nQ 70.453125 -7.421875 55.71875 -7.421875 \r\nz\r\nM 55.71875 22.90625 \r\nQ 44.53125 22.90625 38.625 19.5 \r\nQ 32.71875 16.109375 32.71875 10.890625 \r\nQ 32.71875 5.609375 38.640625 2.234375 \r\nQ 44.578125 -1.125 55.71875 -1.125 \r\nQ 66.796875 -1.125 72.75 2.21875 \r\nQ 78.71875 5.5625 78.71875 10.890625 \r\nQ 78.71875 16.15625 72.796875 19.53125 \r\nQ 66.890625 22.90625 55.71875 22.90625 \r\nz\r\n\" id=\"MalgunGothic-49457\"/>\r\n       <path d=\"M 76.3125 16.609375 \r\nL 76.3125 48.78125 \r\nL 49.703125 48.78125 \r\nL 49.703125 55.078125 \r\nL 76.3125 55.078125 \r\nL 76.3125 65.28125 \r\nL 49.703125 65.28125 \r\nL 49.703125 71.578125 \r\nL 76.3125 71.578125 \r\nL 76.3125 85.40625 \r\nL 83.59375 85.40625 \r\nL 83.59375 16.609375 \r\nz\r\nM 66.109375 33.890625 \r\nQ 56.6875 31.5 16.796875 31.5 \r\nL 16.796875 79.5 \r\nL 24.125 79.5 \r\nL 24.125 37.890625 \r\nL 30.28125 37.890625 \r\nQ 54.890625 37.890625 65.09375 39.890625 \r\nz\r\nM 25.984375 -5.609375 \r\nL 25.984375 22.015625 \r\nL 33.296875 22.015625 \r\nL 33.296875 0.875 \r\nL 87.109375 0.875 \r\nL 87.109375 -5.609375 \r\nz\r\n\" id=\"MalgunGothic-45380\"/>\r\n       <path d=\"M 79.59375 40.625 \r\nL 79.59375 -8.796875 \r\nL 72.3125 -8.796875 \r\nL 72.3125 85.40625 \r\nL 79.59375 85.40625 \r\nL 79.59375 47.125 \r\nL 95.90625 47.125 \r\nL 95.90625 40.625 \r\nz\r\nM 57.421875 14.203125 \r\nQ 50.4375 19.53125 43.875 28.3125 \r\nQ 37.3125 37.109375 35.109375 44.09375 \r\nQ 33.203125 37.40625 26.75 28.265625 \r\nQ 20.3125 19.140625 12.5 12.890625 \r\nL 6.890625 17.71875 \r\nQ 17.1875 24.515625 24.234375 36.9375 \r\nQ 31.296875 49.359375 31.296875 60.796875 \r\nL 31.296875 70.703125 \r\nL 10.40625 70.703125 \r\nL 10.40625 77.203125 \r\nL 58.984375 77.203125 \r\nL 58.984375 70.703125 \r\nL 38.484375 70.703125 \r\nL 38.484375 61.28125 \r\nQ 38.484375 49.8125 45.5625 38.03125 \r\nQ 52.640625 26.265625 62.5 19.671875 \r\nz\r\n\" id=\"MalgunGothic-51088\"/>\r\n      </defs>\r\n      <g transform=\"translate(21.15625 32.740094)scale(0.1 -0.1)\">\r\n       <use xlink:href=\"#MalgunGothic-48120\"/>\r\n       <use x=\"100\" xlink:href=\"#MalgunGothic-49457\"/>\r\n       <use x=\"200\" xlink:href=\"#MalgunGothic-45380\"/>\r\n       <use x=\"300\" xlink:href=\"#MalgunGothic-51088\"/>\r\n      </g>\r\n     </g>\r\n    </g>\r\n    <g id=\"ytick_2\">\r\n     <g id=\"line2d_9\">\r\n      <g>\r\n       <use style=\"stroke:#000000;stroke-width:0.8;\" x=\"68.15625\" xlink:href=\"#m1eedfb5898\" y=\"72.432\"/>\r\n      </g>\r\n     </g>\r\n     <g id=\"text_10\">\r\n      <!-- 청년 -->\r\n      <defs>\r\n       <path d=\"M 58.890625 33.203125 \r\nQ 43.109375 40.671875 35.984375 53.21875 \r\nQ 33.203125 47.21875 26.65625 41.015625 \r\nQ 20.125 34.8125 13.09375 31.296875 \r\nL 7.71875 36.921875 \r\nQ 17.625 40.484375 24.96875 48.6875 \r\nQ 32.328125 56.890625 32.328125 64.3125 \r\nL 32.328125 68.890625 \r\nL 10.796875 68.890625 \r\nL 10.796875 75.296875 \r\nL 32.328125 75.296875 \r\nL 32.328125 86.28125 \r\nL 39.59375 86.28125 \r\nL 39.59375 75.296875 \r\nL 61.078125 75.296875 \r\nL 61.078125 68.890625 \r\nL 39.59375 68.890625 \r\nL 39.59375 64.40625 \r\nQ 39.59375 57.234375 47.015625 49.5625 \r\nQ 54.4375 41.890625 63.8125 39.203125 \r\nz\r\nM 76.3125 31 \r\nL 76.3125 53.328125 \r\nL 57.8125 53.328125 \r\nL 57.8125 59.8125 \r\nL 76.3125 59.8125 \r\nL 76.3125 85.40625 \r\nL 83.59375 85.40625 \r\nL 83.59375 31 \r\nz\r\nM 54.6875 -7.421875 \r\nQ 39.9375 -7.421875 31.90625 -2.3125 \r\nQ 23.875 2.78125 23.875 10.890625 \r\nQ 23.875 19 31.875 24.046875 \r\nQ 39.890625 29.109375 54.6875 29.109375 \r\nQ 69.484375 29.109375 77.484375 24.046875 \r\nQ 85.5 19 85.5 10.890625 \r\nQ 85.5 2.78125 77.46875 -2.3125 \r\nQ 69.4375 -7.421875 54.6875 -7.421875 \r\nz\r\nM 54.6875 22.90625 \r\nQ 43.5 22.90625 37.59375 19.5 \r\nQ 31.6875 16.109375 31.6875 10.890625 \r\nQ 31.6875 5.609375 37.625 2.234375 \r\nQ 43.5625 -1.125 54.6875 -1.125 \r\nQ 65.765625 -1.125 71.71875 2.21875 \r\nQ 77.6875 5.5625 77.6875 10.890625 \r\nQ 77.6875 16.15625 71.78125 19.53125 \r\nQ 65.875 22.90625 54.6875 22.90625 \r\nz\r\n\" id=\"MalgunGothic-52397\"/>\r\n      </defs>\r\n      <g transform=\"translate(41.15625 76.228094)scale(0.1 -0.1)\">\r\n       <use xlink:href=\"#MalgunGothic-52397\"/>\r\n       <use x=\"100\" xlink:href=\"#MalgunGothic-45380\"/>\r\n      </g>\r\n     </g>\r\n    </g>\r\n    <g id=\"ytick_3\">\r\n     <g id=\"line2d_10\">\r\n      <g>\r\n       <use style=\"stroke:#000000;stroke-width:0.8;\" x=\"68.15625\" xlink:href=\"#m1eedfb5898\" y=\"115.92\"/>\r\n      </g>\r\n     </g>\r\n     <g id=\"text_11\">\r\n      <!-- 중년 -->\r\n      <defs>\r\n       <path d=\"M 85.296875 51.125 \r\nQ 74.21875 52.6875 64.015625 58.03125 \r\nQ 53.8125 63.375 50.09375 69.09375 \r\nQ 46.625 63.96875 36.375 58.375 \r\nQ 26.125 52.78125 15.1875 51.21875 \r\nL 10.890625 57.078125 \r\nQ 23.09375 58.015625 33.421875 63.796875 \r\nQ 43.75 69.578125 46.09375 76.21875 \r\nL 16.015625 76.21875 \r\nL 16.015625 82.8125 \r\nL 83.984375 82.8125 \r\nL 83.984375 76.21875 \r\nL 54 76.21875 \r\nQ 56.203125 69.625 66.421875 63.90625 \r\nQ 76.65625 58.203125 89.109375 57.078125 \r\nz\r\nM 46.296875 27.09375 \r\nL 46.296875 37.984375 \r\nL 6.296875 37.984375 \r\nL 6.296875 44.578125 \r\nL 93.703125 44.578125 \r\nL 93.703125 37.984375 \r\nL 53.71875 37.984375 \r\nL 53.71875 27.09375 \r\nQ 66.703125 26.515625 73.4375 21.875 \r\nQ 80.171875 17.234375 80.171875 9.8125 \r\nQ 80.171875 1.5625 72.40625 -3.125 \r\nQ 64.65625 -7.8125 50 -7.8125 \r\nQ 35.359375 -7.8125 27.59375 -3.125 \r\nQ 19.828125 1.5625 19.828125 9.8125 \r\nQ 19.828125 17.234375 26.5625 21.875 \r\nQ 33.296875 26.515625 46.296875 27.09375 \r\nz\r\nM 50 21 \r\nQ 38.765625 21 33.078125 18.046875 \r\nQ 27.390625 15.09375 27.390625 9.8125 \r\nQ 27.390625 4.4375 33.171875 1.40625 \r\nQ 38.96875 -1.609375 50 -1.609375 \r\nQ 60.984375 -1.609375 66.796875 1.40625 \r\nQ 72.609375 4.4375 72.609375 9.8125 \r\nQ 72.609375 15.09375 66.890625 18.046875 \r\nQ 61.1875 21 50 21 \r\nz\r\n\" id=\"MalgunGothic-51473\"/>\r\n      </defs>\r\n      <g transform=\"translate(41.15625 119.716094)scale(0.1 -0.1)\">\r\n       <use xlink:href=\"#MalgunGothic-51473\"/>\r\n       <use x=\"100\" xlink:href=\"#MalgunGothic-45380\"/>\r\n      </g>\r\n     </g>\r\n    </g>\r\n    <g id=\"ytick_4\">\r\n     <g id=\"line2d_11\">\r\n      <g>\r\n       <use style=\"stroke:#000000;stroke-width:0.8;\" x=\"68.15625\" xlink:href=\"#m1eedfb5898\" y=\"159.408\"/>\r\n      </g>\r\n     </g>\r\n     <g id=\"text_12\">\r\n      <!-- 장년 -->\r\n      <defs>\r\n       <path d=\"M 80.078125 52.984375 \r\nL 80.078125 31.109375 \r\nL 72.796875 31.109375 \r\nL 72.796875 85.40625 \r\nL 80.078125 85.40625 \r\nL 80.078125 59.625 \r\nL 94.28125 59.625 \r\nL 94.28125 52.984375 \r\nz\r\nM 56.296875 36.1875 \r\nQ 50.09375 39.5 43.40625 45.9375 \r\nQ 36.71875 52.390625 34.1875 57.71875 \r\nQ 31.5 51.5625 25 44.578125 \r\nQ 18.5 37.59375 11.71875 33.796875 \r\nL 6.390625 38.8125 \r\nQ 16.75 43.84375 23.625 53.078125 \r\nQ 30.515625 62.3125 30.515625 72.3125 \r\nL 30.515625 74.703125 \r\nL 9.71875 74.703125 \r\nL 9.71875 81.203125 \r\nL 58.296875 81.203125 \r\nL 58.296875 74.703125 \r\nL 37.5 74.703125 \r\nL 37.5 72.3125 \r\nQ 37.5 62.890625 44.453125 54.25 \r\nQ 51.421875 45.609375 61.078125 41.5 \r\nz\r\nM 50.984375 -8.015625 \r\nQ 36.28125 -8.015625 28.296875 -2.90625 \r\nQ 20.3125 2.203125 20.3125 10.296875 \r\nQ 20.3125 18.359375 28.3125 23.4375 \r\nQ 36.328125 28.515625 50.984375 28.515625 \r\nQ 65.671875 28.515625 73.671875 23.453125 \r\nQ 81.6875 18.40625 81.6875 10.296875 \r\nQ 81.6875 2.15625 73.703125 -2.921875 \r\nQ 65.71875 -8.015625 50.984375 -8.015625 \r\nz\r\nM 50.984375 22.3125 \r\nQ 40.046875 22.3125 34.0625 18.984375 \r\nQ 28.078125 15.671875 28.078125 10.296875 \r\nQ 28.078125 4.828125 34.078125 1.5 \r\nQ 40.09375 -1.8125 50.984375 -1.8125 \r\nQ 62.015625 -1.8125 68.015625 1.53125 \r\nQ 74.03125 4.890625 74.03125 10.296875 \r\nQ 74.03125 15.625 68.015625 18.96875 \r\nQ 62.015625 22.3125 50.984375 22.3125 \r\nz\r\n\" id=\"MalgunGothic-51109\"/>\r\n      </defs>\r\n      <g transform=\"translate(41.15625 163.204094)scale(0.1 -0.1)\">\r\n       <use xlink:href=\"#MalgunGothic-51109\"/>\r\n       <use x=\"100\" xlink:href=\"#MalgunGothic-45380\"/>\r\n      </g>\r\n     </g>\r\n    </g>\r\n    <g id=\"ytick_5\">\r\n     <g id=\"line2d_12\">\r\n      <g>\r\n       <use style=\"stroke:#000000;stroke-width:0.8;\" x=\"68.15625\" xlink:href=\"#m1eedfb5898\" y=\"202.896\"/>\r\n      </g>\r\n     </g>\r\n     <g id=\"text_13\">\r\n      <!-- 노년 -->\r\n      <defs>\r\n       <path d=\"M 20.015625 77.09375 \r\nL 27.296875 77.09375 \r\nL 27.296875 44.28125 \r\nL 81.890625 44.28125 \r\nL 81.890625 37.703125 \r\nL 53.71875 37.703125 \r\nL 53.71875 12.984375 \r\nL 93.703125 12.984375 \r\nL 93.703125 6.390625 \r\nL 6.296875 6.390625 \r\nL 6.296875 12.984375 \r\nL 46.296875 12.984375 \r\nL 46.296875 37.703125 \r\nL 20.015625 37.703125 \r\nz\r\n\" id=\"MalgunGothic-45432\"/>\r\n      </defs>\r\n      <g transform=\"translate(41.15625 206.692094)scale(0.1 -0.1)\">\r\n       <use xlink:href=\"#MalgunGothic-45432\"/>\r\n       <use x=\"100\" xlink:href=\"#MalgunGothic-45380\"/>\r\n      </g>\r\n     </g>\r\n    </g>\r\n    <g id=\"text_14\">\r\n     <!-- age_cat -->\r\n     <defs>\r\n      <path d=\"M 9.625 47.65625 \r\nQ 17.140625 52.484375 26.90625 52.484375 \r\nQ 44.78125 52.484375 44.78125 33.546875 \r\nL 44.78125 0 \r\nL 37.015625 0 \r\nL 37.015625 8.0625 \r\nL 36.71875 8.0625 \r\nQ 31.390625 -1.21875 20.953125 -1.21875 \r\nQ 13.421875 -1.21875 9 2.8125 \r\nQ 4.59375 6.84375 4.59375 13.578125 \r\nQ 4.59375 27.875 21.484375 30.21875 \r\nL 36.96875 32.46875 \r\nQ 36.96875 45.84375 26.3125 45.84375 \r\nQ 16.9375 45.84375 9.625 39.453125 \r\nz\r\nM 24.421875 24.359375 \r\nQ 18.40625 23.578125 15.515625 21.421875 \r\nQ 12.640625 19.28125 12.640625 14.109375 \r\nQ 12.640625 10.203125 15.40625 7.8125 \r\nQ 18.171875 5.421875 22.65625 5.421875 \r\nQ 28.859375 5.421875 32.90625 9.8125 \r\nQ 36.96875 14.203125 36.96875 20.84375 \r\nL 36.96875 26.03125 \r\nz\r\n\" id=\"MalgunGothic-97\"/>\r\n      <path d=\"M 51.765625 4.046875 \r\nQ 51.765625 -24.171875 25.046875 -24.171875 \r\nQ 15.671875 -24.171875 8.40625 -20.515625 \r\nL 8.40625 -12.59375 \r\nQ 17 -17.4375 25 -17.4375 \r\nQ 44.09375 -17.4375 44.09375 3.03125 \r\nL 44.09375 8.734375 \r\nL 43.890625 8.734375 \r\nQ 37.84375 -1.21875 26.171875 -1.21875 \r\nQ 16.65625 -1.21875 10.796875 5.65625 \r\nQ 4.9375 12.546875 4.9375 23.96875 \r\nQ 4.9375 37.109375 11.28125 44.796875 \r\nQ 17.625 52.484375 28.375 52.484375 \r\nQ 38.8125 52.484375 43.890625 44.09375 \r\nL 44.09375 44.09375 \r\nL 44.09375 51.3125 \r\nL 51.765625 51.3125 \r\nz\r\nM 44.09375 30.90625 \r\nQ 44.09375 37.15625 39.796875 41.546875 \r\nQ 35.5 45.953125 29.34375 45.953125 \r\nQ 21.625 45.953125 17.203125 40.265625 \r\nQ 12.796875 34.578125 12.796875 24.5625 \r\nQ 12.796875 15.875 17.0625 10.625 \r\nQ 21.34375 5.375 28.171875 5.375 \r\nQ 35.109375 5.375 39.59375 10.40625 \r\nQ 44.09375 15.4375 44.09375 23.09375 \r\nz\r\n\" id=\"MalgunGothic-103\"/>\r\n      <path d=\"M 42.578125 -14.890625 \r\nL 0 -14.890625 \r\nL 0 -8.890625 \r\nL 42.578125 -8.890625 \r\nz\r\n\" id=\"MalgunGothic-95\"/>\r\n      <path d=\"M 43.171875 2.390625 \r\nQ 37.109375 -1.21875 29.25 -1.21875 \r\nQ 18.5 -1.21875 11.71875 5.8125 \r\nQ 4.9375 12.84375 4.9375 24.46875 \r\nQ 4.9375 37.203125 12.140625 44.84375 \r\nQ 19.34375 52.484375 31.390625 52.484375 \r\nQ 38.03125 52.484375 43.21875 50 \r\nL 43.21875 41.890625 \r\nQ 37.453125 45.953125 30.953125 45.953125 \r\nQ 23.09375 45.953125 17.9375 40.265625 \r\nQ 12.796875 34.578125 12.796875 25.140625 \r\nQ 12.796875 16.15625 17.5 10.765625 \r\nQ 22.21875 5.375 30.421875 5.375 \r\nQ 37.203125 5.375 43.171875 9.859375 \r\nz\r\n\" id=\"MalgunGothic-99\"/>\r\n      <path d=\"M 31.734375 0.484375 \r\nQ 28.8125 -1.125 24.265625 -1.125 \r\nQ 11.03125 -1.125 11.03125 13.765625 \r\nL 11.03125 44.625 \r\nL 2.15625 44.625 \r\nL 2.15625 51.3125 \r\nL 11.03125 51.3125 \r\nL 11.03125 63.921875 \r\nL 18.75 66.40625 \r\nL 18.75 51.3125 \r\nL 31.734375 51.3125 \r\nL 31.734375 44.625 \r\nL 18.75 44.625 \r\nL 18.75 15.1875 \r\nQ 18.75 9.765625 20.546875 7.609375 \r\nQ 22.359375 5.46875 26.421875 5.46875 \r\nQ 29.5 5.46875 31.734375 7.171875 \r\nz\r\n\" id=\"MalgunGothic-116\"/>\r\n     </defs>\r\n     <g transform=\"translate(14.739062 133.021562)rotate(-90)scale(0.1 -0.1)\">\r\n      <use xlink:href=\"#MalgunGothic-97\"/>\r\n      <use x=\"52.001953\" xlink:href=\"#MalgunGothic-103\"/>\r\n      <use x=\"112.207031\" xlink:href=\"#MalgunGothic-101\"/>\r\n      <use x=\"165.722656\" xlink:href=\"#MalgunGothic-95\"/>\r\n      <use x=\"208.300781\" xlink:href=\"#MalgunGothic-99\"/>\r\n      <use x=\"255.566406\" xlink:href=\"#MalgunGothic-97\"/>\r\n      <use x=\"307.568359\" xlink:href=\"#MalgunGothic-116\"/>\r\n     </g>\r\n    </g>\r\n   </g>\r\n   <g id=\"line2d_13\">\r\n    <path clip-path=\"url(#p351da82cb1)\" d=\"M 254.961445 28.944 \r\nL 332.260146 28.944 \r\n\" style=\"fill:none;stroke:#424242;stroke-linecap:square;stroke-width:2.7;\"/>\r\n   </g>\r\n   <g id=\"line2d_14\">\r\n    <path clip-path=\"url(#p351da82cb1)\" d=\"M 222.231364 72.432 \r\nL 270.543052 72.432 \r\n\" style=\"fill:none;stroke:#424242;stroke-linecap:square;stroke-width:2.7;\"/>\r\n   </g>\r\n   <g id=\"line2d_15\">\r\n    <path clip-path=\"url(#p351da82cb1)\" d=\"M 262.204857 115.92 \r\nL 323.947596 115.92 \r\n\" style=\"fill:none;stroke:#424242;stroke-linecap:square;stroke-width:2.7;\"/>\r\n   </g>\r\n   <g id=\"line2d_16\">\r\n    <path clip-path=\"url(#p351da82cb1)\" d=\"M 194.257945 159.408 \r\nL 320.35964 159.408 \r\n\" style=\"fill:none;stroke:#424242;stroke-linecap:square;stroke-width:2.7;\"/>\r\n   </g>\r\n   <g id=\"line2d_17\">\r\n    <path clip-path=\"url(#p351da82cb1)\" d=\"M 68.15625 202.896 \r\nL 387.013393 202.896 \r\n\" style=\"fill:none;stroke:#424242;stroke-linecap:square;stroke-width:2.7;\"/>\r\n   </g>\r\n   <g id=\"patch_8\">\r\n    <path d=\"M 68.15625 224.64 \r\nL 68.15625 7.2 \r\n\" style=\"fill:none;stroke:#000000;stroke-linecap:square;stroke-linejoin:miter;stroke-width:0.8;\"/>\r\n   </g>\r\n   <g id=\"patch_9\">\r\n    <path d=\"M 402.95625 224.64 \r\nL 402.95625 7.2 \r\n\" style=\"fill:none;stroke:#000000;stroke-linecap:square;stroke-linejoin:miter;stroke-width:0.8;\"/>\r\n   </g>\r\n   <g id=\"patch_10\">\r\n    <path d=\"M 68.15625 224.64 \r\nL 402.95625 224.64 \r\n\" style=\"fill:none;stroke:#000000;stroke-linecap:square;stroke-linejoin:miter;stroke-width:0.8;\"/>\r\n   </g>\r\n   <g id=\"patch_11\">\r\n    <path d=\"M 68.15625 7.2 \r\nL 402.95625 7.2 \r\n\" style=\"fill:none;stroke:#000000;stroke-linecap:square;stroke-linejoin:miter;stroke-width:0.8;\"/>\r\n   </g>\r\n  </g>\r\n </g>\r\n <defs>\r\n  <clipPath id=\"p351da82cb1\">\r\n   <rect height=\"217.44\" width=\"334.8\" x=\"68.15625\" y=\"7.2\"/>\r\n  </clipPath>\r\n </defs>\r\n</svg>\r\n",
      "image/png": "[encoded data removed]"
     },
     "metadata": {
      "needs_background": "light"
     }
    }
   ],
   "source": [
    "sns.barplot(data=titanic,x = 'survived',y='age_cat')\n",
    "plt.show()"
   ]
  },
  {
   "cell_type": "code",
   "execution_count": 48,
   "metadata": {},
   "outputs": [],
   "source": [
    "# 연습문제 2 - e\n",
    "def q3cut(s):\n",
    "    return pd.qcut(s, 3, labels=[\"A1\", \"A2\", \"A3\"]).astype(str)\n",
    "titanic['ageGroup'] = titanic.groupby(['sex','survived'])[['age']].transform(q3cut)"
   ]
  },
  {
   "cell_type": "code",
   "execution_count": 49,
   "metadata": {},
   "outputs": [
    {
     "output_type": "execute_result",
     "data": {
      "text/plain": [
       "        sex  survived        age ageGroup\n",
       "0      male         0  22.000000       A1\n",
       "1    female         1  38.000000       A3\n",
       "2    female         1  26.000000       A2\n",
       "3    female         1  35.000000       A3\n",
       "4      male         0  35.000000       A3\n",
       "..      ...       ...        ...      ...\n",
       "886    male         0  27.000000       A1\n",
       "887  female         1  19.000000       A1\n",
       "888  female         0  29.699118       A2\n",
       "889    male         1  26.000000       A2\n",
       "890    male         0  32.000000       A3\n",
       "\n",
       "[891 rows x 4 columns]"
      ],
      "text/html": "<div>\n<style scoped>\n    .dataframe tbody tr th:only-of-type {\n        vertical-align: middle;\n    }\n\n    .dataframe tbody tr th {\n        vertical-align: top;\n    }\n\n    .dataframe thead th {\n        text-align: right;\n    }\n</style>\n<table border=\"1\" class=\"dataframe\">\n  <thead>\n    <tr style=\"text-align: right;\">\n      <th></th>\n      <th>sex</th>\n      <th>survived</th>\n      <th>age</th>\n      <th>ageGroup</th>\n    </tr>\n  </thead>\n  <tbody>\n    <tr>\n      <th>0</th>\n      <td>male</td>\n      <td>0</td>\n      <td>22.000000</td>\n      <td>A1</td>\n    </tr>\n    <tr>\n      <th>1</th>\n      <td>female</td>\n      <td>1</td>\n      <td>38.000000</td>\n      <td>A3</td>\n    </tr>\n    <tr>\n      <th>2</th>\n      <td>female</td>\n      <td>1</td>\n      <td>26.000000</td>\n      <td>A2</td>\n    </tr>\n    <tr>\n      <th>3</th>\n      <td>female</td>\n      <td>1</td>\n      <td>35.000000</td>\n      <td>A3</td>\n    </tr>\n    <tr>\n      <th>4</th>\n      <td>male</td>\n      <td>0</td>\n      <td>35.000000</td>\n      <td>A3</td>\n    </tr>\n    <tr>\n      <th>...</th>\n      <td>...</td>\n      <td>...</td>\n      <td>...</td>\n      <td>...</td>\n    </tr>\n    <tr>\n      <th>886</th>\n      <td>male</td>\n      <td>0</td>\n      <td>27.000000</td>\n      <td>A1</td>\n    </tr>\n    <tr>\n      <th>887</th>\n      <td>female</td>\n      <td>1</td>\n      <td>19.000000</td>\n      <td>A1</td>\n    </tr>\n    <tr>\n      <th>888</th>\n      <td>female</td>\n      <td>0</td>\n      <td>29.699118</td>\n      <td>A2</td>\n    </tr>\n    <tr>\n      <th>889</th>\n      <td>male</td>\n      <td>1</td>\n      <td>26.000000</td>\n      <td>A2</td>\n    </tr>\n    <tr>\n      <th>890</th>\n      <td>male</td>\n      <td>0</td>\n      <td>32.000000</td>\n      <td>A3</td>\n    </tr>\n  </tbody>\n</table>\n<p>891 rows × 4 columns</p>\n</div>"
     },
     "metadata": {},
     "execution_count": 49
    }
   ],
   "source": [
    "titanic[['sex','survived','age','ageGroup']]"
   ]
  },
  {
   "cell_type": "code",
   "execution_count": 50,
   "metadata": {},
   "outputs": [
    {
     "output_type": "execute_result",
     "data": {
      "text/plain": [
       "          survived\n",
       "ageGroup          \n",
       "A1        0.397394\n",
       "A2        0.370000\n",
       "A3        0.383803"
      ],
      "text/html": "<div>\n<style scoped>\n    .dataframe tbody tr th:only-of-type {\n        vertical-align: middle;\n    }\n\n    .dataframe tbody tr th {\n        vertical-align: top;\n    }\n\n    .dataframe thead th {\n        text-align: right;\n    }\n</style>\n<table border=\"1\" class=\"dataframe\">\n  <thead>\n    <tr style=\"text-align: right;\">\n      <th></th>\n      <th>survived</th>\n    </tr>\n    <tr>\n      <th>ageGroup</th>\n      <th></th>\n    </tr>\n  </thead>\n  <tbody>\n    <tr>\n      <th>A1</th>\n      <td>0.397394</td>\n    </tr>\n    <tr>\n      <th>A2</th>\n      <td>0.370000</td>\n    </tr>\n    <tr>\n      <th>A3</th>\n      <td>0.383803</td>\n    </tr>\n  </tbody>\n</table>\n</div>"
     },
     "metadata": {},
     "execution_count": 50
    }
   ],
   "source": [
    "# 나이 그룹별 생존율\n",
    "titanic.pivot_table('survived','ageGroup')"
   ]
  },
  {
   "cell_type": "code",
   "execution_count": 51,
   "metadata": {},
   "outputs": [
    {
     "output_type": "execute_result",
     "data": {
      "text/plain": [
       "                 survived\n",
       "ageGroup sex             \n",
       "A1       female  0.364821\n",
       "         male    0.635179\n",
       "A2       female  0.340000\n",
       "         male    0.660000\n",
       "A3       female  0.352113\n",
       "         male    0.647887"
      ],
      "text/html": "<div>\n<style scoped>\n    .dataframe tbody tr th:only-of-type {\n        vertical-align: middle;\n    }\n\n    .dataframe tbody tr th {\n        vertical-align: top;\n    }\n\n    .dataframe thead th {\n        text-align: right;\n    }\n</style>\n<table border=\"1\" class=\"dataframe\">\n  <thead>\n    <tr style=\"text-align: right;\">\n      <th></th>\n      <th></th>\n      <th>survived</th>\n    </tr>\n    <tr>\n      <th>ageGroup</th>\n      <th>sex</th>\n      <th></th>\n    </tr>\n  </thead>\n  <tbody>\n    <tr>\n      <th rowspan=\"2\" valign=\"top\">A1</th>\n      <th>female</th>\n      <td>0.364821</td>\n    </tr>\n    <tr>\n      <th>male</th>\n      <td>0.635179</td>\n    </tr>\n    <tr>\n      <th rowspan=\"2\" valign=\"top\">A2</th>\n      <th>female</th>\n      <td>0.340000</td>\n    </tr>\n    <tr>\n      <th>male</th>\n      <td>0.660000</td>\n    </tr>\n    <tr>\n      <th rowspan=\"2\" valign=\"top\">A3</th>\n      <th>female</th>\n      <td>0.352113</td>\n    </tr>\n    <tr>\n      <th>male</th>\n      <td>0.647887</td>\n    </tr>\n  </tbody>\n</table>\n</div>"
     },
     "metadata": {},
     "execution_count": 51
    }
   ],
   "source": [
    "# 나이 그룹별 성비 = 그룹별 남녀 인원수/그룹별 인원수\n",
    "titanic.groupby(['ageGroup','sex'])[['survived']].count()/titanic.groupby(['ageGroup'])[['survived']].count()"
   ]
  },
  {
   "cell_type": "code",
   "execution_count": 54,
   "metadata": {},
   "outputs": [
    {
     "output_type": "display_data",
     "data": {
      "text/plain": "<Figure size 432x288 with 1 Axes>",
      "image/svg+xml": "<?xml version=\"1.0\" encoding=\"utf-8\" standalone=\"no\"?>\r\n<!DOCTYPE svg PUBLIC \"-//W3C//DTD SVG 1.1//EN\"\r\n  \"http://www.w3.org/Graphics/SVG/1.1/DTD/svg11.dtd\">\r\n<!-- Created with matplotlib (https://matplotlib.org/) -->\r\n<svg height=\"262.7525pt\" version=\"1.1\" viewBox=\"0 0 383.359375 262.7525\" width=\"383.359375pt\" xmlns=\"http://www.w3.org/2000/svg\" xmlns:xlink=\"http://www.w3.org/1999/xlink\">\r\n <defs>\r\n  <style type=\"text/css\">\r\n*{stroke-linecap:butt;stroke-linejoin:round;}\r\n  </style>\r\n </defs>\r\n <g id=\"figure_1\">\r\n  <g id=\"patch_1\">\r\n   <path d=\"M 0 262.7525 \r\nL 383.359375 262.7525 \r\nL 383.359375 0 \r\nL 0 0 \r\nz\r\n\" style=\"fill:none;\"/>\r\n  </g>\r\n  <g id=\"axes_1\">\r\n   <g id=\"patch_2\">\r\n    <path d=\"M 41.359375 224.64 \r\nL 376.159375 224.64 \r\nL 376.159375 7.2 \r\nL 41.359375 7.2 \r\nz\r\n\" style=\"fill:#ffffff;\"/>\r\n   </g>\r\n   <g id=\"patch_3\">\r\n    <path clip-path=\"url(#p121a03bd48)\" d=\"M 52.519375 224.64 \r\nL 97.159375 224.64 \r\nL 97.159375 178.950248 \r\nL 52.519375 178.950248 \r\nz\r\n\" style=\"fill:#3274a1;\"/>\r\n   </g>\r\n   <g id=\"patch_4\">\r\n    <path clip-path=\"url(#p121a03bd48)\" d=\"M 164.119375 224.64 \r\nL 208.759375 224.64 \r\nL 208.759375 184.070883 \r\nL 164.119375 184.070883 \r\nz\r\n\" style=\"fill:#3274a1;\"/>\r\n   </g>\r\n   <g id=\"patch_5\">\r\n    <path clip-path=\"url(#p121a03bd48)\" d=\"M 275.719375 224.64 \r\nL 320.359375 224.64 \r\nL 320.359375 174.777924 \r\nL 275.719375 174.777924 \r\nz\r\n\" style=\"fill:#3274a1;\"/>\r\n   </g>\r\n   <g id=\"patch_6\">\r\n    <path clip-path=\"url(#p121a03bd48)\" d=\"M 97.159375 224.64 \r\nL 141.799375 224.64 \r\nL 141.799375 41.892017 \r\nL 97.159375 41.892017 \r\nz\r\n\" style=\"fill:#e1812c;\"/>\r\n   </g>\r\n   <g id=\"patch_7\">\r\n    <path clip-path=\"url(#p121a03bd48)\" d=\"M 208.759375 224.64 \r\nL 253.399375 224.64 \r\nL 253.399375 36.818073 \r\nL 208.759375 36.818073 \r\nz\r\n\" style=\"fill:#e1812c;\"/>\r\n   </g>\r\n   <g id=\"patch_8\">\r\n    <path clip-path=\"url(#p121a03bd48)\" d=\"M 320.359375 224.64 \r\nL 364.999375 224.64 \r\nL 364.999375 59.386922 \r\nL 320.359375 59.386922 \r\nz\r\n\" style=\"fill:#e1812c;\"/>\r\n   </g>\r\n   <g id=\"matplotlib.axis_1\">\r\n    <g id=\"xtick_1\">\r\n     <g id=\"line2d_1\">\r\n      <defs>\r\n       <path d=\"M 0 0 \r\nL 0 3.5 \r\n\" id=\"m5317f1d8b4\" style=\"stroke:#000000;stroke-width:0.8;\"/>\r\n      </defs>\r\n      <g>\r\n       <use style=\"stroke:#000000;stroke-width:0.8;\" x=\"97.159375\" xlink:href=\"#m5317f1d8b4\" y=\"224.64\"/>\r\n      </g>\r\n     </g>\r\n     <g id=\"text_1\">\r\n      <!-- A1 -->\r\n      <defs>\r\n       <path d=\"M 64.59375 0 \r\nL 55.859375 0 \r\nL 48.046875 20.40625 \r\nL 17.234375 20.40625 \r\nL 9.96875 0 \r\nL 1.171875 0 \r\nL 28.8125 71.875 \r\nL 36.8125 71.875 \r\nz\r\nM 45.359375 27.640625 \r\nL 33.890625 58.6875 \r\nQ 33.25 60.40625 32.8125 63.421875 \r\nL 32.5625 63.421875 \r\nQ 32.03125 60.0625 31.390625 58.6875 \r\nL 20.015625 27.640625 \r\nz\r\n\" id=\"MalgunGothic-65\"/>\r\n       <path d=\"M 34.859375 0 \r\nL 27.09375 0 \r\nL 27.09375 62.0625 \r\nQ 24.859375 59.8125 19.78125 57.203125 \r\nQ 14.703125 54.59375 10.5 53.5625 \r\nL 10.5 61.859375 \r\nQ 15.875 63.375 22.015625 66.796875 \r\nQ 28.171875 70.21875 31.734375 73.4375 \r\nL 34.859375 73.4375 \r\nz\r\n\" id=\"MalgunGothic-49\"/>\r\n      </defs>\r\n      <g transform=\"translate(91.114063 239.232187)scale(0.1 -0.1)\">\r\n       <use xlink:href=\"#MalgunGothic-65\"/>\r\n       <use x=\"65.820312\" xlink:href=\"#MalgunGothic-49\"/>\r\n      </g>\r\n     </g>\r\n    </g>\r\n    <g id=\"xtick_2\">\r\n     <g id=\"line2d_2\">\r\n      <g>\r\n       <use style=\"stroke:#000000;stroke-width:0.8;\" x=\"208.759375\" xlink:href=\"#m5317f1d8b4\" y=\"224.64\"/>\r\n      </g>\r\n     </g>\r\n     <g id=\"text_2\">\r\n      <!-- A3 -->\r\n      <defs>\r\n       <path d=\"M 6.5 11.234375 \r\nQ 13.921875 5.375 23.09375 5.375 \r\nQ 30.609375 5.375 35.21875 9.171875 \r\nQ 39.84375 12.984375 39.84375 19.484375 \r\nQ 39.84375 33.890625 19.578125 33.890625 \r\nL 13.625 33.890625 \r\nL 13.625 40.484375 \r\nL 19.28125 40.484375 \r\nQ 37.3125 40.484375 37.3125 53.953125 \r\nQ 37.3125 66.40625 23.578125 66.40625 \r\nQ 15.96875 66.40625 9.28125 61.1875 \r\nL 9.28125 68.953125 \r\nQ 16.109375 73.046875 25.53125 73.046875 \r\nQ 34.125 73.046875 39.671875 68.3125 \r\nQ 45.21875 63.578125 45.21875 55.953125 \r\nQ 45.21875 41.84375 30.8125 37.640625 \r\nL 30.8125 37.5 \r\nQ 38.578125 36.8125 43.1875 32.078125 \r\nQ 47.796875 27.34375 47.796875 20.3125 \r\nQ 47.796875 10.5 40.6875 4.640625 \r\nQ 33.59375 -1.21875 22.65625 -1.21875 \r\nQ 12.59375 -1.21875 6.5 2.640625 \r\nz\r\n\" id=\"MalgunGothic-51\"/>\r\n      </defs>\r\n      <g transform=\"translate(202.714063 239.232187)scale(0.1 -0.1)\">\r\n       <use xlink:href=\"#MalgunGothic-65\"/>\r\n       <use x=\"65.820312\" xlink:href=\"#MalgunGothic-51\"/>\r\n      </g>\r\n     </g>\r\n    </g>\r\n    <g id=\"xtick_3\">\r\n     <g id=\"line2d_3\">\r\n      <g>\r\n       <use style=\"stroke:#000000;stroke-width:0.8;\" x=\"320.359375\" xlink:href=\"#m5317f1d8b4\" y=\"224.64\"/>\r\n      </g>\r\n     </g>\r\n     <g id=\"text_3\">\r\n      <!-- A2 -->\r\n      <defs>\r\n       <path d=\"M 39.359375 52.6875 \r\nQ 39.359375 59.125 35.546875 62.78125 \r\nQ 31.734375 66.453125 25.4375 66.453125 \r\nQ 20.953125 66.453125 16.453125 64.125 \r\nQ 11.96875 61.8125 8.34375 57.765625 \r\nL 8.34375 66.15625 \r\nQ 15.328125 73.046875 26.421875 73.046875 \r\nQ 35.640625 73.046875 41.28125 67.71875 \r\nQ 46.921875 62.40625 46.921875 53.375 \r\nQ 46.921875 45.609375 43.3125 39.765625 \r\nQ 39.703125 33.9375 31 27.734375 \r\nQ 22.796875 21.96875 19.59375 18.984375 \r\nQ 16.40625 16.015625 15.109375 13.34375 \r\nQ 13.8125 10.6875 13.8125 7.03125 \r\nL 48.6875 7.03125 \r\nL 48.6875 0 \r\nL 5.5625 0 \r\nL 5.5625 3.515625 \r\nQ 5.5625 9.421875 7.203125 13.59375 \r\nQ 8.84375 17.78125 12.671875 21.75 \r\nQ 16.5 25.734375 24.953125 31.59375 \r\nQ 32.671875 36.921875 36.015625 41.71875 \r\nQ 39.359375 46.53125 39.359375 52.6875 \r\nz\r\n\" id=\"MalgunGothic-50\"/>\r\n      </defs>\r\n      <g transform=\"translate(314.314062 239.232187)scale(0.1 -0.1)\">\r\n       <use xlink:href=\"#MalgunGothic-65\"/>\r\n       <use x=\"65.820312\" xlink:href=\"#MalgunGothic-50\"/>\r\n      </g>\r\n     </g>\r\n    </g>\r\n    <g id=\"text_4\">\r\n     <!-- ageGroup -->\r\n     <defs>\r\n      <path d=\"M 9.625 47.65625 \r\nQ 17.140625 52.484375 26.90625 52.484375 \r\nQ 44.78125 52.484375 44.78125 33.546875 \r\nL 44.78125 0 \r\nL 37.015625 0 \r\nL 37.015625 8.0625 \r\nL 36.71875 8.0625 \r\nQ 31.390625 -1.21875 20.953125 -1.21875 \r\nQ 13.421875 -1.21875 9 2.8125 \r\nQ 4.59375 6.84375 4.59375 13.578125 \r\nQ 4.59375 27.875 21.484375 30.21875 \r\nL 36.96875 32.46875 \r\nQ 36.96875 45.84375 26.3125 45.84375 \r\nQ 16.9375 45.84375 9.625 39.453125 \r\nz\r\nM 24.421875 24.359375 \r\nQ 18.40625 23.578125 15.515625 21.421875 \r\nQ 12.640625 19.28125 12.640625 14.109375 \r\nQ 12.640625 10.203125 15.40625 7.8125 \r\nQ 18.171875 5.421875 22.65625 5.421875 \r\nQ 28.859375 5.421875 32.90625 9.8125 \r\nQ 36.96875 14.203125 36.96875 20.84375 \r\nL 36.96875 26.03125 \r\nz\r\n\" id=\"MalgunGothic-97\"/>\r\n      <path d=\"M 51.765625 4.046875 \r\nQ 51.765625 -24.171875 25.046875 -24.171875 \r\nQ 15.671875 -24.171875 8.40625 -20.515625 \r\nL 8.40625 -12.59375 \r\nQ 17 -17.4375 25 -17.4375 \r\nQ 44.09375 -17.4375 44.09375 3.03125 \r\nL 44.09375 8.734375 \r\nL 43.890625 8.734375 \r\nQ 37.84375 -1.21875 26.171875 -1.21875 \r\nQ 16.65625 -1.21875 10.796875 5.65625 \r\nQ 4.9375 12.546875 4.9375 23.96875 \r\nQ 4.9375 37.109375 11.28125 44.796875 \r\nQ 17.625 52.484375 28.375 52.484375 \r\nQ 38.8125 52.484375 43.890625 44.09375 \r\nL 44.09375 44.09375 \r\nL 44.09375 51.3125 \r\nL 51.765625 51.3125 \r\nz\r\nM 44.09375 30.90625 \r\nQ 44.09375 37.15625 39.796875 41.546875 \r\nQ 35.5 45.953125 29.34375 45.953125 \r\nQ 21.625 45.953125 17.203125 40.265625 \r\nQ 12.796875 34.578125 12.796875 24.5625 \r\nQ 12.796875 15.875 17.0625 10.625 \r\nQ 21.34375 5.375 28.171875 5.375 \r\nQ 35.109375 5.375 39.59375 10.40625 \r\nQ 44.09375 15.4375 44.09375 23.09375 \r\nz\r\n\" id=\"MalgunGothic-103\"/>\r\n      <path d=\"M 49.3125 23.734375 \r\nL 12.9375 23.734375 \r\nQ 13.1875 14.84375 17.703125 10.125 \r\nQ 22.21875 5.421875 29.828125 5.421875 \r\nQ 38.625 5.421875 45.84375 11.234375 \r\nL 45.84375 3.8125 \r\nQ 38.96875 -1.21875 28.03125 -1.21875 \r\nQ 17.1875 -1.21875 11.0625 5.875 \r\nQ 4.9375 12.984375 4.9375 25.53125 \r\nQ 4.9375 37.203125 11.671875 44.84375 \r\nQ 18.40625 52.484375 28.375 52.484375 \r\nQ 38.328125 52.484375 43.8125 45.96875 \r\nQ 49.3125 39.453125 49.3125 27.9375 \r\nz\r\nM 41.3125 30.5625 \r\nQ 41.3125 37.75 37.859375 41.796875 \r\nQ 34.421875 45.84375 28.265625 45.84375 \r\nQ 22.46875 45.84375 18.265625 41.671875 \r\nQ 14.0625 37.5 13.03125 30.5625 \r\nz\r\n\" id=\"MalgunGothic-101\"/>\r\n      <path d=\"M 62.84375 4.9375 \r\nQ 52.09375 -1.21875 38.921875 -1.21875 \r\nQ 23.828125 -1.21875 14.296875 8.71875 \r\nQ 4.78125 18.65625 4.78125 34.96875 \r\nQ 4.78125 51.609375 15.296875 62.328125 \r\nQ 25.828125 73.046875 41.890625 73.046875 \r\nQ 53.953125 73.046875 61.53125 69.1875 \r\nL 61.53125 60.25 \r\nQ 52.828125 65.765625 40.921875 65.765625 \r\nQ 28.71875 65.765625 20.90625 57.359375 \r\nQ 13.09375 48.96875 13.09375 35.59375 \r\nQ 13.09375 21.734375 20.3125 13.859375 \r\nQ 27.546875 6 40.046875 6 \r\nQ 48.875 6 54.9375 9.46875 \r\nL 54.9375 30.03125 \r\nL 39.109375 30.03125 \r\nL 39.109375 37.25 \r\nL 62.84375 37.25 \r\nz\r\n\" id=\"MalgunGothic-71\"/>\r\n      <path d=\"M 34.765625 43.359375 \r\nQ 32.5625 45.015625 28.5625 45.015625 \r\nQ 23.296875 45.015625 19.71875 39.890625 \r\nQ 16.15625 34.765625 16.15625 26.265625 \r\nL 16.15625 0 \r\nL 8.40625 0 \r\nL 8.40625 51.3125 \r\nL 16.15625 51.3125 \r\nL 16.15625 40.671875 \r\nL 16.359375 40.671875 \r\nQ 18.109375 46.09375 21.703125 49.140625 \r\nQ 25.296875 52.203125 29.734375 52.203125 \r\nQ 32.953125 52.203125 34.765625 51.515625 \r\nz\r\n\" id=\"MalgunGothic-114\"/>\r\n      <path d=\"M 4.9375 25 \r\nQ 4.9375 37.796875 11.890625 45.140625 \r\nQ 18.84375 52.484375 30.90625 52.484375 \r\nQ 42.140625 52.484375 48.609375 45.421875 \r\nQ 55.078125 38.375 55.078125 25.78125 \r\nQ 55.078125 13.578125 48.09375 6.171875 \r\nQ 41.109375 -1.21875 29.6875 -1.21875 \r\nQ 18.5 -1.21875 11.71875 6 \r\nQ 4.9375 13.234375 4.9375 25 \r\nz\r\nM 12.796875 25.34375 \r\nQ 12.796875 16.265625 17.546875 10.8125 \r\nQ 22.3125 5.375 30.21875 5.375 \r\nQ 38.421875 5.375 42.796875 10.625 \r\nQ 47.171875 15.875 47.171875 25.53125 \r\nQ 47.171875 35.25 42.765625 40.59375 \r\nQ 38.375 45.953125 30.21875 45.953125 \r\nQ 22.265625 45.953125 17.53125 40.421875 \r\nQ 12.796875 34.90625 12.796875 25.34375 \r\nz\r\n\" id=\"MalgunGothic-111\"/>\r\n      <path d=\"M 49.46875 0 \r\nL 41.703125 0 \r\nL 41.703125 8.109375 \r\nL 41.5 8.109375 \r\nQ 36.421875 -1.21875 25.6875 -1.21875 \r\nQ 7.328125 -1.21875 7.328125 20.65625 \r\nL 7.328125 51.3125 \r\nL 14.984375 51.3125 \r\nL 14.984375 21.921875 \r\nQ 14.984375 5.375 27.59375 5.375 \r\nQ 33.734375 5.375 37.71875 9.9375 \r\nQ 41.703125 14.5 41.703125 21.78125 \r\nL 41.703125 51.3125 \r\nL 49.46875 51.3125 \r\nz\r\n\" id=\"MalgunGothic-117\"/>\r\n      <path d=\"M 16.15625 7.515625 \r\nL 16.15625 -23.640625 \r\nL 8.40625 -23.640625 \r\nL 8.40625 51.3125 \r\nL 16.15625 51.3125 \r\nL 16.15625 42.234375 \r\nL 16.359375 42.234375 \r\nQ 22.46875 52.484375 34.125 52.484375 \r\nQ 43.890625 52.484375 49.546875 45.625 \r\nQ 55.21875 38.765625 55.21875 27.15625 \r\nQ 55.21875 14.15625 48.84375 6.46875 \r\nQ 42.484375 -1.21875 31.78125 -1.21875 \r\nQ 21.78125 -1.21875 16.359375 7.515625 \r\nz\r\nM 16.15625 20.796875 \r\nQ 16.15625 14.40625 20.421875 9.890625 \r\nQ 24.703125 5.375 31.109375 5.375 \r\nQ 38.671875 5.375 42.984375 11.1875 \r\nQ 47.3125 17 47.3125 27.390625 \r\nQ 47.3125 35.9375 43.234375 40.9375 \r\nQ 39.15625 45.953125 32.375 45.953125 \r\nQ 25.296875 45.953125 20.71875 40.921875 \r\nQ 16.15625 35.890625 16.15625 28.21875 \r\nz\r\n\" id=\"MalgunGothic-112\"/>\r\n     </defs>\r\n     <g transform=\"translate(186.376563 253.135312)scale(0.1 -0.1)\">\r\n      <use xlink:href=\"#MalgunGothic-97\"/>\r\n      <use x=\"52.001953\" xlink:href=\"#MalgunGothic-103\"/>\r\n      <use x=\"112.207031\" xlink:href=\"#MalgunGothic-101\"/>\r\n      <use x=\"165.722656\" xlink:href=\"#MalgunGothic-71\"/>\r\n      <use x=\"235.888672\" xlink:href=\"#MalgunGothic-114\"/>\r\n      <use x=\"269.865234\" xlink:href=\"#MalgunGothic-111\"/>\r\n      <use x=\"329.777344\" xlink:href=\"#MalgunGothic-117\"/>\r\n      <use x=\"387.589844\" xlink:href=\"#MalgunGothic-112\"/>\r\n     </g>\r\n    </g>\r\n   </g>\r\n   <g id=\"matplotlib.axis_2\">\r\n    <g id=\"ytick_1\">\r\n     <g id=\"line2d_4\">\r\n      <defs>\r\n       <path d=\"M 0 0 \r\nL -3.5 0 \r\n\" id=\"m8e7ff2dd76\" style=\"stroke:#000000;stroke-width:0.8;\"/>\r\n      </defs>\r\n      <g>\r\n       <use style=\"stroke:#000000;stroke-width:0.8;\" x=\"41.359375\" xlink:href=\"#m8e7ff2dd76\" y=\"224.64\"/>\r\n      </g>\r\n     </g>\r\n     <g id=\"text_5\">\r\n      <!-- 0.0 -->\r\n      <defs>\r\n       <path d=\"M 4.34375 34.46875 \r\nQ 4.34375 53.515625 10.546875 63.28125 \r\nQ 16.75 73.046875 28.421875 73.046875 \r\nQ 50.828125 73.046875 50.828125 36.234375 \r\nQ 50.828125 18.0625 44.59375 8.421875 \r\nQ 38.375 -1.21875 26.8125 -1.21875 \r\nQ 15.875 -1.21875 10.109375 8.125 \r\nQ 4.34375 17.484375 4.34375 34.46875 \r\nz\r\nM 12.25 34.859375 \r\nQ 12.25 5.375 27.640625 5.375 \r\nQ 42.921875 5.375 42.921875 35.296875 \r\nQ 42.921875 66.40625 28.03125 66.40625 \r\nQ 12.25 66.40625 12.25 34.859375 \r\nz\r\n\" id=\"MalgunGothic-48\"/>\r\n       <path d=\"M 5.5625 4.296875 \r\nQ 5.5625 6.59375 7.171875 8.171875 \r\nQ 8.796875 9.765625 10.9375 9.765625 \r\nQ 13.09375 9.765625 14.703125 8.171875 \r\nQ 16.3125 6.59375 16.3125 4.296875 \r\nQ 16.3125 2.15625 14.71875 0.515625 \r\nQ 13.140625 -1.125 10.9375 -1.125 \r\nQ 8.734375 -1.125 7.140625 0.453125 \r\nQ 5.5625 2.046875 5.5625 4.296875 \r\nz\r\n\" id=\"MalgunGothic-46\"/>\r\n      </defs>\r\n      <g transform=\"translate(21.15625 228.436094)scale(0.1 -0.1)\">\r\n       <use xlink:href=\"#MalgunGothic-48\"/>\r\n       <use x=\"55.078125\" xlink:href=\"#MalgunGothic-46\"/>\r\n       <use x=\"76.953125\" xlink:href=\"#MalgunGothic-48\"/>\r\n      </g>\r\n     </g>\r\n    </g>\r\n    <g id=\"ytick_2\">\r\n     <g id=\"line2d_5\">\r\n      <g>\r\n       <use style=\"stroke:#000000;stroke-width:0.8;\" x=\"41.359375\" xlink:href=\"#m8e7ff2dd76\" y=\"176.480532\"/>\r\n      </g>\r\n     </g>\r\n     <g id=\"text_6\">\r\n      <!-- 0.2 -->\r\n      <g transform=\"translate(21.15625 180.276625)scale(0.1 -0.1)\">\r\n       <use xlink:href=\"#MalgunGothic-48\"/>\r\n       <use x=\"55.078125\" xlink:href=\"#MalgunGothic-46\"/>\r\n       <use x=\"76.953125\" xlink:href=\"#MalgunGothic-50\"/>\r\n      </g>\r\n     </g>\r\n    </g>\r\n    <g id=\"ytick_3\">\r\n     <g id=\"line2d_6\">\r\n      <g>\r\n       <use style=\"stroke:#000000;stroke-width:0.8;\" x=\"41.359375\" xlink:href=\"#m8e7ff2dd76\" y=\"128.321063\"/>\r\n      </g>\r\n     </g>\r\n     <g id=\"text_7\">\r\n      <!-- 0.4 -->\r\n      <defs>\r\n       <path d=\"M 42.234375 71.875 \r\nL 42.234375 24.421875 \r\nL 51.703125 24.421875 \r\nL 51.703125 17.390625 \r\nL 42.234375 17.390625 \r\nL 42.234375 0 \r\nL 34.578125 0 \r\nL 34.578125 17.390625 \r\nL 0.78125 17.390625 \r\nL 0.78125 23.96875 \r\nQ 11.375 35.890625 20.234375 48.578125 \r\nQ 29.109375 61.28125 33.9375 71.875 \r\nz\r\nM 9.765625 24.421875 \r\nL 34.578125 24.421875 \r\nL 34.578125 59.859375 \r\nQ 25.203125 43.5625 14.984375 30.953125 \r\nz\r\n\" id=\"MalgunGothic-52\"/>\r\n      </defs>\r\n      <g transform=\"translate(21.15625 132.117157)scale(0.1 -0.1)\">\r\n       <use xlink:href=\"#MalgunGothic-48\"/>\r\n       <use x=\"55.078125\" xlink:href=\"#MalgunGothic-46\"/>\r\n       <use x=\"76.953125\" xlink:href=\"#MalgunGothic-52\"/>\r\n      </g>\r\n     </g>\r\n    </g>\r\n    <g id=\"ytick_4\">\r\n     <g id=\"line2d_7\">\r\n      <g>\r\n       <use style=\"stroke:#000000;stroke-width:0.8;\" x=\"41.359375\" xlink:href=\"#m8e7ff2dd76\" y=\"80.161595\"/>\r\n      </g>\r\n     </g>\r\n     <g id=\"text_8\">\r\n      <!-- 0.6 -->\r\n      <defs>\r\n       <path d=\"M 46.578125 63.578125 \r\nQ 40.921875 66.40625 34.8125 66.40625 \r\nQ 24.859375 66.40625 19.1875 57.640625 \r\nQ 13.53125 48.875 13.578125 34.578125 \r\nL 13.8125 34.578125 \r\nQ 18.796875 44.875 30.28125 44.875 \r\nQ 39.796875 44.875 45.359375 38.71875 \r\nQ 50.921875 32.5625 50.921875 22.65625 \r\nQ 50.921875 12.453125 44.640625 5.609375 \r\nQ 38.375 -1.21875 28.515625 -1.21875 \r\nQ 17.4375 -1.21875 11.5 7.46875 \r\nQ 5.5625 16.15625 5.5625 31.546875 \r\nQ 5.5625 49.703125 13.234375 61.375 \r\nQ 20.90625 73.046875 34.71875 73.046875 \r\nQ 42.1875 73.046875 46.578125 71 \r\nz\r\nM 14.15625 23.53125 \r\nQ 14.15625 15.96875 18.203125 10.671875 \r\nQ 22.265625 5.375 28.8125 5.375 \r\nQ 35.109375 5.375 39.03125 10.078125 \r\nQ 42.96875 14.796875 42.96875 21.6875 \r\nQ 42.96875 29.5 39.203125 33.859375 \r\nQ 35.453125 38.234375 28.71875 38.234375 \r\nQ 22.5625 38.234375 18.359375 33.953125 \r\nQ 14.15625 29.6875 14.15625 23.53125 \r\nz\r\n\" id=\"MalgunGothic-54\"/>\r\n      </defs>\r\n      <g transform=\"translate(21.15625 83.957688)scale(0.1 -0.1)\">\r\n       <use xlink:href=\"#MalgunGothic-48\"/>\r\n       <use x=\"55.078125\" xlink:href=\"#MalgunGothic-46\"/>\r\n       <use x=\"76.953125\" xlink:href=\"#MalgunGothic-54\"/>\r\n      </g>\r\n     </g>\r\n    </g>\r\n    <g id=\"ytick_5\">\r\n     <g id=\"line2d_8\">\r\n      <g>\r\n       <use style=\"stroke:#000000;stroke-width:0.8;\" x=\"41.359375\" xlink:href=\"#m8e7ff2dd76\" y=\"32.002126\"/>\r\n      </g>\r\n     </g>\r\n     <g id=\"text_9\">\r\n      <!-- 0.8 -->\r\n      <defs>\r\n       <path d=\"M 4.734375 20.015625 \r\nQ 4.734375 26.078125 8.421875 31.421875 \r\nQ 12.109375 36.765625 18.015625 38.96875 \r\nQ 13.375 41.359375 10.546875 45.546875 \r\nQ 7.71875 49.75 7.71875 54.6875 \r\nQ 7.71875 59.8125 10.296875 64.03125 \r\nQ 12.890625 68.265625 17.53125 70.65625 \r\nQ 22.171875 73.046875 27.78125 73.046875 \r\nQ 36.46875 73.046875 42.1875 67.84375 \r\nQ 47.90625 62.640625 47.90625 54.6875 \r\nQ 47.90625 49.703125 45.015625 45.53125 \r\nQ 42.140625 41.359375 37.703125 38.96875 \r\nQ 43.5625 36.71875 47.21875 31.390625 \r\nQ 50.875 26.078125 50.875 20.015625 \r\nQ 50.875 10.5 44.421875 4.640625 \r\nQ 37.984375 -1.21875 27.78125 -1.21875 \r\nQ 17.671875 -1.21875 11.203125 4.703125 \r\nQ 4.734375 10.640625 4.734375 20.015625 \r\nz\r\nM 12.640625 20.75 \r\nQ 12.640625 13.71875 16.890625 9.546875 \r\nQ 21.140625 5.375 27.828125 5.375 \r\nQ 34.46875 5.375 38.78125 9.671875 \r\nQ 43.109375 13.96875 43.109375 20.75 \r\nQ 43.109375 27.046875 38.78125 31.421875 \r\nQ 34.46875 35.796875 27.828125 35.796875 \r\nQ 21.4375 35.796875 17.03125 31.5625 \r\nQ 12.640625 27.34375 12.640625 20.75 \r\nz\r\nM 15.671875 54.046875 \r\nQ 15.671875 48.828125 19.28125 45.3125 \r\nQ 22.90625 41.796875 27.828125 41.796875 \r\nQ 32.765625 41.796875 36.40625 45.3125 \r\nQ 40.046875 48.828125 40.046875 54.046875 \r\nQ 40.046875 59.421875 36.578125 62.90625 \r\nQ 33.109375 66.40625 27.828125 66.40625 \r\nQ 22.65625 66.40625 19.15625 62.953125 \r\nQ 15.671875 59.515625 15.671875 54.046875 \r\nz\r\n\" id=\"MalgunGothic-56\"/>\r\n      </defs>\r\n      <g transform=\"translate(21.15625 35.79822)scale(0.1 -0.1)\">\r\n       <use xlink:href=\"#MalgunGothic-48\"/>\r\n       <use x=\"55.078125\" xlink:href=\"#MalgunGothic-46\"/>\r\n       <use x=\"76.953125\" xlink:href=\"#MalgunGothic-56\"/>\r\n      </g>\r\n     </g>\r\n    </g>\r\n    <g id=\"text_10\">\r\n     <!-- survived -->\r\n     <defs>\r\n      <path d=\"M 5.171875 10.453125 \r\nQ 11.921875 5.46875 19.96875 5.46875 \r\nQ 30.90625 5.46875 30.90625 12.84375 \r\nQ 30.90625 16.015625 28.515625 18.09375 \r\nQ 26.125 20.171875 19.09375 22.796875 \r\nQ 10.984375 26.03125 8.125 29.34375 \r\nQ 5.28125 32.671875 5.28125 37.75 \r\nQ 5.28125 44.28125 10.9375 48.375 \r\nQ 16.609375 52.484375 24.75 52.484375 \r\nQ 31.296875 52.484375 36.578125 50.203125 \r\nL 36.578125 42.140625 \r\nQ 30.859375 45.84375 23.53125 45.84375 \r\nQ 18.75 45.84375 16.015625 43.71875 \r\nQ 13.28125 41.609375 13.28125 38.421875 \r\nQ 13.28125 35.015625 15.296875 33.203125 \r\nQ 17.328125 31.390625 24.125 28.71875 \r\nQ 33.296875 25.140625 36.078125 21.71875 \r\nQ 38.875 18.3125 38.875 13.578125 \r\nQ 38.875 6.734375 33.234375 2.75 \r\nQ 27.59375 -1.21875 18.796875 -1.21875 \r\nQ 10.84375 -1.21875 5.171875 1.90625 \r\nz\r\n\" id=\"MalgunGothic-115\"/>\r\n      <path d=\"M 48.1875 51.3125 \r\nL 27.640625 0 \r\nL 20.21875 0 \r\nL 0.734375 51.3125 \r\nL 9.28125 51.3125 \r\nL 22.515625 13.625 \r\nQ 23.921875 9.515625 24.3125 6.640625 \r\nL 24.5625 6.640625 \r\nQ 25.046875 10.453125 26.125 13.484375 \r\nL 40.046875 51.3125 \r\nz\r\n\" id=\"MalgunGothic-118\"/>\r\n      <path d=\"M 7.375 69.78125 \r\nQ 7.375 71.96875 8.828125 73.453125 \r\nQ 10.296875 74.953125 12.40625 74.953125 \r\nQ 14.59375 74.953125 16.078125 73.4375 \r\nQ 17.578125 71.921875 17.578125 69.78125 \r\nQ 17.578125 67.578125 16.078125 66.109375 \r\nQ 14.59375 64.65625 12.40625 64.65625 \r\nQ 10.296875 64.65625 8.828125 66.09375 \r\nQ 7.375 67.53125 7.375 69.78125 \r\nz\r\nM 8.453125 0 \r\nL 8.453125 51.3125 \r\nL 16.15625 51.3125 \r\nL 16.15625 0 \r\nz\r\n\" id=\"MalgunGothic-105\"/>\r\n      <path d=\"M 51.765625 0 \r\nL 44.09375 0 \r\nL 44.09375 8.84375 \r\nL 43.890625 8.84375 \r\nQ 38.1875 -1.21875 26.171875 -1.21875 \r\nQ 16.5 -1.21875 10.71875 5.6875 \r\nQ 4.9375 12.59375 4.9375 24.46875 \r\nQ 4.9375 37.109375 11.375 44.796875 \r\nQ 17.828125 52.484375 28.375 52.484375 \r\nQ 38.96875 52.484375 43.890625 44.09375 \r\nL 44.09375 44.09375 \r\nL 44.09375 75.921875 \r\nL 51.765625 75.921875 \r\nz\r\nM 44.09375 30.90625 \r\nQ 44.09375 37.15625 39.84375 41.546875 \r\nQ 35.59375 45.953125 29.25 45.953125 \r\nQ 21.625 45.953125 17.203125 40.265625 \r\nQ 12.796875 34.578125 12.796875 24.859375 \r\nQ 12.796875 16.015625 16.96875 10.6875 \r\nQ 21.140625 5.375 28.328125 5.375 \r\nQ 35.15625 5.375 39.625 10.40625 \r\nQ 44.09375 15.4375 44.09375 23.09375 \r\nz\r\n\" id=\"MalgunGothic-100\"/>\r\n     </defs>\r\n     <g transform=\"translate(14.792188 134.721562)rotate(-90)scale(0.1 -0.1)\">\r\n      <use xlink:href=\"#MalgunGothic-115\"/>\r\n      <use x=\"43.310547\" xlink:href=\"#MalgunGothic-117\"/>\r\n      <use x=\"101.123047\" xlink:href=\"#MalgunGothic-114\"/>\r\n      <use x=\"140.849609\" xlink:href=\"#MalgunGothic-118\"/>\r\n      <use x=\"189.580078\" xlink:href=\"#MalgunGothic-105\"/>\r\n      <use x=\"214.189453\" xlink:href=\"#MalgunGothic-118\"/>\r\n      <use x=\"262.294922\" xlink:href=\"#MalgunGothic-101\"/>\r\n      <use x=\"315.810547\" xlink:href=\"#MalgunGothic-100\"/>\r\n     </g>\r\n    </g>\r\n   </g>\r\n   <g id=\"line2d_9\">\r\n    <path clip-path=\"url(#p121a03bd48)\" d=\"M 74.839375 192.533688 \r\nL 74.839375 165.366808 \r\n\" style=\"fill:none;stroke:#424242;stroke-linecap:square;stroke-width:2.7;\"/>\r\n   </g>\r\n   <g id=\"line2d_10\">\r\n    <path clip-path=\"url(#p121a03bd48)\" d=\"M 186.439375 197.157695 \r\nL 186.439375 170.98407 \r\n\" style=\"fill:none;stroke:#424242;stroke-linecap:square;stroke-width:2.7;\"/>\r\n   </g>\r\n   <g id=\"line2d_11\">\r\n    <path clip-path=\"url(#p121a03bd48)\" d=\"M 298.039375 188.155554 \r\nL 298.039375 161.400294 \r\n\" style=\"fill:none;stroke:#424242;stroke-linecap:square;stroke-width:2.7;\"/>\r\n   </g>\r\n   <g id=\"line2d_12\">\r\n    <path clip-path=\"url(#p121a03bd48)\" d=\"M 119.479375 61.241804 \r\nL 119.479375 22.542231 \r\n\" style=\"fill:none;stroke:#424242;stroke-linecap:square;stroke-width:2.7;\"/>\r\n   </g>\r\n   <g id=\"line2d_13\">\r\n    <path clip-path=\"url(#p121a03bd48)\" d=\"M 231.079375 58.489834 \r\nL 231.079375 17.554286 \r\n\" style=\"fill:none;stroke:#424242;stroke-linecap:square;stroke-width:2.7;\"/>\r\n   </g>\r\n   <g id=\"line2d_14\">\r\n    <path clip-path=\"url(#p121a03bd48)\" d=\"M 342.679375 80.633746 \r\nL 342.679375 38.140098 \r\n\" style=\"fill:none;stroke:#424242;stroke-linecap:square;stroke-width:2.7;\"/>\r\n   </g>\r\n   <g id=\"patch_9\">\r\n    <path d=\"M 41.359375 224.64 \r\nL 41.359375 7.2 \r\n\" style=\"fill:none;stroke:#000000;stroke-linecap:square;stroke-linejoin:miter;stroke-width:0.8;\"/>\r\n   </g>\r\n   <g id=\"patch_10\">\r\n    <path d=\"M 376.159375 224.64 \r\nL 376.159375 7.2 \r\n\" style=\"fill:none;stroke:#000000;stroke-linecap:square;stroke-linejoin:miter;stroke-width:0.8;\"/>\r\n   </g>\r\n   <g id=\"patch_11\">\r\n    <path d=\"M 41.359375 224.64 \r\nL 376.159375 224.64 \r\n\" style=\"fill:none;stroke:#000000;stroke-linecap:square;stroke-linejoin:miter;stroke-width:0.8;\"/>\r\n   </g>\r\n   <g id=\"patch_12\">\r\n    <path d=\"M 41.359375 7.2 \r\nL 376.159375 7.2 \r\n\" style=\"fill:none;stroke:#000000;stroke-linecap:square;stroke-linejoin:miter;stroke-width:0.8;\"/>\r\n   </g>\r\n   <g id=\"legend_1\">\r\n    <g id=\"patch_13\">\r\n     <path d=\"M 48.359375 60.06875 \r\nL 110.685937 60.06875 \r\nQ 112.685937 60.06875 112.685937 58.06875 \r\nL 112.685937 14.2 \r\nQ 112.685937 12.2 110.685937 12.2 \r\nL 48.359375 12.2 \r\nQ 46.359375 12.2 46.359375 14.2 \r\nL 46.359375 58.06875 \r\nQ 46.359375 60.06875 48.359375 60.06875 \r\nz\r\n\" style=\"fill:#ffffff;opacity:0.8;stroke:#cccccc;stroke-linejoin:miter;\"/>\r\n    </g>\r\n    <g id=\"text_11\">\r\n     <!-- sex -->\r\n     <defs>\r\n      <path d=\"M 45.0625 51.3125 \r\nL 27.875 25.25 \r\nL 44.828125 0 \r\nL 35.75 0 \r\nL 25.53125 16.84375 \r\nQ 24.421875 18.703125 23.296875 20.703125 \r\nL 23.046875 20.703125 \r\nQ 22.75 20.0625 20.75 16.84375 \r\nL 10.25 0 \r\nL 1.375 0 \r\nL 18.890625 25.09375 \r\nL 2.09375 51.3125 \r\nL 11.140625 51.3125 \r\nL 23.34375 29.640625 \r\nL 23.53125 29.640625 \r\nQ 23.828125 30.078125 25.640625 33.109375 \r\nL 36.625 51.3125 \r\nz\r\n\" id=\"MalgunGothic-120\"/>\r\n     </defs>\r\n     <g transform=\"translate(72.357031 23.792187)scale(0.1 -0.1)\">\r\n      <use xlink:href=\"#MalgunGothic-115\"/>\r\n      <use x=\"43.310547\" xlink:href=\"#MalgunGothic-101\"/>\r\n      <use x=\"96.826172\" xlink:href=\"#MalgunGothic-120\"/>\r\n     </g>\r\n    </g>\r\n    <g id=\"patch_14\">\r\n     <path d=\"M 50.359375 38.748437 \r\nL 70.359375 38.748437 \r\nL 70.359375 31.748437 \r\nL 50.359375 31.748437 \r\nz\r\n\" style=\"fill:#3274a1;\"/>\r\n    </g>\r\n    <g id=\"text_12\">\r\n     <!-- male -->\r\n     <defs>\r\n      <path d=\"M 80.71875 0 \r\nL 72.953125 0 \r\nL 72.953125 29.4375 \r\nQ 72.953125 38.484375 70.234375 42.21875 \r\nQ 67.53125 45.953125 61.28125 45.953125 \r\nQ 56 45.953125 52.21875 40.984375 \r\nQ 48.4375 36.03125 48.4375 29.296875 \r\nL 48.4375 0 \r\nL 40.71875 0 \r\nL 40.71875 30.515625 \r\nQ 40.71875 45.953125 28.8125 45.953125 \r\nQ 23.390625 45.953125 19.765625 41.28125 \r\nQ 16.15625 36.625 16.15625 29.296875 \r\nL 16.15625 0 \r\nL 8.40625 0 \r\nL 8.40625 51.3125 \r\nL 16.15625 51.3125 \r\nL 16.15625 43.171875 \r\nL 16.359375 43.171875 \r\nQ 21.734375 52.484375 32.234375 52.484375 \r\nQ 37.203125 52.484375 41.1875 49.625 \r\nQ 45.171875 46.78125 46.734375 41.796875 \r\nQ 52.4375 52.484375 63.765625 52.484375 \r\nQ 80.71875 52.484375 80.71875 31.59375 \r\nz\r\n\" id=\"MalgunGothic-109\"/>\r\n      <path d=\"M 8.453125 0 \r\nL 8.453125 75.921875 \r\nL 16.15625 75.921875 \r\nL 16.15625 0 \r\nz\r\n\" id=\"MalgunGothic-108\"/>\r\n     </defs>\r\n     <g transform=\"translate(78.359375 38.748437)scale(0.1 -0.1)\">\r\n      <use xlink:href=\"#MalgunGothic-109\"/>\r\n      <use x=\"87.988281\" xlink:href=\"#MalgunGothic-97\"/>\r\n      <use x=\"139.990234\" xlink:href=\"#MalgunGothic-108\"/>\r\n      <use x=\"164.599609\" xlink:href=\"#MalgunGothic-101\"/>\r\n     </g>\r\n    </g>\r\n    <g id=\"patch_15\">\r\n     <path d=\"M 50.359375 53.704687 \r\nL 70.359375 53.704687 \r\nL 70.359375 46.704687 \r\nL 50.359375 46.704687 \r\nz\r\n\" style=\"fill:#e1812c;\"/>\r\n    </g>\r\n    <g id=\"text_13\">\r\n     <!-- female -->\r\n     <defs>\r\n      <path d=\"M 33.25 69.09375 \r\nQ 30.859375 70.40625 27.78125 70.40625 \r\nQ 19.09375 70.40625 19.09375 59.375 \r\nL 19.09375 51.3125 \r\nL 31.109375 51.3125 \r\nL 31.109375 44.625 \r\nL 19.09375 44.625 \r\nL 19.09375 0 \r\nL 11.46875 0 \r\nL 11.46875 44.625 \r\nL 2.6875 44.625 \r\nL 2.6875 51.3125 \r\nL 11.46875 51.3125 \r\nL 11.46875 59.765625 \r\nQ 11.46875 67.828125 16.03125 72.4375 \r\nQ 20.609375 77.046875 27.390625 77.046875 \r\nQ 31.15625 77.046875 33.25 76.171875 \r\nz\r\n\" id=\"MalgunGothic-102\"/>\r\n     </defs>\r\n     <g transform=\"translate(78.359375 53.704687)scale(0.1 -0.1)\">\r\n      <use xlink:href=\"#MalgunGothic-102\"/>\r\n      <use x=\"31.640625\" xlink:href=\"#MalgunGothic-101\"/>\r\n      <use x=\"85.15625\" xlink:href=\"#MalgunGothic-109\"/>\r\n      <use x=\"173.144531\" xlink:href=\"#MalgunGothic-97\"/>\r\n      <use x=\"225.146484\" xlink:href=\"#MalgunGothic-108\"/>\r\n      <use x=\"249.755859\" xlink:href=\"#MalgunGothic-101\"/>\r\n     </g>\r\n    </g>\r\n   </g>\r\n  </g>\r\n </g>\r\n <defs>\r\n  <clipPath id=\"p121a03bd48\">\r\n   <rect height=\"217.44\" width=\"334.8\" x=\"41.359375\" y=\"7.2\"/>\r\n  </clipPath>\r\n </defs>\r\n</svg>\r\n",
      "image/png": "[encoded data removed]"
     },
     "metadata": {
      "needs_background": "light"
     }
    }
   ],
   "source": [
    "sns.barplot(data=titanic, x='ageGroup',y='survived',hue='sex')\n",
    "plt.show()"
   ]
  },
  {
   "cell_type": "code",
   "execution_count": 343,
   "metadata": {},
   "outputs": [
    {
     "output_type": "execute_result",
     "data": {
      "text/plain": [
       "      mpg  cylinders  displacement  horsepower  weight  acceleration  \\\n",
       "0    18.0          8         307.0       130.0    3504          12.0   \n",
       "1    15.0          8         350.0       165.0    3693          11.5   \n",
       "2    18.0          8         318.0       150.0    3436          11.0   \n",
       "3    16.0          8         304.0       150.0    3433          12.0   \n",
       "4    17.0          8         302.0       140.0    3449          10.5   \n",
       "..    ...        ...           ...         ...     ...           ...   \n",
       "393  27.0          4         140.0        86.0    2790          15.6   \n",
       "394  44.0          4          97.0        52.0    2130          24.6   \n",
       "395  32.0          4         135.0        84.0    2295          11.6   \n",
       "396  28.0          4         120.0        79.0    2625          18.6   \n",
       "397  31.0          4         119.0        82.0    2720          19.4   \n",
       "\n",
       "     model_year  origin                       name  \n",
       "0            70     usa  chevrolet chevelle malibu  \n",
       "1            70     usa          buick skylark 320  \n",
       "2            70     usa         plymouth satellite  \n",
       "3            70     usa              amc rebel sst  \n",
       "4            70     usa                ford torino  \n",
       "..          ...     ...                        ...  \n",
       "393          82     usa            ford mustang gl  \n",
       "394          82  europe                  vw pickup  \n",
       "395          82     usa              dodge rampage  \n",
       "396          82     usa                ford ranger  \n",
       "397          82     usa                 chevy s-10  \n",
       "\n",
       "[398 rows x 9 columns]"
      ],
      "text/html": "<div>\n<style scoped>\n    .dataframe tbody tr th:only-of-type {\n        vertical-align: middle;\n    }\n\n    .dataframe tbody tr th {\n        vertical-align: top;\n    }\n\n    .dataframe thead th {\n        text-align: right;\n    }\n</style>\n<table border=\"1\" class=\"dataframe\">\n  <thead>\n    <tr style=\"text-align: right;\">\n      <th></th>\n      <th>mpg</th>\n      <th>cylinders</th>\n      <th>displacement</th>\n      <th>horsepower</th>\n      <th>weight</th>\n      <th>acceleration</th>\n      <th>model_year</th>\n      <th>origin</th>\n      <th>name</th>\n    </tr>\n  </thead>\n  <tbody>\n    <tr>\n      <th>0</th>\n      <td>18.0</td>\n      <td>8</td>\n      <td>307.0</td>\n      <td>130.0</td>\n      <td>3504</td>\n      <td>12.0</td>\n      <td>70</td>\n      <td>usa</td>\n      <td>chevrolet chevelle malibu</td>\n    </tr>\n    <tr>\n      <th>1</th>\n      <td>15.0</td>\n      <td>8</td>\n      <td>350.0</td>\n      <td>165.0</td>\n      <td>3693</td>\n      <td>11.5</td>\n      <td>70</td>\n      <td>usa</td>\n      <td>buick skylark 320</td>\n    </tr>\n    <tr>\n      <th>2</th>\n      <td>18.0</td>\n      <td>8</td>\n      <td>318.0</td>\n      <td>150.0</td>\n      <td>3436</td>\n      <td>11.0</td>\n      <td>70</td>\n      <td>usa</td>\n      <td>plymouth satellite</td>\n    </tr>\n    <tr>\n      <th>3</th>\n      <td>16.0</td>\n      <td>8</td>\n      <td>304.0</td>\n      <td>150.0</td>\n      <td>3433</td>\n      <td>12.0</td>\n      <td>70</td>\n      <td>usa</td>\n      <td>amc rebel sst</td>\n    </tr>\n    <tr>\n      <th>4</th>\n      <td>17.0</td>\n      <td>8</td>\n      <td>302.0</td>\n      <td>140.0</td>\n      <td>3449</td>\n      <td>10.5</td>\n      <td>70</td>\n      <td>usa</td>\n      <td>ford torino</td>\n    </tr>\n    <tr>\n      <th>...</th>\n      <td>...</td>\n      <td>...</td>\n      <td>...</td>\n      <td>...</td>\n      <td>...</td>\n      <td>...</td>\n      <td>...</td>\n      <td>...</td>\n      <td>...</td>\n    </tr>\n    <tr>\n      <th>393</th>\n      <td>27.0</td>\n      <td>4</td>\n      <td>140.0</td>\n      <td>86.0</td>\n      <td>2790</td>\n      <td>15.6</td>\n      <td>82</td>\n      <td>usa</td>\n      <td>ford mustang gl</td>\n    </tr>\n    <tr>\n      <th>394</th>\n      <td>44.0</td>\n      <td>4</td>\n      <td>97.0</td>\n      <td>52.0</td>\n      <td>2130</td>\n      <td>24.6</td>\n      <td>82</td>\n      <td>europe</td>\n      <td>vw pickup</td>\n    </tr>\n    <tr>\n      <th>395</th>\n      <td>32.0</td>\n      <td>4</td>\n      <td>135.0</td>\n      <td>84.0</td>\n      <td>2295</td>\n      <td>11.6</td>\n      <td>82</td>\n      <td>usa</td>\n      <td>dodge rampage</td>\n    </tr>\n    <tr>\n      <th>396</th>\n      <td>28.0</td>\n      <td>4</td>\n      <td>120.0</td>\n      <td>79.0</td>\n      <td>2625</td>\n      <td>18.6</td>\n      <td>82</td>\n      <td>usa</td>\n      <td>ford ranger</td>\n    </tr>\n    <tr>\n      <th>397</th>\n      <td>31.0</td>\n      <td>4</td>\n      <td>119.0</td>\n      <td>82.0</td>\n      <td>2720</td>\n      <td>19.4</td>\n      <td>82</td>\n      <td>usa</td>\n      <td>chevy s-10</td>\n    </tr>\n  </tbody>\n</table>\n<p>398 rows × 9 columns</p>\n</div>"
     },
     "metadata": {},
     "execution_count": 343
    }
   ],
   "source": [
    "# 연습문제 3\n",
    "mpg = sns.load_dataset('mpg')\n",
    "mpg"
   ]
  },
  {
   "cell_type": "code",
   "execution_count": 344,
   "metadata": {},
   "outputs": [],
   "source": [
    "# 연습문제 3 - a\n",
    "mpg['hp_per_cc'] = mpg['horsepower']/mpg['displacement']"
   ]
  },
  {
   "cell_type": "code",
   "execution_count": 345,
   "metadata": {},
   "outputs": [],
   "source": [
    "# 연습문제 3 - b\n",
    "mpg['manufacturer'] = mpg.name.str.split(' ').str[0]"
   ]
  },
  {
   "cell_type": "code",
   "execution_count": 346,
   "metadata": {},
   "outputs": [],
   "source": [
    "model_list = []\n",
    "for e in mpg.name.str.split(' ').str[1:].tolist():\n",
    "    model_list.append(' '.join(e))"
   ]
  },
  {
   "cell_type": "code",
   "execution_count": 347,
   "metadata": {},
   "outputs": [],
   "source": [
    "mpg['model'] = model_list\n",
    "del mpg['name']"
   ]
  },
  {
   "cell_type": "code",
   "execution_count": 348,
   "metadata": {},
   "outputs": [
    {
     "output_type": "execute_result",
     "data": {
      "text/plain": [
       "      mpg  cylinders  displacement  horsepower  weight  acceleration  \\\n",
       "0    18.0          8         307.0       130.0    3504          12.0   \n",
       "1    15.0          8         350.0       165.0    3693          11.5   \n",
       "2    18.0          8         318.0       150.0    3436          11.0   \n",
       "3    16.0          8         304.0       150.0    3433          12.0   \n",
       "4    17.0          8         302.0       140.0    3449          10.5   \n",
       "..    ...        ...           ...         ...     ...           ...   \n",
       "393  27.0          4         140.0        86.0    2790          15.6   \n",
       "394  44.0          4          97.0        52.0    2130          24.6   \n",
       "395  32.0          4         135.0        84.0    2295          11.6   \n",
       "396  28.0          4         120.0        79.0    2625          18.6   \n",
       "397  31.0          4         119.0        82.0    2720          19.4   \n",
       "\n",
       "     model_year  origin  hp_per_cc manufacturer            model  \n",
       "0            70     usa   0.423453    chevrolet  chevelle malibu  \n",
       "1            70     usa   0.471429        buick      skylark 320  \n",
       "2            70     usa   0.471698     plymouth        satellite  \n",
       "3            70     usa   0.493421          amc        rebel sst  \n",
       "4            70     usa   0.463576         ford           torino  \n",
       "..          ...     ...        ...          ...              ...  \n",
       "393          82     usa   0.614286         ford       mustang gl  \n",
       "394          82  europe   0.536082           vw           pickup  \n",
       "395          82     usa   0.622222        dodge          rampage  \n",
       "396          82     usa   0.658333         ford           ranger  \n",
       "397          82     usa   0.689076        chevy             s-10  \n",
       "\n",
       "[398 rows x 11 columns]"
      ],
      "text/html": "<div>\n<style scoped>\n    .dataframe tbody tr th:only-of-type {\n        vertical-align: middle;\n    }\n\n    .dataframe tbody tr th {\n        vertical-align: top;\n    }\n\n    .dataframe thead th {\n        text-align: right;\n    }\n</style>\n<table border=\"1\" class=\"dataframe\">\n  <thead>\n    <tr style=\"text-align: right;\">\n      <th></th>\n      <th>mpg</th>\n      <th>cylinders</th>\n      <th>displacement</th>\n      <th>horsepower</th>\n      <th>weight</th>\n      <th>acceleration</th>\n      <th>model_year</th>\n      <th>origin</th>\n      <th>hp_per_cc</th>\n      <th>manufacturer</th>\n      <th>model</th>\n    </tr>\n  </thead>\n  <tbody>\n    <tr>\n      <th>0</th>\n      <td>18.0</td>\n      <td>8</td>\n      <td>307.0</td>\n      <td>130.0</td>\n      <td>3504</td>\n      <td>12.0</td>\n      <td>70</td>\n      <td>usa</td>\n      <td>0.423453</td>\n      <td>chevrolet</td>\n      <td>chevelle malibu</td>\n    </tr>\n    <tr>\n      <th>1</th>\n      <td>15.0</td>\n      <td>8</td>\n      <td>350.0</td>\n      <td>165.0</td>\n      <td>3693</td>\n      <td>11.5</td>\n      <td>70</td>\n      <td>usa</td>\n      <td>0.471429</td>\n      <td>buick</td>\n      <td>skylark 320</td>\n    </tr>\n    <tr>\n      <th>2</th>\n      <td>18.0</td>\n      <td>8</td>\n      <td>318.0</td>\n      <td>150.0</td>\n      <td>3436</td>\n      <td>11.0</td>\n      <td>70</td>\n      <td>usa</td>\n      <td>0.471698</td>\n      <td>plymouth</td>\n      <td>satellite</td>\n    </tr>\n    <tr>\n      <th>3</th>\n      <td>16.0</td>\n      <td>8</td>\n      <td>304.0</td>\n      <td>150.0</td>\n      <td>3433</td>\n      <td>12.0</td>\n      <td>70</td>\n      <td>usa</td>\n      <td>0.493421</td>\n      <td>amc</td>\n      <td>rebel sst</td>\n    </tr>\n    <tr>\n      <th>4</th>\n      <td>17.0</td>\n      <td>8</td>\n      <td>302.0</td>\n      <td>140.0</td>\n      <td>3449</td>\n      <td>10.5</td>\n      <td>70</td>\n      <td>usa</td>\n      <td>0.463576</td>\n      <td>ford</td>\n      <td>torino</td>\n    </tr>\n    <tr>\n      <th>...</th>\n      <td>...</td>\n      <td>...</td>\n      <td>...</td>\n      <td>...</td>\n      <td>...</td>\n      <td>...</td>\n      <td>...</td>\n      <td>...</td>\n      <td>...</td>\n      <td>...</td>\n      <td>...</td>\n    </tr>\n    <tr>\n      <th>393</th>\n      <td>27.0</td>\n      <td>4</td>\n      <td>140.0</td>\n      <td>86.0</td>\n      <td>2790</td>\n      <td>15.6</td>\n      <td>82</td>\n      <td>usa</td>\n      <td>0.614286</td>\n      <td>ford</td>\n      <td>mustang gl</td>\n    </tr>\n    <tr>\n      <th>394</th>\n      <td>44.0</td>\n      <td>4</td>\n      <td>97.0</td>\n      <td>52.0</td>\n      <td>2130</td>\n      <td>24.6</td>\n      <td>82</td>\n      <td>europe</td>\n      <td>0.536082</td>\n      <td>vw</td>\n      <td>pickup</td>\n    </tr>\n    <tr>\n      <th>395</th>\n      <td>32.0</td>\n      <td>4</td>\n      <td>135.0</td>\n      <td>84.0</td>\n      <td>2295</td>\n      <td>11.6</td>\n      <td>82</td>\n      <td>usa</td>\n      <td>0.622222</td>\n      <td>dodge</td>\n      <td>rampage</td>\n    </tr>\n    <tr>\n      <th>396</th>\n      <td>28.0</td>\n      <td>4</td>\n      <td>120.0</td>\n      <td>79.0</td>\n      <td>2625</td>\n      <td>18.6</td>\n      <td>82</td>\n      <td>usa</td>\n      <td>0.658333</td>\n      <td>ford</td>\n      <td>ranger</td>\n    </tr>\n    <tr>\n      <th>397</th>\n      <td>31.0</td>\n      <td>4</td>\n      <td>119.0</td>\n      <td>82.0</td>\n      <td>2720</td>\n      <td>19.4</td>\n      <td>82</td>\n      <td>usa</td>\n      <td>0.689076</td>\n      <td>chevy</td>\n      <td>s-10</td>\n    </tr>\n  </tbody>\n</table>\n<p>398 rows × 11 columns</p>\n</div>"
     },
     "metadata": {},
     "execution_count": 348
    }
   ],
   "source": [
    "mpg"
   ]
  },
  {
   "cell_type": "code",
   "execution_count": 143,
   "metadata": {},
   "outputs": [
    {
     "output_type": "execute_result",
     "data": {
      "text/plain": [
       "                 mpg\n",
       "                mean\n",
       "cylinders           \n",
       "3          20.550000\n",
       "4          29.286765\n",
       "5          27.366667\n",
       "6          19.985714\n",
       "8          14.963107"
      ],
      "text/html": "<div>\n<style scoped>\n    .dataframe tbody tr th:only-of-type {\n        vertical-align: middle;\n    }\n\n    .dataframe tbody tr th {\n        vertical-align: top;\n    }\n\n    .dataframe thead tr th {\n        text-align: left;\n    }\n\n    .dataframe thead tr:last-of-type th {\n        text-align: right;\n    }\n</style>\n<table border=\"1\" class=\"dataframe\">\n  <thead>\n    <tr>\n      <th></th>\n      <th>mpg</th>\n    </tr>\n    <tr>\n      <th></th>\n      <th>mean</th>\n    </tr>\n    <tr>\n      <th>cylinders</th>\n      <th></th>\n    </tr>\n  </thead>\n  <tbody>\n    <tr>\n      <th>3</th>\n      <td>20.550000</td>\n    </tr>\n    <tr>\n      <th>4</th>\n      <td>29.286765</td>\n    </tr>\n    <tr>\n      <th>5</th>\n      <td>27.366667</td>\n    </tr>\n    <tr>\n      <th>6</th>\n      <td>19.985714</td>\n    </tr>\n    <tr>\n      <th>8</th>\n      <td>14.963107</td>\n    </tr>\n  </tbody>\n</table>\n</div>"
     },
     "metadata": {},
     "execution_count": 143
    }
   ],
   "source": [
    "# 연습문제 3 - c\n",
    "mpg.groupby(mpg.cylinders)[['mpg']].agg(['mean'])"
   ]
  },
  {
   "cell_type": "code",
   "execution_count": 183,
   "metadata": {},
   "outputs": [
    {
     "output_type": "execute_result",
     "data": {
      "text/plain": [
       "                 mpg\n",
       "cylinders           \n",
       "3          20.550000\n",
       "4          29.286765\n",
       "5          27.366667\n",
       "6          19.985714\n",
       "8          14.963107"
      ],
      "text/html": "<div>\n<style scoped>\n    .dataframe tbody tr th:only-of-type {\n        vertical-align: middle;\n    }\n\n    .dataframe tbody tr th {\n        vertical-align: top;\n    }\n\n    .dataframe thead th {\n        text-align: right;\n    }\n</style>\n<table border=\"1\" class=\"dataframe\">\n  <thead>\n    <tr style=\"text-align: right;\">\n      <th></th>\n      <th>mpg</th>\n    </tr>\n    <tr>\n      <th>cylinders</th>\n      <th></th>\n    </tr>\n  </thead>\n  <tbody>\n    <tr>\n      <th>3</th>\n      <td>20.550000</td>\n    </tr>\n    <tr>\n      <th>4</th>\n      <td>29.286765</td>\n    </tr>\n    <tr>\n      <th>5</th>\n      <td>27.366667</td>\n    </tr>\n    <tr>\n      <th>6</th>\n      <td>19.985714</td>\n    </tr>\n    <tr>\n      <th>8</th>\n      <td>14.963107</td>\n    </tr>\n  </tbody>\n</table>\n</div>"
     },
     "metadata": {},
     "execution_count": 183
    }
   ],
   "source": [
    "mpg.pivot_table('mpg','cylinders')"
   ]
  },
  {
   "cell_type": "code",
   "execution_count": 144,
   "metadata": {},
   "outputs": [
    {
     "output_type": "execute_result",
     "data": {
      "text/plain": [
       "       hp_per_cc\n",
       "            mean\n",
       "origin          \n",
       "europe  0.740005\n",
       "japan   0.789485\n",
       "usa     0.512063"
      ],
      "text/html": "<div>\n<style scoped>\n    .dataframe tbody tr th:only-of-type {\n        vertical-align: middle;\n    }\n\n    .dataframe tbody tr th {\n        vertical-align: top;\n    }\n\n    .dataframe thead tr th {\n        text-align: left;\n    }\n\n    .dataframe thead tr:last-of-type th {\n        text-align: right;\n    }\n</style>\n<table border=\"1\" class=\"dataframe\">\n  <thead>\n    <tr>\n      <th></th>\n      <th>hp_per_cc</th>\n    </tr>\n    <tr>\n      <th></th>\n      <th>mean</th>\n    </tr>\n    <tr>\n      <th>origin</th>\n      <th></th>\n    </tr>\n  </thead>\n  <tbody>\n    <tr>\n      <th>europe</th>\n      <td>0.740005</td>\n    </tr>\n    <tr>\n      <th>japan</th>\n      <td>0.789485</td>\n    </tr>\n    <tr>\n      <th>usa</th>\n      <td>0.512063</td>\n    </tr>\n  </tbody>\n</table>\n</div>"
     },
     "metadata": {},
     "execution_count": 144
    }
   ],
   "source": [
    "# 연습문제 3 - d\n",
    "mpg.groupby(mpg.origin)[['hp_per_cc']].agg(['mean'])"
   ]
  },
  {
   "cell_type": "code",
   "execution_count": 184,
   "metadata": {},
   "outputs": [
    {
     "output_type": "execute_result",
     "data": {
      "text/plain": [
       "        hp_per_cc\n",
       "origin           \n",
       "europe   0.740005\n",
       "japan    0.789485\n",
       "usa      0.512063"
      ],
      "text/html": "<div>\n<style scoped>\n    .dataframe tbody tr th:only-of-type {\n        vertical-align: middle;\n    }\n\n    .dataframe tbody tr th {\n        vertical-align: top;\n    }\n\n    .dataframe thead th {\n        text-align: right;\n    }\n</style>\n<table border=\"1\" class=\"dataframe\">\n  <thead>\n    <tr style=\"text-align: right;\">\n      <th></th>\n      <th>hp_per_cc</th>\n    </tr>\n    <tr>\n      <th>origin</th>\n      <th></th>\n    </tr>\n  </thead>\n  <tbody>\n    <tr>\n      <th>europe</th>\n      <td>0.740005</td>\n    </tr>\n    <tr>\n      <th>japan</th>\n      <td>0.789485</td>\n    </tr>\n    <tr>\n      <th>usa</th>\n      <td>0.512063</td>\n    </tr>\n  </tbody>\n</table>\n</div>"
     },
     "metadata": {},
     "execution_count": 184
    }
   ],
   "source": [
    "mpg.pivot_table('hp_per_cc','origin')"
   ]
  },
  {
   "cell_type": "code",
   "execution_count": 145,
   "metadata": {},
   "outputs": [
    {
     "output_type": "execute_result",
     "data": {
      "text/plain": [
       "manufacturer\n",
       "vw         39.016667\n",
       "honda      33.761538\n",
       "renault    32.880000\n",
       "datsun     31.113043\n",
       "mazda      30.860000\n",
       "Name: mpg, dtype: float64"
      ]
     },
     "metadata": {},
     "execution_count": 145
    }
   ],
   "source": [
    "# 연습문제 3 - e\n",
    "mpgbool = mpg.groupby('manufacturer')['model'].count() >= 5\n",
    "mpg.groupby('manufacturer')['mpg'].mean()[mpgbool].sort_values(ascending = False)[:5]"
   ]
  },
  {
   "cell_type": "code",
   "execution_count": null,
   "metadata": {},
   "outputs": [],
   "source": []
  },
  {
   "cell_type": "code",
   "execution_count": null,
   "metadata": {},
   "outputs": [],
   "source": []
  },
  {
   "cell_type": "code",
   "execution_count": null,
   "metadata": {},
   "outputs": [],
   "source": []
  }
 ]
}