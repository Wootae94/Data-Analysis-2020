{
 "metadata": {
  "language_info": {
   "codemirror_mode": {
    "name": "ipython",
    "version": 3
   },
   "file_extension": ".py",
   "mimetype": "text/x-python",
   "name": "python",
   "nbconvert_exporter": "python",
   "pygments_lexer": "ipython3",
   "version": "3.8.3-final"
  },
  "orig_nbformat": 2,
  "kernelspec": {
   "name": "python3",
   "display_name": "Python 3"
  }
 },
 "nbformat": 4,
 "nbformat_minor": 2,
 "cells": [
  {
   "source": [
    "# 시카고 샌드위치 맛집 분석"
   ],
   "cell_type": "markdown",
   "metadata": {}
  },
  {
   "source": [
    "### 1. 시카고 샌드위치 맛집 사이트에 접근하기"
   ],
   "cell_type": "markdown",
   "metadata": {}
  },
  {
   "cell_type": "code",
   "execution_count": 1,
   "metadata": {},
   "outputs": [],
   "source": [
    "from bs4 import BeautifulSoup\n",
    "from urllib.request import urlopen"
   ]
  },
  {
   "cell_type": "code",
   "execution_count": 2,
   "metadata": {},
   "outputs": [],
   "source": [
    "url_base = 'http://www.chicagomag.com'\n",
    "url_sub = '/Chicago-Magazine/November-2012/Best-Sandwiches-Chicago/'\n",
    "url = url_base + url_sub\n",
    "\n",
    "html = urlopen(url)\n",
    "soup = BeautifulSoup(html, 'html.parser')"
   ]
  },
  {
   "cell_type": "code",
   "execution_count": 3,
   "metadata": {},
   "outputs": [
    {
     "output_type": "execute_result",
     "data": {
      "text/plain": [
       "<div class=\"sammy\" style=\"position: relative;\">\n",
       "<div class=\"sammyRank\">1</div>\n",
       "<div class=\"sammyListing\"><a href=\"/Chicago-Magazine/November-2012/Best-Sandwiches-in-Chicago-Old-Oak-Tap-BLT/\"><b>BLT</b><br>\n",
       "Old Oak Tap<br>\n",
       "<em>Read more</em> </br></br></a></div>\n",
       "</div>"
      ]
     },
     "metadata": {},
     "execution_count": 3
    }
   ],
   "source": [
    "rest_list = soup.select('.sammy')\n",
    "rest_list[0]"
   ]
  },
  {
   "cell_type": "code",
   "execution_count": 4,
   "metadata": {},
   "outputs": [
    {
     "output_type": "execute_result",
     "data": {
      "text/plain": [
       "50"
      ]
     },
     "metadata": {},
     "execution_count": 4
    }
   ],
   "source": [
    "len(rest_list)"
   ]
  },
  {
   "source": [
    "### 2. 접근한 웹 페이지에서 원하는 데이터 추출하고 정리하기"
   ],
   "cell_type": "markdown",
   "metadata": {}
  },
  {
   "cell_type": "code",
   "execution_count": 5,
   "metadata": {},
   "outputs": [
    {
     "output_type": "execute_result",
     "data": {
      "text/plain": [
       "'1'"
      ]
     },
     "metadata": {},
     "execution_count": 5
    }
   ],
   "source": [
    "rank = rest_list[0].select_one('.sammyRank').get_text()\n",
    "rank"
   ]
  },
  {
   "cell_type": "code",
   "execution_count": 6,
   "metadata": {},
   "outputs": [
    {
     "output_type": "execute_result",
     "data": {
      "text/plain": [
       "'http://www.chicagomag.com/Chicago-Magazine/November-2012/Best-Sandwiches-in-Chicago-Old-Oak-Tap-BLT/'"
      ]
     },
     "metadata": {},
     "execution_count": 6
    }
   ],
   "source": [
    "from urllib.parse import urljoin\n",
    "link = urljoin(url_base,rest_list[0].find('a')['href'])\n",
    "link"
   ]
  },
  {
   "cell_type": "code",
   "execution_count": 7,
   "metadata": {},
   "outputs": [
    {
     "output_type": "execute_result",
     "data": {
      "text/plain": [
       "'BLT\\r\\nOld Oak Tap\\nRead more '"
      ]
     },
     "metadata": {},
     "execution_count": 7
    }
   ],
   "source": [
    "tmp = rest_list[0].find('a').get_text()\n",
    "tmp"
   ]
  },
  {
   "cell_type": "code",
   "execution_count": 8,
   "metadata": {},
   "outputs": [
    {
     "output_type": "execute_result",
     "data": {
      "text/plain": [
       "['BLT\\r', 'Old Oak Tap', 'Read more ']"
      ]
     },
     "metadata": {},
     "execution_count": 8
    }
   ],
   "source": [
    "tmp.split('\\n')"
   ]
  },
  {
   "cell_type": "code",
   "execution_count": 9,
   "metadata": {},
   "outputs": [
    {
     "output_type": "execute_result",
     "data": {
      "text/plain": [
       "('BLT', 'Old Oak Tap')"
      ]
     },
     "metadata": {},
     "execution_count": 9
    }
   ],
   "source": [
    "menu = tmp.split('\\n')[0].replace('\\r','')\n",
    "cafe = tmp.split('\\n')[1]\n",
    "menu, cafe"
   ]
  },
  {
   "cell_type": "code",
   "execution_count": 10,
   "metadata": {},
   "outputs": [],
   "source": [
    "rank_list = []; link_list = []; menu_list = []; cafe_list = []\n",
    "for rest in rest_list:\n",
    "    rank = int(rest.select_one('.sammyRank').get_text())\n",
    "    link = urljoin(url_base,rest.find('a')['href'])\n",
    "    tmp = rest.find('a').get_text().split('\\n')\n",
    "    menu = tmp[0].replace('\\r','')\n",
    "    cafe = tmp[1]\n",
    "    rank_list.append(rank)\n",
    "    link_list.append(link)\n",
    "    menu_list.append(menu)\n",
    "    cafe_list.append(cafe)"
   ]
  },
  {
   "cell_type": "code",
   "execution_count": 11,
   "metadata": {},
   "outputs": [
    {
     "output_type": "execute_result",
     "data": {
      "text/plain": [
       "   Rank                    Cafe               Menu  \\\n",
       "0     1             Old Oak Tap                BLT   \n",
       "1     2               Au Cheval      Fried Bologna   \n",
       "2     3                    Xoco  Woodland Mushroom   \n",
       "3     4               Al’s Deli         Roast Beef   \n",
       "4     5  Publican Quality Meats               PB&L   \n",
       "\n",
       "                                                Link  \n",
       "0  http://www.chicagomag.com/Chicago-Magazine/Nov...  \n",
       "1  http://www.chicagomag.com/Chicago-Magazine/Nov...  \n",
       "2  http://www.chicagomag.com/Chicago-Magazine/Nov...  \n",
       "3  http://www.chicagomag.com/Chicago-Magazine/Nov...  \n",
       "4  http://www.chicagomag.com/Chicago-Magazine/Nov...  "
      ],
      "text/html": "<div>\n<style scoped>\n    .dataframe tbody tr th:only-of-type {\n        vertical-align: middle;\n    }\n\n    .dataframe tbody tr th {\n        vertical-align: top;\n    }\n\n    .dataframe thead th {\n        text-align: right;\n    }\n</style>\n<table border=\"1\" class=\"dataframe\">\n  <thead>\n    <tr style=\"text-align: right;\">\n      <th></th>\n      <th>Rank</th>\n      <th>Cafe</th>\n      <th>Menu</th>\n      <th>Link</th>\n    </tr>\n  </thead>\n  <tbody>\n    <tr>\n      <th>0</th>\n      <td>1</td>\n      <td>Old Oak Tap</td>\n      <td>BLT</td>\n      <td>http://www.chicagomag.com/Chicago-Magazine/Nov...</td>\n    </tr>\n    <tr>\n      <th>1</th>\n      <td>2</td>\n      <td>Au Cheval</td>\n      <td>Fried Bologna</td>\n      <td>http://www.chicagomag.com/Chicago-Magazine/Nov...</td>\n    </tr>\n    <tr>\n      <th>2</th>\n      <td>3</td>\n      <td>Xoco</td>\n      <td>Woodland Mushroom</td>\n      <td>http://www.chicagomag.com/Chicago-Magazine/Nov...</td>\n    </tr>\n    <tr>\n      <th>3</th>\n      <td>4</td>\n      <td>Al’s Deli</td>\n      <td>Roast Beef</td>\n      <td>http://www.chicagomag.com/Chicago-Magazine/Nov...</td>\n    </tr>\n    <tr>\n      <th>4</th>\n      <td>5</td>\n      <td>Publican Quality Meats</td>\n      <td>PB&amp;L</td>\n      <td>http://www.chicagomag.com/Chicago-Magazine/Nov...</td>\n    </tr>\n  </tbody>\n</table>\n</div>"
     },
     "metadata": {},
     "execution_count": 11
    }
   ],
   "source": [
    "import pandas as pd\n",
    "df = pd.DataFrame({\n",
    "        'Rank' : rank_list,\n",
    "        'Cafe' : cafe_list,\n",
    "        'Menu' : menu_list,\n",
    "        'Link' : link_list\n",
    "})\n",
    "df.head()"
   ]
  },
  {
   "cell_type": "code",
   "execution_count": 12,
   "metadata": {},
   "outputs": [],
   "source": [
    "df.to_csv('Chicago.csv',sep=',',encoding='utf8')"
   ]
  },
  {
   "source": [
    "### 3. 다수의 웹페이지에 자동으로 접근해서 원하는 정보 가져오기"
   ],
   "cell_type": "markdown",
   "metadata": {}
  },
  {
   "cell_type": "code",
   "execution_count": 41,
   "metadata": {},
   "outputs": [],
   "source": [
    "html = urlopen(df['Link'][0])\n",
    "soup_tmp = BeautifulSoup(html, 'html.parser')"
   ]
  },
  {
   "cell_type": "code",
   "execution_count": 42,
   "metadata": {},
   "outputs": [
    {
     "output_type": "execute_result",
     "data": {
      "text/plain": [
       "<a href=\"http://www.theoldoaktap.com/\">theoldoaktap.com</a>"
      ]
     },
     "metadata": {},
     "execution_count": 42
    }
   ],
   "source": [
    "soup_tmp.select_one('.addy').find('a')"
   ]
  },
  {
   "cell_type": "code",
   "execution_count": 43,
   "metadata": {},
   "outputs": [
    {
     "output_type": "execute_result",
     "data": {
      "text/plain": [
       "(['\\n$10. 2109 W. Chicago Ave.', ' 773-772-0406', ' theoldoaktap.com'],\n",
       " '\\n$10. 2109 W. Chicago Ave.',\n",
       " ' 773-772-0406',\n",
       " ' theoldoaktap.com',\n",
       " 3)"
      ]
     },
     "metadata": {},
     "execution_count": 43
    }
   ],
   "source": [
    "tmp = soup_tmp.select_one('.addy').get_text().split(',')\n",
    "tmp,tmp[0],tmp[-2].replace(',',''),tmp[-1],len(tmp)"
   ]
  },
  {
   "cell_type": "code",
   "execution_count": 44,
   "metadata": {},
   "outputs": [
    {
     "output_type": "execute_result",
     "data": {
      "text/plain": [
       "'773-772-0406'"
      ]
     },
     "metadata": {},
     "execution_count": 44
    }
   ],
   "source": [
    "tmp[-2].replace(',','')[1:]"
   ]
  },
  {
   "cell_type": "code",
   "execution_count": 16,
   "metadata": {},
   "outputs": [
    {
     "output_type": "execute_result",
     "data": {
      "text/plain": [
       "'$10'"
      ]
     },
     "metadata": {},
     "execution_count": 16
    }
   ],
   "source": [
    "price = tmp[0].split()[0][:-1]\n",
    "price"
   ]
  },
  {
   "cell_type": "code",
   "execution_count": 17,
   "metadata": {},
   "outputs": [
    {
     "output_type": "execute_result",
     "data": {
      "text/plain": [
       "'2109 W. Chicago Ave.'"
      ]
     },
     "metadata": {},
     "execution_count": 17
    }
   ],
   "source": [
    "' '.join(tmp[0].split()[1:])"
   ]
  },
  {
   "cell_type": "code",
   "execution_count": 34,
   "metadata": {},
   "outputs": [],
   "source": [
    "html = urlopen(df['Link'][5])\n",
    "soup_tmp = BeautifulSoup(html, 'html.parser')"
   ]
  },
  {
   "cell_type": "code",
   "execution_count": 35,
   "metadata": {},
   "outputs": [],
   "source": [
    "soup_tmp.select_one('.addy').find('a')"
   ]
  },
  {
   "cell_type": "code",
   "execution_count": 40,
   "metadata": {},
   "outputs": [
    {
     "output_type": "execute_result",
     "data": {
      "text/plain": [
       "(['\\n$7.25. 100 E. Walton St.', ' 312-649-6717'], '312-649-6717', 2)"
      ]
     },
     "metadata": {},
     "execution_count": 40
    }
   ],
   "source": [
    "tmp = soup_tmp.select_one('.addy').get_text().split(',')\n",
    "tmp,tmp[-1][1:],len(tmp)"
   ]
  },
  {
   "cell_type": "code",
   "execution_count": 21,
   "metadata": {},
   "outputs": [
    {
     "output_type": "execute_result",
     "data": {
      "text/plain": [
       "'$7.25'"
      ]
     },
     "metadata": {},
     "execution_count": 21
    }
   ],
   "source": [
    "price = tmp[0].split()[0][:-1]\n",
    "price"
   ]
  },
  {
   "cell_type": "code",
   "execution_count": 22,
   "metadata": {},
   "outputs": [
    {
     "output_type": "execute_result",
     "data": {
      "text/plain": [
       "'100 E. Walton St.'"
      ]
     },
     "metadata": {},
     "execution_count": 22
    }
   ],
   "source": [
    "' '.join(tmp[0].split()[1:])"
   ]
  },
  {
   "cell_type": "code",
   "execution_count": 23,
   "metadata": {},
   "outputs": [],
   "source": [
    "html = urlopen(df['Link'][11])\n",
    "soup_tmp = BeautifulSoup(html, 'html.parser')"
   ]
  },
  {
   "cell_type": "code",
   "execution_count": 24,
   "metadata": {},
   "outputs": [
    {
     "output_type": "execute_result",
     "data": {
      "text/plain": [
       "(['\\n$5.49. Multiple locations', ' ricobenespizza.com'],\n",
       " '\\n$5.49. Multiple locations',\n",
       " '\\n$5.49. Multiple locations',\n",
       " ' ricobenespizza.com',\n",
       " 2)"
      ]
     },
     "metadata": {},
     "execution_count": 24
    }
   ],
   "source": [
    "tmp = soup_tmp.select_one('.addy').get_text().split(',')\n",
    "tmp,tmp[0],tmp[-2].replace(',',''),tmp[-1],len(tmp)"
   ]
  },
  {
   "cell_type": "code",
   "execution_count": 25,
   "metadata": {},
   "outputs": [
    {
     "output_type": "execute_result",
     "data": {
      "text/plain": [
       "'$5.49'"
      ]
     },
     "metadata": {},
     "execution_count": 25
    }
   ],
   "source": [
    "price = tmp[0].split()[0][:-1]\n",
    "price"
   ]
  },
  {
   "cell_type": "code",
   "execution_count": 26,
   "metadata": {},
   "outputs": [
    {
     "output_type": "execute_result",
     "data": {
      "text/plain": [
       "'Multiple locations'"
      ]
     },
     "metadata": {},
     "execution_count": 26
    }
   ],
   "source": [
    "' '.join(tmp[0].split()[1:])"
   ]
  },
  {
   "cell_type": "code",
   "execution_count": 27,
   "metadata": {},
   "outputs": [
    {
     "output_type": "execute_result",
     "data": {
      "text/plain": [
       "'\\n$5.49. Multiple location'"
      ]
     },
     "metadata": {},
     "execution_count": 27
    }
   ],
   "source": [
    "price = tmp[0][:-1]\n",
    "price"
   ]
  },
  {
   "cell_type": "code",
   "execution_count": 28,
   "metadata": {},
   "outputs": [],
   "source": [
    "from tqdm import tqdm_notebook"
   ]
  },
  {
   "cell_type": "code",
   "execution_count": 51,
   "metadata": {},
   "outputs": [
    {
     "output_type": "display_data",
     "data": {
      "text/plain": "HBox(children=(FloatProgress(value=0.0, max=50.0), HTML(value='')))",
      "application/vnd.jupyter.widget-view+json": {
       "version_major": 2,
       "version_minor": 0,
       "model_id": "072e5d41be1046dd82f2c1de5fb5cdc7"
      }
     },
     "metadata": {}
    },
    {
     "output_type": "stream",
     "name": "stdout",
     "text": [
      "\n"
     ]
    }
   ],
   "source": [
    "rank_list = []; link_list = []; menu_list = []; cafe_list = []\n",
    "price_list = []; addr_list = []; tel_list = []; hp_list = []\n",
    "for rest in tqdm_notebook(rest_list):\n",
    "    rank = int(rest.select_one('.sammyRank').get_text())\n",
    "    link = urljoin(url_base,rest.find('a')['href'])\n",
    "    tmp = rest.find('a').get_text().split('\\n')\n",
    "    menu = tmp[0].replace('\\r','')\n",
    "    cafe = tmp[1]\n",
    "    rank_list.append(rank)\n",
    "    link_list.append(link)\n",
    "    menu_list.append(menu)\n",
    "    cafe_list.append(cafe)\n",
    "    \n",
    "    html = urlopen(link)\n",
    "    soup_tmp = BeautifulSoup(html, 'html.parser')\n",
    "    tmp = soup_tmp.select_one('.addy').get_text().split(',')\n",
    "    price_list.append(tmp[0].split()[0][:-1])  \n",
    "    addr = ' '.join(tmp[0].split()[1:])\n",
    "    if len(tmp) == 3:\n",
    "        addr_list.append(addr)\n",
    "        tel_list.append(tmp[-2].replace(',','')[1:])\n",
    "        hp_list.append(tmp[-1])\n",
    "    elif len(tmp) == 4:\n",
    "        addr += ', ' + tmp[1]\n",
    "        addr_list.append(addr)\n",
    "        tel_list.append(tmp[-2].replace(',','')[1:])\n",
    "        hp_list.append(tmp[-1])\n",
    "    else:\n",
    "        if soup_tmp.select_one('.addy').find('a'):\n",
    "            addr_list.append('')\n",
    "            tel_list.append('')\n",
    "            hp_list.append(tmp[-1])\n",
    "        else:\n",
    "            addr_list.append(addr)\n",
    "            tel_list.append(tmp[-1][1:])\n",
    "            hp_list.append('')\n"
   ]
  },
  {
   "cell_type": "code",
   "execution_count": 52,
   "metadata": {},
   "outputs": [
    {
     "output_type": "execute_result",
     "data": {
      "text/plain": [
       "   Rank                    Cafe               Menu  Price  \\\n",
       "0     1             Old Oak Tap                BLT    $10   \n",
       "1     2               Au Cheval      Fried Bologna     $9   \n",
       "2     3                    Xoco  Woodland Mushroom  $9.50   \n",
       "3     4               Al’s Deli         Roast Beef  $9.40   \n",
       "4     5  Publican Quality Meats               PB&L    $10   \n",
       "\n",
       "                    Address     Telephone                   Homepage  \n",
       "0      2109 W. Chicago Ave.  773-772-0406           theoldoaktap.com  \n",
       "1       800 W. Randolph St.  312-929-4580        aucheval.tumblr.com  \n",
       "2          445 N. Clark St.  312-334-3688            rickbayless.com  \n",
       "3  914 Noyes St.,  Evanston  847-475-9400                alsdeli.net  \n",
       "4        825 W. Fulton Mkt.  312-445-8977   publicanqualitymeats.com  "
      ],
      "text/html": "<div>\n<style scoped>\n    .dataframe tbody tr th:only-of-type {\n        vertical-align: middle;\n    }\n\n    .dataframe tbody tr th {\n        vertical-align: top;\n    }\n\n    .dataframe thead th {\n        text-align: right;\n    }\n</style>\n<table border=\"1\" class=\"dataframe\">\n  <thead>\n    <tr style=\"text-align: right;\">\n      <th></th>\n      <th>Rank</th>\n      <th>Cafe</th>\n      <th>Menu</th>\n      <th>Price</th>\n      <th>Address</th>\n      <th>Telephone</th>\n      <th>Homepage</th>\n    </tr>\n  </thead>\n  <tbody>\n    <tr>\n      <th>0</th>\n      <td>1</td>\n      <td>Old Oak Tap</td>\n      <td>BLT</td>\n      <td>$10</td>\n      <td>2109 W. Chicago Ave.</td>\n      <td>773-772-0406</td>\n      <td>theoldoaktap.com</td>\n    </tr>\n    <tr>\n      <th>1</th>\n      <td>2</td>\n      <td>Au Cheval</td>\n      <td>Fried Bologna</td>\n      <td>$9</td>\n      <td>800 W. Randolph St.</td>\n      <td>312-929-4580</td>\n      <td>aucheval.tumblr.com</td>\n    </tr>\n    <tr>\n      <th>2</th>\n      <td>3</td>\n      <td>Xoco</td>\n      <td>Woodland Mushroom</td>\n      <td>$9.50</td>\n      <td>445 N. Clark St.</td>\n      <td>312-334-3688</td>\n      <td>rickbayless.com</td>\n    </tr>\n    <tr>\n      <th>3</th>\n      <td>4</td>\n      <td>Al’s Deli</td>\n      <td>Roast Beef</td>\n      <td>$9.40</td>\n      <td>914 Noyes St.,  Evanston</td>\n      <td>847-475-9400</td>\n      <td>alsdeli.net</td>\n    </tr>\n    <tr>\n      <th>4</th>\n      <td>5</td>\n      <td>Publican Quality Meats</td>\n      <td>PB&amp;L</td>\n      <td>$10</td>\n      <td>825 W. Fulton Mkt.</td>\n      <td>312-445-8977</td>\n      <td>publicanqualitymeats.com</td>\n    </tr>\n  </tbody>\n</table>\n</div>"
     },
     "metadata": {},
     "execution_count": 52
    }
   ],
   "source": [
    "df2 = pd.DataFrame({\n",
    "        'Rank' : rank_list,\n",
    "        'Cafe' : cafe_list,\n",
    "        'Menu' : menu_list,\n",
    "        'Price': price_list,\n",
    "        'Address' : addr_list,\n",
    "        'Telephone' : tel_list,\n",
    "        'Homepage' : hp_list\n",
    "})\n",
    "df2.head()"
   ]
  },
  {
   "cell_type": "code",
   "execution_count": 53,
   "metadata": {},
   "outputs": [],
   "source": [
    "df2.to_csv('Chicago2.csv', sep=',',encoding='utf8')"
   ]
  },
  {
   "source": [
    "### 3. 맛집 위치를 지도 위에 표시하기"
   ],
   "cell_type": "markdown",
   "metadata": {}
  },
  {
   "cell_type": "code",
   "execution_count": 66,
   "metadata": {},
   "outputs": [],
   "source": [
    "import numpy as np\n",
    "import folium\n",
    "import googlemaps"
   ]
  },
  {
   "cell_type": "code",
   "execution_count": 67,
   "metadata": {},
   "outputs": [],
   "source": [
    "key_fd = open('googleMapsKey.txt', mode='r')\n",
    "gmaps_key = key_fd.read(100)\n",
    "key_fd.close()"
   ]
  },
  {
   "cell_type": "code",
   "execution_count": 68,
   "metadata": {},
   "outputs": [],
   "source": [
    "gmaps = googlemaps.Client(key=gmaps_key)"
   ]
  },
  {
   "cell_type": "code",
   "execution_count": 69,
   "metadata": {},
   "outputs": [
    {
     "output_type": "display_data",
     "data": {
      "text/plain": "HBox(children=(FloatProgress(value=0.0, max=50.0), HTML(value='')))",
      "application/vnd.jupyter.widget-view+json": {
       "version_major": 2,
       "version_minor": 0,
       "model_id": "f24d4a3491a94d7c8d52191358af51e5"
      }
     },
     "metadata": {}
    },
    {
     "output_type": "stream",
     "name": "stdout",
     "text": [
      "\n"
     ]
    }
   ],
   "source": [
    "lat = []\n",
    "lng = []\n",
    "\n",
    "for n in tqdm_notebook(df2.index):\n",
    "    if df2['Address'][n].find(' ') != 0:\n",
    "        target_name = df2['Address'][n]+', '+'Chicago'\n",
    "        gmaps_output = gmaps.geocode(target_name)\n",
    "        location_output = gmaps_output[0].get('geometry')\n",
    "        lat.append(location_output['location']['lat'])\n",
    "        lng.append(location_output['location']['lng'])\n",
    "    else:\n",
    "        lat.append(np.nan)\n",
    "        lng.append(np.nan)"
   ]
  },
  {
   "cell_type": "code",
   "execution_count": 70,
   "metadata": {},
   "outputs": [
    {
     "output_type": "execute_result",
     "data": {
      "text/plain": [
       "   Rank                    Cafe               Menu  Price  \\\n",
       "0     1             Old Oak Tap                BLT    $10   \n",
       "1     2               Au Cheval      Fried Bologna     $9   \n",
       "2     3                    Xoco  Woodland Mushroom  $9.50   \n",
       "3     4               Al’s Deli         Roast Beef  $9.40   \n",
       "4     5  Publican Quality Meats               PB&L    $10   \n",
       "\n",
       "                    Address     Telephone                   Homepage  \\\n",
       "0      2109 W. Chicago Ave.  773-772-0406           theoldoaktap.com   \n",
       "1       800 W. Randolph St.  312-929-4580        aucheval.tumblr.com   \n",
       "2          445 N. Clark St.  312-334-3688            rickbayless.com   \n",
       "3  914 Noyes St.,  Evanston  847-475-9400                alsdeli.net   \n",
       "4        825 W. Fulton Mkt.  312-445-8977   publicanqualitymeats.com   \n",
       "\n",
       "   Lattitude  Longitude  \n",
       "0  41.895605 -87.679961  \n",
       "1  41.884658 -87.647667  \n",
       "2  41.890523 -87.630783  \n",
       "3  42.058322 -87.683748  \n",
       "4  41.886604 -87.648536  "
      ],
      "text/html": "<div>\n<style scoped>\n    .dataframe tbody tr th:only-of-type {\n        vertical-align: middle;\n    }\n\n    .dataframe tbody tr th {\n        vertical-align: top;\n    }\n\n    .dataframe thead th {\n        text-align: right;\n    }\n</style>\n<table border=\"1\" class=\"dataframe\">\n  <thead>\n    <tr style=\"text-align: right;\">\n      <th></th>\n      <th>Rank</th>\n      <th>Cafe</th>\n      <th>Menu</th>\n      <th>Price</th>\n      <th>Address</th>\n      <th>Telephone</th>\n      <th>Homepage</th>\n      <th>Lattitude</th>\n      <th>Longitude</th>\n    </tr>\n  </thead>\n  <tbody>\n    <tr>\n      <th>0</th>\n      <td>1</td>\n      <td>Old Oak Tap</td>\n      <td>BLT</td>\n      <td>$10</td>\n      <td>2109 W. Chicago Ave.</td>\n      <td>773-772-0406</td>\n      <td>theoldoaktap.com</td>\n      <td>41.895605</td>\n      <td>-87.679961</td>\n    </tr>\n    <tr>\n      <th>1</th>\n      <td>2</td>\n      <td>Au Cheval</td>\n      <td>Fried Bologna</td>\n      <td>$9</td>\n      <td>800 W. Randolph St.</td>\n      <td>312-929-4580</td>\n      <td>aucheval.tumblr.com</td>\n      <td>41.884658</td>\n      <td>-87.647667</td>\n    </tr>\n    <tr>\n      <th>2</th>\n      <td>3</td>\n      <td>Xoco</td>\n      <td>Woodland Mushroom</td>\n      <td>$9.50</td>\n      <td>445 N. Clark St.</td>\n      <td>312-334-3688</td>\n      <td>rickbayless.com</td>\n      <td>41.890523</td>\n      <td>-87.630783</td>\n    </tr>\n    <tr>\n      <th>3</th>\n      <td>4</td>\n      <td>Al’s Deli</td>\n      <td>Roast Beef</td>\n      <td>$9.40</td>\n      <td>914 Noyes St.,  Evanston</td>\n      <td>847-475-9400</td>\n      <td>alsdeli.net</td>\n      <td>42.058322</td>\n      <td>-87.683748</td>\n    </tr>\n    <tr>\n      <th>4</th>\n      <td>5</td>\n      <td>Publican Quality Meats</td>\n      <td>PB&amp;L</td>\n      <td>$10</td>\n      <td>825 W. Fulton Mkt.</td>\n      <td>312-445-8977</td>\n      <td>publicanqualitymeats.com</td>\n      <td>41.886604</td>\n      <td>-87.648536</td>\n    </tr>\n  </tbody>\n</table>\n</div>"
     },
     "metadata": {},
     "execution_count": 70
    }
   ],
   "source": [
    "df2['Lattitude'] = lat\n",
    "df2['Longitude'] = lng\n",
    "df2.head()"
   ]
  },
  {
   "cell_type": "code",
   "execution_count": 72,
   "metadata": {},
   "outputs": [
    {
     "output_type": "execute_result",
     "data": {
      "text/plain": [
       "<folium.folium.Map at 0x17a6d0f40a0>"
      ],
      "text/html": "<div style=\"width:100%;\"><div style=\"position:relative;width:100%;height:0;padding-bottom:60%;\"><span style=\"color:#565656\">Make this Notebook Trusted to load map: File -> Trust Notebook</span><iframe src=\"about:blank\" style=\"position:absolute;width:100%;height:100%;left:0;top:0;border:none !important;\" data-html=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 onload=\"this.contentDocument.open();this.contentDocument.write(atob(this.getAttribute('data-html')));this.contentDocument.close();\" allowfullscreen webkitallowfullscreen mozallowfullscreen></iframe></div></div>"
     },
     "metadata": {},
     "execution_count": 72
    }
   ],
   "source": [
    "mapping = folium.Map(location=[df2['Lattitude'].mean(),\n",
    "                        df2['Longitude'].mean()], zoom_start=11)\n",
    "folium.Marker([df2['Lattitude'].mean(),df2['Longitude'].mean()],\n",
    "                popup='center').add_to(mapping)\n",
    "mapping"
   ]
  },
  {
   "cell_type": "code",
   "execution_count": 73,
   "metadata": {},
   "outputs": [
    {
     "output_type": "execute_result",
     "data": {
      "text/plain": [
       "<folium.folium.Map at 0x17a6ec5a160>"
      ],
      "text/html": "<div style=\"width:100%;\"><div style=\"position:relative;width:100%;height:0;padding-bottom:60%;\"><span style=\"color:#565656\">Make this Notebook Trusted to load map: File -> Trust Notebook</span><iframe src=\"about:blank\" style=\"position:absolute;width:100%;height:100%;left:0;top:0;border:none !important;\" data-html=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 onload=\"this.contentDocument.open();this.contentDocument.write(atob(this.getAttribute('data-html')));this.contentDocument.close();\" allowfullscreen webkitallowfullscreen mozallowfullscreen></iframe></div></div>"
     },
     "metadata": {},
     "execution_count": 73
    }
   ],
   "source": [
    "mapping = folium.Map(location=[df2['Lattitude'].mean(),\n",
    "                        df2['Longitude'].mean()], zoom_start=11)\n",
    "\n",
    "for n in df2.index:\n",
    "     if df2['Address'][n].find(' ') != 0:\n",
    "         folium.Marker([df2['Lattitude'][n],df2['Longitude'][n]],\n",
    "         popup=df2['Cafe'][n]).add_to(mapping)\n",
    "mapping"
   ]
  },
  {
   "cell_type": "code",
   "execution_count": 74,
   "metadata": {},
   "outputs": [],
   "source": [
    "df2.to_csv('Chicago3.csv', sep=',',encoding='utf8')"
   ]
  },
  {
   "cell_type": "code",
   "execution_count": null,
   "metadata": {},
   "outputs": [],
   "source": []
  },
  {
   "cell_type": "code",
   "execution_count": null,
   "metadata": {},
   "outputs": [],
   "source": []
  },
  {
   "cell_type": "code",
   "execution_count": null,
   "metadata": {},
   "outputs": [],
   "source": []
  },
  {
   "cell_type": "code",
   "execution_count": null,
   "metadata": {},
   "outputs": [],
   "source": []
  },
  {
   "cell_type": "code",
   "execution_count": null,
   "metadata": {},
   "outputs": [],
   "source": []
  },
  {
   "cell_type": "code",
   "execution_count": null,
   "metadata": {},
   "outputs": [],
   "source": []
  },
  {
   "cell_type": "code",
   "execution_count": null,
   "metadata": {},
   "outputs": [],
   "source": []
  },
  {
   "cell_type": "code",
   "execution_count": null,
   "metadata": {},
   "outputs": [],
   "source": []
  },
  {
   "cell_type": "code",
   "execution_count": null,
   "metadata": {},
   "outputs": [],
   "source": []
  }
 ]
}