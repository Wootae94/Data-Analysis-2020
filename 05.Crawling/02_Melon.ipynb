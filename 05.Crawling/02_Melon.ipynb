{
 "metadata": {
  "language_info": {
   "codemirror_mode": {
    "name": "ipython",
    "version": 3
   },
   "file_extension": ".py",
   "mimetype": "text/x-python",
   "name": "python",
   "nbconvert_exporter": "python",
   "pygments_lexer": "ipython3",
   "version": "3.8.3-final"
  },
  "orig_nbformat": 2,
  "kernelspec": {
   "name": "python3",
   "display_name": "Python 3",
   "language": "python"
  }
 },
 "nbformat": 4,
 "nbformat_minor": 2,
 "cells": [
  {
   "source": [
    "# Melon 주간 Top 100 구하기"
   ],
   "cell_type": "markdown",
   "metadata": {}
  },
  {
   "cell_type": "code",
   "execution_count": 1,
   "metadata": {},
   "outputs": [],
   "source": [
    "from bs4 import BeautifulSoup\n",
    "import pandas as pd\n",
    "import urllib.request"
   ]
  },
  {
   "cell_type": "code",
   "execution_count": 2,
   "metadata": {},
   "outputs": [],
   "source": [
    "import requests\n",
    "url ='https://www.melon.com/chart/week/index.htm'\n",
    "headers = {'User-Agent':'Mozilla/5.0 (Windows NT 6.3; Win64; x64) AppleWebKit/537.36 (KHTML, like Gecko) Chrome/63.0.3239.132 Safari/537.36'}\n",
    "req = requests.get(url, headers = headers)\n",
    "html = req.text"
   ]
  },
  {
   "cell_type": "code",
   "execution_count": 3,
   "metadata": {},
   "outputs": [],
   "source": [
    "soup = BeautifulSoup(html,'html.parser')"
   ]
  },
  {
   "source": [
    "### 차트 기간"
   ],
   "cell_type": "markdown",
   "metadata": {}
  },
  {
   "cell_type": "code",
   "execution_count": 4,
   "metadata": {},
   "outputs": [
    {
     "output_type": "execute_result",
     "data": {
      "text/plain": [
       "'\\r\\n\\t\\t\\t\\t\\t\\t\\t2020.12.21 ~ 2020.12.27\\r\\n\\t\\t\\t\\t\\t\\t'"
      ]
     },
     "metadata": {},
     "execution_count": 4
    }
   ],
   "source": [
    "soup.select_one('.yyyymmdd').get_text()"
   ]
  },
  {
   "cell_type": "code",
   "execution_count": 5,
   "metadata": {},
   "outputs": [
    {
     "output_type": "execute_result",
     "data": {
      "text/plain": [
       "'2020.12.21 ~ 2020.12.27'"
      ]
     },
     "metadata": {},
     "execution_count": 5
    }
   ],
   "source": [
    "date = soup.select_one('.yyyymmdd').get_text().strip()\n",
    "date"
   ]
  },
  {
   "cell_type": "code",
   "execution_count": 6,
   "metadata": {},
   "outputs": [
    {
     "output_type": "execute_result",
     "data": {
      "text/plain": [
       "('2020.12.21', '2020.12.27')"
      ]
     },
     "metadata": {},
     "execution_count": 6
    }
   ],
   "source": [
    "start_day = date[:10]\n",
    "end_day = date[13:]\n",
    "start_day, end_day"
   ]
  },
  {
   "source": [
    "### 곡 리스트 찾기"
   ],
   "cell_type": "markdown",
   "metadata": {}
  },
  {
   "cell_type": "code",
   "execution_count": 7,
   "metadata": {},
   "outputs": [
    {
     "output_type": "execute_result",
     "data": {
      "text/plain": [
       "100"
      ]
     },
     "metadata": {},
     "execution_count": 7
    }
   ],
   "source": [
    "service_list = soup.select_one('.service_list_song')\n",
    "tbody = service_list.find('tbody')\n",
    "trs = tbody.find_all('tr')\n",
    "len(trs)"
   ]
  },
  {
   "cell_type": "code",
   "execution_count": 8,
   "metadata": {},
   "outputs": [
    {
     "output_type": "stream",
     "name": "stdout",
     "text": [
      "1\n"
     ]
    }
   ],
   "source": [
    "rank = int(trs[0].select_one('.rank').string)\n",
    "print(rank)"
   ]
  },
  {
   "cell_type": "code",
   "execution_count": 9,
   "metadata": {},
   "outputs": [
    {
     "output_type": "stream",
     "name": "stdout",
     "text": [
      "0\n4\n0\n-4\n"
     ]
    }
   ],
   "source": [
    "for i in [0, 1, 2, 19]:\n",
    "    entry = trs[i].select_one('.rank_wrap')\n",
    "    spans = entry.find_all('span')\n",
    "    diff = -100\n",
    "    if len(spans) == 3:\n",
    "        diff = int(spans[2].string)\n",
    "        if diff != 0:\n",
    "            sign = spans[2].attrs['class']\n",
    "            if sign[0] == 'down':\n",
    "                diff *= -1\n",
    "    print(diff)"
   ]
  },
  {
   "cell_type": "code",
   "execution_count": 10,
   "metadata": {},
   "outputs": [
    {
     "output_type": "execute_result",
     "data": {
      "text/plain": [
       "('VVS (Feat. JUSTHIS) (Prod. GroovyRoom)', '미란이 (Mirani)', '쇼미더머니 9 Episode 1')"
      ]
     },
     "metadata": {},
     "execution_count": 10
    }
   ],
   "source": [
    "info = trs[0].select_one('.ellipsis.rank01')\n",
    "title = info.find('a').string\n",
    "info = trs[0].select_one('.ellipsis.rank02')\n",
    "singer = info.find('a').string\n",
    "info = trs[0].select_one('.ellipsis.rank03')\n",
    "album = info.find('a').string\n",
    "title, singer, album"
   ]
  },
  {
   "source": [
    "#### DataFrame으로 만들기"
   ],
   "cell_type": "markdown",
   "metadata": {}
  },
  {
   "cell_type": "code",
   "execution_count": 11,
   "metadata": {},
   "outputs": [],
   "source": [
    "ranks = []; diffs = []; \n",
    "titles = []; singers = []; albums = []\n",
    "service_list = soup.select_one('.service_list_song')\n",
    "tbody = service_list.find('tbody')\n",
    "trs = tbody.find_all('tr')"
   ]
  },
  {
   "cell_type": "code",
   "execution_count": 12,
   "metadata": {},
   "outputs": [],
   "source": [
    "for tr in trs:\n",
    "    rank = int(tr.select_one('.rank').string)\n",
    "    info = tr.select_one('.ellipsis.rank01')\n",
    "    title = info.find('a').string\n",
    "    info = tr.select_one('.ellipsis.rank02')\n",
    "    singer = info.find('a').string\n",
    "    info = tr.select_one('.ellipsis.rank03')\n",
    "    album = info.find('a').string\n",
    "    \n",
    "    entry = tr.select_one('.rank_wrap')\n",
    "    spans = entry.find_all('span')\n",
    "    diff = -100\n",
    "    if len(spans) == 3:\n",
    "        diff = int(spans[2].string)\n",
    "        if diff != 0:\n",
    "            sign = spans[2].attrs['class']\n",
    "            if sign[0] == 'down':\n",
    "                diff *= -1\n",
    "    ranks.append(rank)\n",
    "    diffs.append(diff)    \n",
    "    titles.append(title)        \n",
    "    singers.append(singer)\n",
    "    albums.append(album)"
   ]
  },
  {
   "cell_type": "code",
   "execution_count": 13,
   "metadata": {},
   "outputs": [
    {
     "output_type": "stream",
     "name": "stdout",
     "text": [
      "기간 : 2020.12.21 ~ 2020.12.27\n"
     ]
    },
    {
     "output_type": "execute_result",
     "data": {
      "text/plain": [
       "      diff                                              title         singer  \\\n",
       "rank                                                                           \n",
       "1        0             VVS (Feat. JUSTHIS) (Prod. GroovyRoom)   미란이 (Mirani)   \n",
       "2        4                    All I Want For Christmas Is You   Mariah Carey   \n",
       "3        0                                      밤하늘의 별을(2020)             경서   \n",
       "4       -2                                           Dynamite          방탄소년단   \n",
       "5        7                                      Santa Tell Me  Ariana Grande   \n",
       "...    ...                                                ...            ...   \n",
       "96      -2                                             Maniac     Conan Gray   \n",
       "97      -2                                  Paris In The Rain           Lauv   \n",
       "98    -100                                     그날에 나는 맘이 편했을까            이예준   \n",
       "99     -27              Bad News Cypher vol.2 (Feat. TakeOne)   릴보이 (lIlBOI)   \n",
       "100   -100  Oh Santa! (Feat. Ariana Grande & Jennifer Hudson)   Mariah Carey   \n",
       "\n",
       "                                                 album  \n",
       "rank                                                    \n",
       "1                                    쇼미더머니 9 Episode 1  \n",
       "2         Merry Christmas (Deluxe Anniversary Edition)  \n",
       "3                                        밤하늘의 별을(2020)  \n",
       "4                           Dynamite (DayTime Version)  \n",
       "5                                        Santa Tell Me  \n",
       "...                                                ...  \n",
       "96                                              Maniac  \n",
       "97             I met you when I was 18. (the playlist)  \n",
       "98                                      그날에 나는 맘이 편했을까  \n",
       "99                                  쇼미더머니 9 Semi Final  \n",
       "100   Oh Santa! (Feat. Ariana Grande, Jennifer Hudson)  \n",
       "\n",
       "[100 rows x 4 columns]"
      ],
      "text/html": "<div>\n<style scoped>\n    .dataframe tbody tr th:only-of-type {\n        vertical-align: middle;\n    }\n\n    .dataframe tbody tr th {\n        vertical-align: top;\n    }\n\n    .dataframe thead th {\n        text-align: right;\n    }\n</style>\n<table border=\"1\" class=\"dataframe\">\n  <thead>\n    <tr style=\"text-align: right;\">\n      <th></th>\n      <th>diff</th>\n      <th>title</th>\n      <th>singer</th>\n      <th>album</th>\n    </tr>\n    <tr>\n      <th>rank</th>\n      <th></th>\n      <th></th>\n      <th></th>\n      <th></th>\n    </tr>\n  </thead>\n  <tbody>\n    <tr>\n      <th>1</th>\n      <td>0</td>\n      <td>VVS (Feat. JUSTHIS) (Prod. GroovyRoom)</td>\n      <td>미란이 (Mirani)</td>\n      <td>쇼미더머니 9 Episode 1</td>\n    </tr>\n    <tr>\n      <th>2</th>\n      <td>4</td>\n      <td>All I Want For Christmas Is You</td>\n      <td>Mariah Carey</td>\n      <td>Merry Christmas (Deluxe Anniversary Edition)</td>\n    </tr>\n    <tr>\n      <th>3</th>\n      <td>0</td>\n      <td>밤하늘의 별을(2020)</td>\n      <td>경서</td>\n      <td>밤하늘의 별을(2020)</td>\n    </tr>\n    <tr>\n      <th>4</th>\n      <td>-2</td>\n      <td>Dynamite</td>\n      <td>방탄소년단</td>\n      <td>Dynamite (DayTime Version)</td>\n    </tr>\n    <tr>\n      <th>5</th>\n      <td>7</td>\n      <td>Santa Tell Me</td>\n      <td>Ariana Grande</td>\n      <td>Santa Tell Me</td>\n    </tr>\n    <tr>\n      <th>...</th>\n      <td>...</td>\n      <td>...</td>\n      <td>...</td>\n      <td>...</td>\n    </tr>\n    <tr>\n      <th>96</th>\n      <td>-2</td>\n      <td>Maniac</td>\n      <td>Conan Gray</td>\n      <td>Maniac</td>\n    </tr>\n    <tr>\n      <th>97</th>\n      <td>-2</td>\n      <td>Paris In The Rain</td>\n      <td>Lauv</td>\n      <td>I met you when I was 18. (the playlist)</td>\n    </tr>\n    <tr>\n      <th>98</th>\n      <td>-100</td>\n      <td>그날에 나는 맘이 편했을까</td>\n      <td>이예준</td>\n      <td>그날에 나는 맘이 편했을까</td>\n    </tr>\n    <tr>\n      <th>99</th>\n      <td>-27</td>\n      <td>Bad News Cypher vol.2 (Feat. TakeOne)</td>\n      <td>릴보이 (lIlBOI)</td>\n      <td>쇼미더머니 9 Semi Final</td>\n    </tr>\n    <tr>\n      <th>100</th>\n      <td>-100</td>\n      <td>Oh Santa! (Feat. Ariana Grande &amp; Jennifer Hudson)</td>\n      <td>Mariah Carey</td>\n      <td>Oh Santa! (Feat. Ariana Grande, Jennifer Hudson)</td>\n    </tr>\n  </tbody>\n</table>\n<p>100 rows × 4 columns</p>\n</div>"
     },
     "metadata": {},
     "execution_count": 13
    }
   ],
   "source": [
    "Melon_top_100 = pd.DataFrame({\n",
    "                    'rank' : ranks,\n",
    "                    'diff' : diffs,\n",
    "                    'title' : titles,\n",
    "                    'singer' : singers,\n",
    "                    'album' : albums\n",
    "})\n",
    "Melon_top_100 = Melon_top_100.set_index('rank')\n",
    "print(f'기간 : {start_day} ~ {end_day}')\n",
    "Melon_top_100"
   ]
  },
  {
   "cell_type": "code",
   "execution_count": null,
   "metadata": {},
   "outputs": [],
   "source": []
  }
 ]
}