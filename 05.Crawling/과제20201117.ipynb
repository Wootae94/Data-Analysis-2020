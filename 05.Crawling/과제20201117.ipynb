{
 "metadata": {
  "language_info": {
   "codemirror_mode": {
    "name": "ipython",
    "version": 3
   },
   "file_extension": ".py",
   "mimetype": "text/x-python",
   "name": "python",
   "nbconvert_exporter": "python",
   "pygments_lexer": "ipython3",
   "version": "3.8.3-final"
  },
  "orig_nbformat": 2,
  "kernelspec": {
   "name": "python3",
   "display_name": "Python 3"
  }
 },
 "nbformat": 4,
 "nbformat_minor": 2,
 "cells": [
  {
   "cell_type": "code",
   "execution_count": 1,
   "metadata": {},
   "outputs": [],
   "source": [
    "from bs4 import BeautifulSoup\n",
    "import pandas as pd\n",
    "import urllib.request"
   ]
  },
  {
   "cell_type": "code",
   "execution_count": 2,
   "metadata": {},
   "outputs": [],
   "source": [
    "import requests\n",
    "page = '1'\n",
    "url =f'https://www.hanbit.co.kr/academy/books/new_book_list.html?page={page}&cate_cd=&srt=&searchKey=&keyWord='\n",
    "headers = {'User-Agent':'Mozilla/5.0 (Windows NT 6.3; Win64; x64) AppleWebKit/537.36 (KHTML, like Gecko) Chrome/63.0.3239.132 Safari/537.36'}\n",
    "req = requests.get(url, headers = headers)\n",
    "html = req.text"
   ]
  },
  {
   "cell_type": "code",
   "execution_count": 3,
   "metadata": {},
   "outputs": [],
   "source": [
    "soup = BeautifulSoup(html,'html.parser')"
   ]
  },
  {
   "cell_type": "code",
   "execution_count": 4,
   "metadata": {},
   "outputs": [
    {
     "output_type": "execute_result",
     "data": {
      "text/plain": [
       "10"
      ]
     },
     "metadata": {},
     "execution_count": 4
    }
   ],
   "source": [
    "paginates = soup.select('.paginate')\n",
    "page = int(paginates[0].find_all('a')[-2].string)\n",
    "page"
   ]
  },
  {
   "cell_type": "code",
   "execution_count": 5,
   "metadata": {},
   "outputs": [
    {
     "output_type": "execute_result",
     "data": {
      "text/plain": [
       "'포르잔 C++ 에센셜'"
      ]
     },
     "metadata": {},
     "execution_count": 5
    }
   ],
   "source": [
    "book_tits = soup.select('.book_tit')\n",
    "book_tits[0].get_text()"
   ]
  },
  {
   "cell_type": "code",
   "execution_count": 6,
   "metadata": {},
   "outputs": [
    {
     "output_type": "execute_result",
     "data": {
      "text/plain": [
       "'Behrouz A. Forouzan , Richard F. Gilberg '"
      ]
     },
     "metadata": {},
     "execution_count": 6
    }
   ],
   "source": [
    "book_writers = soup.select('.book_writer')\n",
    "book_writers[0].get_text()"
   ]
  },
  {
   "cell_type": "code",
   "execution_count": 7,
   "metadata": {},
   "outputs": [
    {
     "output_type": "execute_result",
     "data": {
      "text/plain": [
       "'32,000원'"
      ]
     },
     "metadata": {},
     "execution_count": 7
    }
   ],
   "source": [
    "book_prices = soup.select('.price')\n",
    "book_prices[0].get_text()"
   ]
  },
  {
   "source": [
    "### 한빛 아케데미 책 리스트 데이터프레임으로 만들기"
   ],
   "cell_type": "markdown",
   "metadata": {}
  },
  {
   "cell_type": "code",
   "execution_count": 8,
   "metadata": {},
   "outputs": [],
   "source": [
    "# 페이지 설정\n",
    "page = '16'\n",
    "url =f'https://www.hanbit.co.kr/academy/books/new_book_list.html?page={page}&cate_cd=&srt=&searchKey=&keyWord='\n",
    "headers = {'User-Agent':'Mozilla/5.0 (Windows NT 6.3; Win64; x64) AppleWebKit/537.36 (KHTML, like Gecko) Chrome/63.0.3239.132 Safari/537.36'}\n",
    "req = requests.get(url, headers = headers)\n",
    "html = req.text\n",
    "soup = BeautifulSoup(html,'html.parser')"
   ]
  },
  {
   "cell_type": "code",
   "execution_count": 9,
   "metadata": {},
   "outputs": [],
   "source": [
    "paginates = soup.select('.paginate')\n",
    "page = int(paginates[0].find_all('a')[-1].string)"
   ]
  },
  {
   "cell_type": "code",
   "execution_count": 10,
   "metadata": {},
   "outputs": [],
   "source": [
    "# 빈 리스트 생성\n",
    "titles = []; writers = []; prices =[]"
   ]
  },
  {
   "cell_type": "code",
   "execution_count": 11,
   "metadata": {},
   "outputs": [],
   "source": [
    "for i in range(page):\n",
    "    page_url = str(i + 1)\n",
    "    web_url = f'https://www.hanbit.co.kr/academy/books/new_book_list.html?page={page_url}&cate_cd=&srt=&searchKey=&keyWord='\n",
    "    headers = {'User-Agent':'Mozilla/5.0 (Windows NT 6.3; Win64; x64) AppleWebKit/537.36 (KHTML, like Gecko) Chrome/63.0.3239.132 Safari/537.36'}\n",
    "    req = requests.get(web_url, headers = headers)\n",
    "    html = req.text\n",
    "    soup = BeautifulSoup(html,'html.parser')\n",
    "    book_tits = soup.select('.book_tit')\n",
    "    book_writers = soup.select('.book_writer')\n",
    "    book_prices = soup.select('.price')\n",
    "    for book_tit in book_tits:\n",
    "        titles.append(book_tit.get_text())\n",
    "    for book_writer in book_writers:\n",
    "        writers.append(book_writer.get_text())\n",
    "    for book_price in book_prices:\n",
    "        prices.append(book_price.get_text())        "
   ]
  },
  {
   "cell_type": "code",
   "execution_count": 12,
   "metadata": {},
   "outputs": [
    {
     "output_type": "stream",
     "name": "stdout",
     "text": [
      "\n새로나온책\n\n"
     ]
    },
    {
     "output_type": "execute_result",
     "data": {
      "text/plain": [
       "                                                 title  \\\n",
       "0                                          포르잔 C++ 에센셜   \n",
       "1             IT CookBook, 액세스 2019로 배우는 데이터베이스 기초와 실습   \n",
       "2                                          포르잔 C++ 바이블   \n",
       "3                                        딥러닝을 위한 선형대수학   \n",
       "4              IT CookBook, 오라클로 배우는 데이터베이스 개론과 실습(2판)   \n",
       "..                                                 ...   \n",
       "295                        IT CookBook, 개념이 보이는 물리전자공학   \n",
       "296                      문제해결력을 키우는 이공계 글쓰기 : 발표와 토론까지   \n",
       "297                진로개발과 직업세계 : 대학생과 청년층을 위한 진로, 취업지침서   \n",
       "298                                 Essential Calculus   \n",
       "299  IT CookBook, 디지털 통신 시스템 : Digital Communicatio...   \n",
       "\n",
       "                                        writer    price  \n",
       "0    Behrouz A. Forouzan , Richard F. Gilberg   32,000원  \n",
       "1                                         김지연   28,000원  \n",
       "2    Behrouz A. Forouzan , Richard F. Gilberg   45,000원  \n",
       "3                              Gilbert Strang   38,000원  \n",
       "4                             박우창 , 남송휘 , 이현룡   29,000원  \n",
       "..                                         ...      ...  \n",
       "295                                       이현용   24,000원  \n",
       "296                                       한성우   18,000원  \n",
       "297                     서일수 , 김도균 , 김지혜 , 이정배   20,000원  \n",
       "298                             James Stewart   36,000원  \n",
       "299                                 정호영 , 임승각   25,000원  \n",
       "\n",
       "[300 rows x 3 columns]"
      ],
      "text/html": "<div>\n<style scoped>\n    .dataframe tbody tr th:only-of-type {\n        vertical-align: middle;\n    }\n\n    .dataframe tbody tr th {\n        vertical-align: top;\n    }\n\n    .dataframe thead th {\n        text-align: right;\n    }\n</style>\n<table border=\"1\" class=\"dataframe\">\n  <thead>\n    <tr style=\"text-align: right;\">\n      <th></th>\n      <th>title</th>\n      <th>writer</th>\n      <th>price</th>\n    </tr>\n  </thead>\n  <tbody>\n    <tr>\n      <th>0</th>\n      <td>포르잔 C++ 에센셜</td>\n      <td>Behrouz A. Forouzan , Richard F. Gilberg</td>\n      <td>32,000원</td>\n    </tr>\n    <tr>\n      <th>1</th>\n      <td>IT CookBook, 액세스 2019로 배우는 데이터베이스 기초와 실습</td>\n      <td>김지연</td>\n      <td>28,000원</td>\n    </tr>\n    <tr>\n      <th>2</th>\n      <td>포르잔 C++ 바이블</td>\n      <td>Behrouz A. Forouzan , Richard F. Gilberg</td>\n      <td>45,000원</td>\n    </tr>\n    <tr>\n      <th>3</th>\n      <td>딥러닝을 위한 선형대수학</td>\n      <td>Gilbert Strang</td>\n      <td>38,000원</td>\n    </tr>\n    <tr>\n      <th>4</th>\n      <td>IT CookBook, 오라클로 배우는 데이터베이스 개론과 실습(2판)</td>\n      <td>박우창 , 남송휘 , 이현룡</td>\n      <td>29,000원</td>\n    </tr>\n    <tr>\n      <th>...</th>\n      <td>...</td>\n      <td>...</td>\n      <td>...</td>\n    </tr>\n    <tr>\n      <th>295</th>\n      <td>IT CookBook, 개념이 보이는 물리전자공학</td>\n      <td>이현용</td>\n      <td>24,000원</td>\n    </tr>\n    <tr>\n      <th>296</th>\n      <td>문제해결력을 키우는 이공계 글쓰기 : 발표와 토론까지</td>\n      <td>한성우</td>\n      <td>18,000원</td>\n    </tr>\n    <tr>\n      <th>297</th>\n      <td>진로개발과 직업세계 : 대학생과 청년층을 위한 진로, 취업지침서</td>\n      <td>서일수 , 김도균 , 김지혜 , 이정배</td>\n      <td>20,000원</td>\n    </tr>\n    <tr>\n      <th>298</th>\n      <td>Essential Calculus</td>\n      <td>James Stewart</td>\n      <td>36,000원</td>\n    </tr>\n    <tr>\n      <th>299</th>\n      <td>IT CookBook, 디지털 통신 시스템 : Digital Communicatio...</td>\n      <td>정호영 , 임승각</td>\n      <td>25,000원</td>\n    </tr>\n  </tbody>\n</table>\n<p>300 rows × 3 columns</p>\n</div>"
     },
     "metadata": {},
     "execution_count": 12
    }
   ],
   "source": [
    "# 데이터 프레임 생성\n",
    "book_list = pd.DataFrame({\n",
    "    'title':titles,\n",
    "    'writer':writers,\n",
    "    'price':prices\n",
    "})\n",
    "df_title = soup.select_one('.docu_title').get_text()\n",
    "print(df_title)\n",
    "book_list"
   ]
  },
  {
   "cell_type": "code",
   "execution_count": 17,
   "metadata": {},
   "outputs": [],
   "source": [
    "url ='https://www.hanbit.co.kr/academy/books/book_view.html?p_code=B1825116777'\n",
    "headers = {'User-Agent':'Mozilla/5.0 (Windows NT 6.3; Win64; x64) AppleWebKit/537.36 (KHTML, like Gecko) Chrome/63.0.3239.132 Safari/537.36'}\n",
    "req = requests.get(url, headers = headers)\n",
    "html = req.text\n",
    "soup = BeautifulSoup(html,'html.parser')"
   ]
  },
  {
   "cell_type": "code",
   "execution_count": 18,
   "metadata": {},
   "outputs": [
    {
     "output_type": "execute_result",
     "data": {
      "text/plain": [
       "'대학을 버려야 대학이 산다'"
      ]
     },
     "metadata": {},
     "execution_count": 18
    }
   ],
   "source": [
    "soup.select_one('.store_product_info_box').find('h3').get_text() # 책제목"
   ]
  },
  {
   "cell_type": "code",
   "execution_count": 22,
   "metadata": {},
   "outputs": [
    {
     "output_type": "stream",
     "name": "stdout",
     "text": [
      "조동성 외 인천대학교 가족 178명 \n2020-07-25\n216 쪽\n9791156645016\n4501\n5\n"
     ]
    }
   ],
   "source": [
    "b_detail = soup.select_one('.info_list')\n",
    "print(b_detail.find_all('span')[0].get_text()) # 저자\n",
    "print(b_detail.find_all('span')[1].get_text()) # 번역\n",
    "print(b_detail.find_all('span')[2].get_text()) # 출간\n",
    "print(b_detail.find_all('span')[3].get_text()) # 페이지\n",
    "print(b_detail.find_all('span')[4].get_text()) # ISBN\n",
    "\n",
    "print(len(b_detail.find_all('span')))"
   ]
  },
  {
   "cell_type": "code",
   "execution_count": 16,
   "metadata": {},
   "outputs": [
    {
     "output_type": "stream",
     "name": "stdout",
     "text": [
      "True\n"
     ]
    }
   ],
   "source": [
    "if b_detail.find_all('span')[-1].find('a'):\n",
    "    print(True)"
   ]
  },
  {
   "cell_type": "code",
   "execution_count": 17,
   "metadata": {},
   "outputs": [
    {
     "output_type": "stream",
     "name": "stdout",
     "text": [
      "[<span class=\"pbl\">정가 : </span>, <span class=\"pbr\"><del>29,000원</del></span>, <span class=\"pbl\"><strong>판매가 : </strong></span>, <span class=\"pbr\"><strong>29,000</strong>원<span>(0% off)</span></span>, <span>(0% off)</span>, <span class=\"pbl\">마일리지 : </span>, <span class=\"pbr\">870점 (3%)</span>]\n정가 : \n29,000원\n판매가 : \n29,000원(0% off)\n(0% off)\n마일리지 : \n870점 (3%)\n"
     ]
    }
   ],
   "source": [
    "p_detail = soup.select_one(\".payment_box\")\n",
    "print(p_detail.find_all('span'))\n",
    "print(p_detail.find_all('span')[0].get_text())\n",
    "print(p_detail.find_all('span')[1].get_text())  # 정가\n",
    "print(p_detail.find_all('span')[2].get_text())\n",
    "print(p_detail.find_all('span')[3].get_text())  # 판매가\n",
    "print(p_detail.find_all('span')[4].get_text())  \n",
    "print(p_detail.find_all('span')[5].get_text())\n",
    "print(p_detail.find_all('span')[6].get_text())  # 마일리지"
   ]
  },
  {
   "cell_type": "code",
   "execution_count": 18,
   "metadata": {},
   "outputs": [],
   "source": [
    "page_url = '1'\n",
    "url =f'https://www.hanbit.co.kr/academy/books/new_book_list.html?page={page_url}&cate_cd=&srt=&searchKey=&keyWord='\n",
    "headers = {'User-Agent':'Mozilla/5.0 (Windows NT 6.3; Win64; x64) AppleWebKit/537.36 (KHTML, like Gecko) Chrome/63.0.3239.132 Safari/537.36'}\n",
    "req = requests.get(url, headers = headers)\n",
    "html = req.text\n",
    "soup = BeautifulSoup(html,'html.parser')"
   ]
  },
  {
   "cell_type": "code",
   "execution_count": 19,
   "metadata": {},
   "outputs": [
    {
     "output_type": "execute_result",
     "data": {
      "text/plain": [
       "20"
      ]
     },
     "metadata": {},
     "execution_count": 19
    }
   ],
   "source": [
    "len(soup.select('.sub_book_list'))"
   ]
  },
  {
   "cell_type": "code",
   "execution_count": 20,
   "metadata": {},
   "outputs": [
    {
     "output_type": "execute_result",
     "data": {
      "text/plain": [
       "'/academy/books/book_view.html?p_code=B2049588591'"
      ]
     },
     "metadata": {},
     "execution_count": 20
    }
   ],
   "source": [
    "soup.select('.pop_quick_bg')[19].attrs['onclick'][10:-1]"
   ]
  },
  {
   "source": [
    "### 상세정보를 이용한 DataFrame"
   ],
   "cell_type": "markdown",
   "metadata": {}
  },
  {
   "cell_type": "code",
   "execution_count": 23,
   "metadata": {},
   "outputs": [],
   "source": [
    "page_url = '16'\n",
    "url =f'https://www.hanbit.co.kr/academy/books/new_book_list.html?page={page_url}&cate_cd=&srt=&searchKey=&keyWord='\n",
    "headers = {'User-Agent':'Mozilla/5.0 (Windows NT 6.3; Win64; x64) AppleWebKit/537.36 (KHTML, like Gecko) Chrome/63.0.3239.132 Safari/537.36'}\n",
    "req = requests.get(url, headers = headers)\n",
    "html = req.text\n",
    "soup = BeautifulSoup(html,'html.parser')\n",
    "paginates = soup.select('.paginate')\n",
    "pagination = int(paginates[0].find_all('a')[-1].string)"
   ]
  },
  {
   "cell_type": "code",
   "execution_count": 24,
   "metadata": {},
   "outputs": [],
   "source": [
    "titles = []; writers = []; translators = []; \n",
    "dates = []; pages = []; ISBNs = []; codes = []\n",
    "full_prices = []; sell_prices =[]; mileages = []"
   ]
  },
  {
   "cell_type": "code",
   "execution_count": 25,
   "metadata": {},
   "outputs": [],
   "source": [
    "for i in range(pagination):\n",
    "    page_url = str(i + 1)\n",
    "    web_url = f'https://www.hanbit.co.kr/academy/books/new_book_list.html?page={page_url}&cate_cd=&srt=&searchKey=&keyWord='\n",
    "    headers = {'User-Agent':'Mozilla/5.0 (Windows NT 6.3; Win64; x64) AppleWebKit/537.36 (KHTML, like Gecko) Chrome/63.0.3239.132 Safari/537.36'}\n",
    "    req = requests.get(web_url, headers = headers)\n",
    "    html = req.text\n",
    "    page_soup = BeautifulSoup(html,'html.parser')\n",
    "    link = page_soup.select('.sub_book_list')\n",
    "    for i in range(len(link)):\n",
    "        b_code_link = page_soup.select('.pop_quick_bg')[i].attrs['onclick'][10:-1]\n",
    "        web_url =f'https://www.hanbit.co.kr{b_code_link}'\n",
    "        headers = {'User-Agent':'Mozilla/5.0 (Windows NT 6.3; Win64; x64) AppleWebKit/537.36 (KHTML,like Gecko) Chrome/63.0.3239.132 Safari/537.36'}\n",
    "        req = requests.get(web_url, headers = headers)\n",
    "        html = req.text\n",
    "        book_soup = BeautifulSoup(html,'html.parser')\n",
    "        title = book_soup.select_one('.store_product_info_box').find('h3').get_text()\n",
    "        \n",
    "        b_detail = book_soup.select_one('.info_list')\n",
    "        if len(b_detail.find_all('span')) == 6:\n",
    "            if b_detail.find_all('span')[-1].find('a'):\n",
    "                writer = b_detail.find_all('span')[0].get_text()\n",
    "                translator = 'None'\n",
    "                date = b_detail.find_all('span')[1].get_text()\n",
    "                page = b_detail.find_all('span')[2].get_text()\n",
    "                isbn = b_detail.find_all('span')[3].get_text()\n",
    "                code = b_detail.find_all('span')[4].get_text()\n",
    "            else:    \n",
    "                writer = b_detail.find_all('span')[0].get_text()\n",
    "                translator = b_detail.find_all('span')[1].get_text()\n",
    "                date = b_detail.find_all('span')[2].get_text()\n",
    "                page = b_detail.find_all('span')[3].get_text()\n",
    "                isbn = b_detail.find_all('span')[4].get_text()\n",
    "                code = b_detail.find_all('span')[5].get_text()\n",
    "        else:\n",
    "            writer = b_detail.find_all('span')[0].get_text()\n",
    "            translator = 'None'\n",
    "            date = b_detail.find_all('span')[1].get_text()\n",
    "            page = b_detail.find_all('span')[2].get_text()\n",
    "            isbn = b_detail.find_all('span')[3].get_text()\n",
    "            code = b_detail.find_all('span')[4].get_text()\n",
    "        p_detail = book_soup.select_one(\".payment_box\")\n",
    "        full_price = p_detail.find_all('span')[1].get_text()\n",
    "        sell_price = p_detail.find_all('span')[3].get_text()\n",
    "        mileage = p_detail.find_all('span')[6].get_text()\n",
    "        \n",
    "        titles.append(title)\n",
    "        writers.append(writer)\n",
    "        translators.append(translator)\n",
    "        dates.append(date)\n",
    "        pages.append(page)\n",
    "        ISBNs.append(isbn)\n",
    "        codes.append(code)\n",
    "        full_prices.append(full_price)\n",
    "        sell_prices.append(sell_price)\n",
    "        mileages.append(mileage)\n"
   ]
  },
  {
   "cell_type": "code",
   "execution_count": 29,
   "metadata": {},
   "outputs": [
    {
     "output_type": "execute_result",
     "data": {
      "text/plain": [
       "                                                    제목  \\\n",
       "0                                          포르잔 C++ 에센셜   \n",
       "1             IT CookBook, 액세스 2019로 배우는 데이터베이스 기초와 실습   \n",
       "2                                          포르잔 C++ 바이블   \n",
       "3                                        딥러닝을 위한 선형대수학   \n",
       "4              IT CookBook, 오라클로 배우는 데이터베이스 개론과 실습(2판)   \n",
       "..                                                 ...   \n",
       "295                        IT CookBook, 개념이 보이는 물리전자공학   \n",
       "296                      문제해결력을 키우는 이공계 글쓰기 : 발표와 토론까지   \n",
       "297                진로개발과 직업세계 : 대학생과 청년층을 위한 진로, 취업지침서   \n",
       "298                                 Essential Calculus   \n",
       "299  IT CookBook, 디지털 통신 시스템 : Digital Communicatio...   \n",
       "\n",
       "                                            저자                     번역  \\\n",
       "0    Behrouz A. Forouzan , Richard F. Gilberg                    윤인성    \n",
       "1                                         김지연                    None   \n",
       "2    Behrouz A. Forouzan , Richard F. Gilberg                    윤인성    \n",
       "3                              Gilbert Strang   부산대학교 산업수학센터(FFMIMC)    \n",
       "4                             박우창 , 남송휘 , 이현룡                    None   \n",
       "..                                         ...                    ...   \n",
       "295                                       이현용                    None   \n",
       "296                                       한성우                    None   \n",
       "297                     서일수 , 김도균 , 김지혜 , 이정배                    None   \n",
       "298                             James Stewart                    None   \n",
       "299                                 정호영 , 임승각                    None   \n",
       "\n",
       "            출간일     페이지           ISBN  물류코드       정가              판매가  \\\n",
       "0    2020-11-10   756 쪽  9791156645061  4506  32,000원  32,000원(0% off)   \n",
       "1    2020-09-28   536 쪽  9791156645054  4505  28,000원  28,000원(0% off)   \n",
       "2    2020-08-31  1192 쪽  9791156645030  4503  45,000원  45,000원(0% off)   \n",
       "3    2020-08-05   560 쪽  9791156644972  4497  38,000원  38,000원(0% off)   \n",
       "4    2020-07-30   600 쪽  9791156645023  4502  29,000원  29,000원(0% off)   \n",
       "..          ...     ...            ...   ...      ...              ...   \n",
       "295  2013-02-28   416 쪽  9788998756031  4003  24,000원  24,000원(0% off)   \n",
       "296  2013-02-28   396 쪽  9788998756024  4002  18,000원  18,000원(0% off)   \n",
       "297  2013-02-28   392 쪽  9788998756048  4004  20,000원  20,000원(0% off)   \n",
       "298  2012-07-08   960 쪽  9781133492566  7999  36,000원  36,000원(0% off)   \n",
       "299  2011-01-31   576 쪽  9788979147988  1798  25,000원  25,000원(0% off)   \n",
       "\n",
       "            마일리지  \n",
       "0      960점 (3%)  \n",
       "1      840점 (3%)  \n",
       "2    1,350점 (3%)  \n",
       "3    1,140점 (3%)  \n",
       "4      870점 (3%)  \n",
       "..           ...  \n",
       "295    720점 (3%)  \n",
       "296    540점 (3%)  \n",
       "297    600점 (3%)  \n",
       "298  1,080점 (3%)  \n",
       "299    750점 (3%)  \n",
       "\n",
       "[300 rows x 10 columns]"
      ],
      "text/html": "<div>\n<style scoped>\n    .dataframe tbody tr th:only-of-type {\n        vertical-align: middle;\n    }\n\n    .dataframe tbody tr th {\n        vertical-align: top;\n    }\n\n    .dataframe thead th {\n        text-align: right;\n    }\n</style>\n<table border=\"1\" class=\"dataframe\">\n  <thead>\n    <tr style=\"text-align: right;\">\n      <th></th>\n      <th>제목</th>\n      <th>저자</th>\n      <th>번역</th>\n      <th>출간일</th>\n      <th>페이지</th>\n      <th>ISBN</th>\n      <th>물류코드</th>\n      <th>정가</th>\n      <th>판매가</th>\n      <th>마일리지</th>\n    </tr>\n  </thead>\n  <tbody>\n    <tr>\n      <th>0</th>\n      <td>포르잔 C++ 에센셜</td>\n      <td>Behrouz A. Forouzan , Richard F. Gilberg</td>\n      <td>윤인성</td>\n      <td>2020-11-10</td>\n      <td>756 쪽</td>\n      <td>9791156645061</td>\n      <td>4506</td>\n      <td>32,000원</td>\n      <td>32,000원(0% off)</td>\n      <td>960점 (3%)</td>\n    </tr>\n    <tr>\n      <th>1</th>\n      <td>IT CookBook, 액세스 2019로 배우는 데이터베이스 기초와 실습</td>\n      <td>김지연</td>\n      <td>None</td>\n      <td>2020-09-28</td>\n      <td>536 쪽</td>\n      <td>9791156645054</td>\n      <td>4505</td>\n      <td>28,000원</td>\n      <td>28,000원(0% off)</td>\n      <td>840점 (3%)</td>\n    </tr>\n    <tr>\n      <th>2</th>\n      <td>포르잔 C++ 바이블</td>\n      <td>Behrouz A. Forouzan , Richard F. Gilberg</td>\n      <td>윤인성</td>\n      <td>2020-08-31</td>\n      <td>1192 쪽</td>\n      <td>9791156645030</td>\n      <td>4503</td>\n      <td>45,000원</td>\n      <td>45,000원(0% off)</td>\n      <td>1,350점 (3%)</td>\n    </tr>\n    <tr>\n      <th>3</th>\n      <td>딥러닝을 위한 선형대수학</td>\n      <td>Gilbert Strang</td>\n      <td>부산대학교 산업수학센터(FFMIMC)</td>\n      <td>2020-08-05</td>\n      <td>560 쪽</td>\n      <td>9791156644972</td>\n      <td>4497</td>\n      <td>38,000원</td>\n      <td>38,000원(0% off)</td>\n      <td>1,140점 (3%)</td>\n    </tr>\n    <tr>\n      <th>4</th>\n      <td>IT CookBook, 오라클로 배우는 데이터베이스 개론과 실습(2판)</td>\n      <td>박우창 , 남송휘 , 이현룡</td>\n      <td>None</td>\n      <td>2020-07-30</td>\n      <td>600 쪽</td>\n      <td>9791156645023</td>\n      <td>4502</td>\n      <td>29,000원</td>\n      <td>29,000원(0% off)</td>\n      <td>870점 (3%)</td>\n    </tr>\n    <tr>\n      <th>...</th>\n      <td>...</td>\n      <td>...</td>\n      <td>...</td>\n      <td>...</td>\n      <td>...</td>\n      <td>...</td>\n      <td>...</td>\n      <td>...</td>\n      <td>...</td>\n      <td>...</td>\n    </tr>\n    <tr>\n      <th>295</th>\n      <td>IT CookBook, 개념이 보이는 물리전자공학</td>\n      <td>이현용</td>\n      <td>None</td>\n      <td>2013-02-28</td>\n      <td>416 쪽</td>\n      <td>9788998756031</td>\n      <td>4003</td>\n      <td>24,000원</td>\n      <td>24,000원(0% off)</td>\n      <td>720점 (3%)</td>\n    </tr>\n    <tr>\n      <th>296</th>\n      <td>문제해결력을 키우는 이공계 글쓰기 : 발표와 토론까지</td>\n      <td>한성우</td>\n      <td>None</td>\n      <td>2013-02-28</td>\n      <td>396 쪽</td>\n      <td>9788998756024</td>\n      <td>4002</td>\n      <td>18,000원</td>\n      <td>18,000원(0% off)</td>\n      <td>540점 (3%)</td>\n    </tr>\n    <tr>\n      <th>297</th>\n      <td>진로개발과 직업세계 : 대학생과 청년층을 위한 진로, 취업지침서</td>\n      <td>서일수 , 김도균 , 김지혜 , 이정배</td>\n      <td>None</td>\n      <td>2013-02-28</td>\n      <td>392 쪽</td>\n      <td>9788998756048</td>\n      <td>4004</td>\n      <td>20,000원</td>\n      <td>20,000원(0% off)</td>\n      <td>600점 (3%)</td>\n    </tr>\n    <tr>\n      <th>298</th>\n      <td>Essential Calculus</td>\n      <td>James Stewart</td>\n      <td>None</td>\n      <td>2012-07-08</td>\n      <td>960 쪽</td>\n      <td>9781133492566</td>\n      <td>7999</td>\n      <td>36,000원</td>\n      <td>36,000원(0% off)</td>\n      <td>1,080점 (3%)</td>\n    </tr>\n    <tr>\n      <th>299</th>\n      <td>IT CookBook, 디지털 통신 시스템 : Digital Communicatio...</td>\n      <td>정호영 , 임승각</td>\n      <td>None</td>\n      <td>2011-01-31</td>\n      <td>576 쪽</td>\n      <td>9788979147988</td>\n      <td>1798</td>\n      <td>25,000원</td>\n      <td>25,000원(0% off)</td>\n      <td>750점 (3%)</td>\n    </tr>\n  </tbody>\n</table>\n<p>300 rows × 10 columns</p>\n</div>"
     },
     "metadata": {},
     "execution_count": 29
    }
   ],
   "source": [
    "book_detail_list = pd.DataFrame({\n",
    "    '제목':titles,\n",
    "    '저자':writers,\n",
    "    '번역':translators,\n",
    "    '출간일':dates,\n",
    "    '페이지':pages,\n",
    "    'ISBN':ISBNs,\n",
    "    '물류코드':codes,\n",
    "    '정가':full_prices,\n",
    "    '판매가':sell_prices,\n",
    "    '마일리지':mileages\n",
    "})\n",
    "book_detail_list"
   ]
  },
  {
   "cell_type": "code",
   "execution_count": null,
   "metadata": {},
   "outputs": [],
   "source": []
  },
  {
   "cell_type": "code",
   "execution_count": null,
   "metadata": {},
   "outputs": [],
   "source": []
  }
 ]
}