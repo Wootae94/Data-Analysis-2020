{
 "metadata": {
  "language_info": {
   "codemirror_mode": {
    "name": "ipython",
    "version": 3
   },
   "file_extension": ".py",
   "mimetype": "text/x-python",
   "name": "python",
   "nbconvert_exporter": "python",
   "pygments_lexer": "ipython3",
   "version": "3.8.3-final"
  },
  "orig_nbformat": 2,
  "kernelspec": {
   "name": "Python 3.8.3 64-bit (conda)",
   "display_name": "Python 3.8.3 64-bit (conda)",
   "metadata": {
    "interpreter": {
     "hash": "b3ba2566441a7c06988d0923437866b63cedc61552a5af99d1f4fb67d367b25f"
    }
   }
  }
 },
 "nbformat": 4,
 "nbformat_minor": 2,
 "cells": [
  {
   "cell_type": "code",
   "execution_count": 1,
   "metadata": {},
   "outputs": [],
   "source": [
    "import sqlite3\n",
    "conn = sqlite3.connect('./test.db')"
   ]
  },
  {
   "cell_type": "code",
   "execution_count": 8,
   "metadata": {},
   "outputs": [
    {
     "output_type": "execute_result",
     "data": {
      "text/plain": [
       "<sqlite3.Cursor at 0x22e9c29f730>"
      ]
     },
     "metadata": {},
     "execution_count": 8
    }
   ],
   "source": [
    "cur = conn.cursor()\n",
    "cur.execute('create table if not exists Eagles\\\n",
    "                (back_no int not null,\\\n",
    "                name text,\\\n",
    "                position text,\\\n",
    "                primary key(back_no));')   "
   ]
  },
  {
   "cell_type": "code",
   "execution_count": 12,
   "metadata": {},
   "outputs": [
    {
     "output_type": "error",
     "ename": "IntegrityError",
     "evalue": "UNIQUE constraint failed: Eagles.back_no",
     "traceback": [
      "\u001b[1;31m---------------------------------------------------------------------------\u001b[0m",
      "\u001b[1;31mIntegrityError\u001b[0m                            Traceback (most recent call last)",
      "\u001b[1;32m<ipython-input-12-228362215716>\u001b[0m in \u001b[0;36m<module>\u001b[1;34m\u001b[0m\n\u001b[0;32m      1\u001b[0m \u001b[0mcur\u001b[0m \u001b[1;33m=\u001b[0m \u001b[0mconn\u001b[0m\u001b[1;33m.\u001b[0m\u001b[0mcursor\u001b[0m\u001b[1;33m(\u001b[0m\u001b[1;33m)\u001b[0m\u001b[1;33m\u001b[0m\u001b[1;33m\u001b[0m\u001b[0m\n\u001b[1;32m----> 2\u001b[1;33m \u001b[0mcur\u001b[0m\u001b[1;33m.\u001b[0m\u001b[0mexecute\u001b[0m\u001b[1;33m(\u001b[0m\u001b[1;34m\"insert into Eagles values(1, '하주석','내야수');\"\u001b[0m\u001b[1;33m)\u001b[0m\u001b[1;33m\u001b[0m\u001b[1;33m\u001b[0m\u001b[0m\n\u001b[0m\u001b[0;32m      3\u001b[0m \u001b[0mcur\u001b[0m\u001b[1;33m.\u001b[0m\u001b[0mexecute\u001b[0m\u001b[1;33m(\u001b[0m\u001b[1;34m\"insert into Eagles values(57, '정우람','투수'),(8,'정근우','내야수');\"\u001b[0m\u001b[1;33m)\u001b[0m\u001b[1;33m\u001b[0m\u001b[1;33m\u001b[0m\u001b[0m\n",
      "\u001b[1;31mIntegrityError\u001b[0m: UNIQUE constraint failed: Eagles.back_no"
     ]
    }
   ],
   "source": [
    "cur = conn.cursor()\n",
    "cur.execute(\"insert into Eagles values(1, '하주석','내야수');\")\n",
    "cur.execute(\"insert into Eagles values(57, '정우람','투수'),(8,'정근우','내야수');\")"
   ]
  },
  {
   "cell_type": "code",
   "execution_count": 10,
   "metadata": {},
   "outputs": [
    {
     "output_type": "execute_result",
     "data": {
      "text/plain": [
       "<sqlite3.Cursor at 0x22e9c7ee570>"
      ]
     },
     "metadata": {},
     "execution_count": 10
    }
   ],
   "source": [
    "back_no = 50\n",
    "name = '이성열'\n",
    "position = '외야수'\n",
    "cur = conn.cursor()\n",
    "sql = 'insert into Eagles values (?,?,?);'\n",
    "cur.execute(sql,(back_no, name, position))"
   ]
  },
  {
   "cell_type": "code",
   "execution_count": 13,
   "metadata": {},
   "outputs": [
    {
     "output_type": "execute_result",
     "data": {
      "text/plain": [
       "<sqlite3.Cursor at 0x22e9c920570>"
      ]
     },
     "metadata": {},
     "execution_count": 13
    }
   ],
   "source": [
    "players = [(22, '이태양', '투수'),(13, '최재훈','포수')]\n",
    "cur = conn.cursor()\n",
    "sql = 'insert into Eagles values(?,?,?);'\n",
    "cur.executemany(sql,players)"
   ]
  },
  {
   "cell_type": "code",
   "execution_count": 14,
   "metadata": {},
   "outputs": [
    {
     "output_type": "stream",
     "name": "stdout",
     "text": [
      "(1, '하주석', '내야수')\n(57, '정우람', '투수')\n(8, '정근우', '내야수')\n(50, '이성열', '외야수')\n(22, '이태양', '투수')\n(13, '최재훈', '포수')\n"
     ]
    }
   ],
   "source": [
    "cur = conn.cursor()\n",
    "cur.execute('select * from Eagles')\n",
    "for row in cur:\n",
    "    print(row)"
   ]
  },
  {
   "cell_type": "code",
   "execution_count": 15,
   "metadata": {},
   "outputs": [
    {
     "output_type": "execute_result",
     "data": {
      "text/plain": [
       "<sqlite3.Cursor at 0x22e9be83880>"
      ]
     },
     "metadata": {},
     "execution_count": 15
    }
   ],
   "source": [
    "cur = conn.cursor()\n",
    "cur.execute('create table if not exists Pitcher_stats\\\n",
    "                (ERA int not null,\\\n",
    "                IP int,\\\n",
    "                SO int,\\\n",
    "                primary key(ERA));')   "
   ]
  },
  {
   "cell_type": "code",
   "execution_count": 16,
   "metadata": {},
   "outputs": [],
   "source": [
    "conn.commit()"
   ]
  },
  {
   "cell_type": "code",
   "execution_count": 17,
   "metadata": {},
   "outputs": [
    {
     "output_type": "execute_result",
     "data": {
      "text/plain": [
       "<sqlite3.Cursor at 0x22e9bebbea0>"
      ]
     },
     "metadata": {},
     "execution_count": 17
    }
   ],
   "source": [
    "pitch = [(4.80, 54.33 , 53),(5.46, 56, 45)]\n",
    "cur = conn.cursor()\n",
    "sql = 'insert into Pitcher_stats values(?,?,?);'\n",
    "cur.executemany(sql,pitch)"
   ]
  },
  {
   "cell_type": "code",
   "execution_count": 18,
   "metadata": {},
   "outputs": [],
   "source": [
    "conn.commit()"
   ]
  },
  {
   "cell_type": "code",
   "execution_count": 19,
   "metadata": {},
   "outputs": [
    {
     "output_type": "execute_result",
     "data": {
      "text/plain": [
       "<sqlite3.Cursor at 0x22e9bebbea0>"
      ]
     },
     "metadata": {},
     "execution_count": 19
    }
   ],
   "source": [
    "cur.execute('alter table Pitcher_stats add column name text')"
   ]
  },
  {
   "cell_type": "code",
   "execution_count": 25,
   "metadata": {},
   "outputs": [
    {
     "output_type": "stream",
     "name": "stdout",
     "text": [
      "(4.8, 54.33, 53, '정우람')\n(5.46, 56, 45, '이태양')\n"
     ]
    }
   ],
   "source": [
    "cur = conn.cursor()\n",
    "cur.execute('select * from Pitcher_stats')\n",
    "for row in cur:\n",
    "    print(row)"
   ]
  },
  {
   "source": [
    "### 연습문제 1"
   ],
   "cell_type": "markdown",
   "metadata": {}
  },
  {
   "cell_type": "code",
   "execution_count": 27,
   "metadata": {},
   "outputs": [
    {
     "output_type": "stream",
     "name": "stdout",
     "text": [
      "(57, '정우람', '투수', 4.8, 54.33, 53)\n(22, '이태양', '투수', 5.46, 56, 45)\n"
     ]
    }
   ],
   "source": [
    "\n",
    "cur = conn.cursor()\n",
    "sql = \"select e.back_no as back_no,\\\n",
    "            e.name as name,\\\n",
    "            e.position as position,\\\n",
    "            p.ERA as ERA,\\\n",
    "            p.IP as IP,\\\n",
    "            p.SO as SO\\\n",
    "                from Eagles as e join Pitcher_stats as p\\\n",
    "                    on e.name = p.name\"\n",
    "cur.execute(sql)\n",
    "for row in cur:\n",
    "    print(row)"
   ]
  },
  {
   "source": [
    "### 연습문제 2"
   ],
   "cell_type": "markdown",
   "metadata": {}
  },
  {
   "cell_type": "code",
   "execution_count": 34,
   "metadata": {},
   "outputs": [
    {
     "output_type": "execute_result",
     "data": {
      "text/plain": [
       "<sqlite3.Cursor at 0x22e9c73f110>"
      ]
     },
     "metadata": {},
     "execution_count": 34
    }
   ],
   "source": [
    "cur = conn.cursor()\n",
    "cur.execute('create table if not exists girl_group\\\n",
    "                (id integer primary key autoincrement,\\\n",
    "                group_name text,\\\n",
    "                member integer,\\\n",
    "                debut datetime,\\\n",
    "                agency text);')  "
   ]
  },
  {
   "cell_type": "code",
   "execution_count": 35,
   "metadata": {},
   "outputs": [
    {
     "output_type": "execute_result",
     "data": {
      "text/plain": [
       "<sqlite3.Cursor at 0x22e9c73ff10>"
      ]
     },
     "metadata": {},
     "execution_count": 35
    }
   ],
   "source": [
    "cur = conn.cursor()\n",
    "cur.execute('create table if not exists girl_song\\\n",
    "                (song_id integer primary key autoincrement,\\\n",
    "                song_name text,\\\n",
    "                group_id integer,\\\n",
    "                release datetime,\\\n",
    "                composer text,\\\n",
    "                lyric text);')  "
   ]
  },
  {
   "cell_type": "code",
   "execution_count": 40,
   "metadata": {},
   "outputs": [
    {
     "output_type": "execute_result",
     "data": {
      "text/plain": [
       "<sqlite3.Cursor at 0x22e9cb180a0>"
      ]
     },
     "metadata": {},
     "execution_count": 40
    }
   ],
   "source": [
    "cur = conn.cursor()\n",
    "groups = [(1,'오마이걸',7,'2015-04-21','WM엔터테인먼트'),\n",
    "            (2,'아이즈원',12,'2018-10-29','스윙엔터테인먼트'),\n",
    "            (3,'에이프릴',6,'2015-08-24','DSP미디어'),\n",
    "            (4,'블랙핑크',4,'2016-08-08','YG엔터테인먼트'),\n",
    "            (5,'트와이스',9,'2015-10-20','JYP엔터테인먼트')]\n",
    "sql = 'insert into girl_group values (?,?,?,?,?)'\n",
    "cur.executemany(sql,groups)\n"
   ]
  },
  {
   "cell_type": "code",
   "execution_count": 42,
   "metadata": {},
   "outputs": [],
   "source": [
    "conn.commit()"
   ]
  },
  {
   "cell_type": "code",
   "execution_count": 44,
   "metadata": {},
   "outputs": [],
   "source": [
    "cur = conn.cursor()\n",
    "songs = [(1,'TT',5,'2016-10-23','블랙아이드필승','이러지도 못하는데 저러지도 못하네\\\n",
    "그저 바라보며 ba-ba-ba-baby'),\n",
    "            (2,'Likey',5,'2017-10-30','블랙아이드필승','설렌다 Me Likey\\\n",
    "Me Likey Likey Likey Me Likey Likey Likey'),\n",
    "            (3,'What is Love',5,'2018-04-09','JYP','매일같이 영화 속에서나 책 속에서나\\\n",
    "드라마 속에서 사랑을 느껴 Um- 사랑을 배워'),\n",
    "            (4,'예쁜게 죄',3,'2018-10-16','타이비언','My mistake oh my mistake\\\n",
    "My mistake oh my mistake'),\n",
    "            (5,'비밀정원',1,'2018-01-09','Steven Lee','나의 비밀정원\\\n",
    "난 아직도 긴 꿈을 꾸고 있어\\\n",
    "그 어떤 이에게도 말하지 못했던'),\n",
    "     (6,'살짝 설렜어',1,'2020-04-27','Steven Lee','going nonstop\\\n",
    "말도 안 되잖아 그치 yayayaya\\\n",
    "우린 서로가 모르는 게 없는 사인 걸'),\n",
    "     (7,'Dolphin',1,'2020-04-27','Ryan S. Jhun','oh my god 타이밍이 참 얄미워\\\n",
    "오늘 같은 날 마주쳐 이게 뭐야'),\n",
    "     (8,'라비앙로즈',2,'2018-10-29','MosPick','빨갛게 물들여 지금 이 시간'),\n",
    "     (9,'비올레타',2,'2019-04-01','최현준, 김승수','Ah ah\\\n",
    "눈 감아도 느껴지는 향기 Oh\\\n",
    "은은해서 빠져들어\\\n",
    "저 멀리 사라진 그 빛을 따라 난\\\n",
    "너에게 더 다가가 다가가 Ah ah'),\n",
    "     (10,'휘파람',4,'2016-08-08','TEDDY','Make’ em whistle like a missile bomb bomb\\\n",
    "Every time I show up blow up (uh)\\\n",
    "Make’ em whistle like a missile bomb bomb\\\n",
    "Every time I show up blow up (uh)')]\n",
    "sql = 'insert into girl_song values (?,?,?,?,?,?)'\n",
    "cur.executemany(sql,songs)\n",
    "conn.commit()"
   ]
  },
  {
   "cell_type": "code",
   "execution_count": 45,
   "metadata": {},
   "outputs": [
    {
     "output_type": "stream",
     "name": "stdout",
     "text": [
      "('트와이스', 9, '2015-10-20', 'TT', '2016-10-23')\n('트와이스', 9, '2015-10-20', 'Likey', '2017-10-30')\n('트와이스', 9, '2015-10-20', 'What is Love', '2018-04-09')\n('에이프릴', 6, '2015-08-24', '예쁜게 죄', '2018-10-16')\n('오마이걸', 7, '2015-04-21', '비밀정원', '2018-01-09')\n('오마이걸', 7, '2015-04-21', '살짝 설렜어', '2020-04-27')\n('오마이걸', 7, '2015-04-21', 'Dolphin', '2020-04-27')\n('아이즈원', 12, '2018-10-29', '라비앙로즈', '2018-10-29')\n('아이즈원', 12, '2018-10-29', '비올레타', '2019-04-01')\n('블랙핑크', 4, '2016-08-08', '휘파람', '2016-08-08')\n"
     ]
    }
   ],
   "source": [
    "cur = conn.cursor()\n",
    "sql = \"select g.group_name as group_name,\\\n",
    "                g.member as member,\\\n",
    "                g.debut as debut,\\\n",
    "                s.song_name as song_name,\\\n",
    "                s.release as release from girl_group as g\\\n",
    "                join girl_song as s on g.id = s.group_id \"\n",
    "cur.execute(sql)\n",
    "for row in cur:\n",
    "    print(row)"
   ]
  },
  {
   "source": [
    "### 연습문제 3"
   ],
   "cell_type": "markdown",
   "metadata": {}
  },
  {
   "cell_type": "code",
   "execution_count": 46,
   "metadata": {},
   "outputs": [
    {
     "output_type": "execute_result",
     "data": {
      "text/plain": [
       "<sqlite3.Cursor at 0x22e9bed92d0>"
      ]
     },
     "metadata": {},
     "execution_count": 46
    }
   ],
   "source": [
    "cur = conn.cursor()\n",
    "cur.execute('create table if not exists Users\\\n",
    "                (name text primary key,\\\n",
    "                password integer);')  "
   ]
  },
  {
   "cell_type": "code",
   "execution_count": 54,
   "metadata": {},
   "outputs": [
    {
     "output_type": "execute_result",
     "data": {
      "text/plain": [
       "<sqlite3.Cursor at 0x22e9c3a4960>"
      ]
     },
     "metadata": {},
     "execution_count": 54
    }
   ],
   "source": [
    "cur = conn.cursor()\n",
    "groups = [('오마이걸',1234),\n",
    "            ('아이즈원',1234),\n",
    "            ('에이프릴',1234),\n",
    "            ('트와이스',1234)]\n",
    "sql = 'insert into Users values (?,?)'\n",
    "cur.executemany(sql,groups)"
   ]
  },
  {
   "cell_type": "code",
   "execution_count": 66,
   "metadata": {},
   "outputs": [
    {
     "output_type": "stream",
     "name": "stdout",
     "text": [
      "실패\n"
     ]
    }
   ],
   "source": [
    "cur = conn.cursor()\n",
    "name, password = input('이름과 비밀번호를 입력해주세요> ').split()\n",
    "sql = 'select count(*),name from Users where name = ? and password = ?'\n",
    "cur.execute(sql,(name,password))\n",
    "count = cur.fetchone()\n",
    "if count[0] == 0:\n",
    "    print('실패')\n",
    "else: \n",
    "    print('성공')"
   ]
  },
  {
   "cell_type": "code",
   "execution_count": 67,
   "metadata": {},
   "outputs": [],
   "source": [
    "conn.commit()"
   ]
  },
  {
   "cell_type": "code",
   "execution_count": null,
   "metadata": {},
   "outputs": [],
   "source": []
  }
 ]
}