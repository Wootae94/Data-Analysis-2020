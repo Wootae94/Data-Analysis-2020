{
 "metadata": {
  "language_info": {
   "codemirror_mode": {
    "name": "ipython",
    "version": 3
   },
   "file_extension": ".py",
   "mimetype": "text/x-python",
   "name": "python",
   "nbconvert_exporter": "python",
   "pygments_lexer": "ipython3",
   "version": "3.8.3-final"
  },
  "orig_nbformat": 2,
  "kernelspec": {
   "name": "python3",
   "display_name": "Python 3"
  }
 },
 "nbformat": 4,
 "nbformat_minor": 2,
 "cells": [
  {
   "source": [
    "# OpenWeather API\n",
    "### 위도, 경도로부터 현재 날씨 구하기"
   ],
   "cell_type": "markdown",
   "metadata": {}
  },
  {
   "cell_type": "code",
   "execution_count": 3,
   "metadata": {},
   "outputs": [],
   "source": [
    "import requests\n",
    "from urllib.parse import urlparse\n",
    "import pandas as pd"
   ]
  },
  {
   "cell_type": "code",
   "execution_count": 4,
   "metadata": {},
   "outputs": [],
   "source": [
    "key_fd = open('openweatherkey.txt', mode='r')\n",
    "oweather_key = key_fd.read(100)\n",
    "key_fd.close()"
   ]
  },
  {
   "cell_type": "code",
   "execution_count": 5,
   "metadata": {},
   "outputs": [],
   "source": [
    "lat = 37.5509655144007\n",
    "lng = 126.849532173376\n",
    "url = f'http://api.openweathermap.org/data/2.5/weather?lat={lat}&lon={lng}&appid={oweather_key}&units=metric&lang=kr'"
   ]
  },
  {
   "cell_type": "code",
   "execution_count": 91,
   "metadata": {},
   "outputs": [
    {
     "output_type": "execute_result",
     "data": {
      "text/plain": [
       "{'coord': {'lon': 126.85, 'lat': 37.55},\n",
       " 'weather': [{'id': 803,\n",
       "   'main': 'Clouds',\n",
       "   'description': '튼구름',\n",
       "   'icon': '04d'}],\n",
       " 'base': 'stations',\n",
       " 'main': {'temp': 3.06,\n",
       "  'feels_like': -1.95,\n",
       "  'temp_min': 2,\n",
       "  'temp_max': 4,\n",
       "  'pressure': 1019,\n",
       "  'humidity': 74},\n",
       " 'visibility': 10000,\n",
       " 'wind': {'speed': 4.1, 'deg': 350},\n",
       " 'clouds': {'all': 75},\n",
       " 'dt': 1605843901,\n",
       " 'sys': {'type': 1,\n",
       "  'id': 8105,\n",
       "  'country': 'KR',\n",
       "  'sunrise': 1605824263,\n",
       "  'sunset': 1605860344},\n",
       " 'timezone': 32400,\n",
       " 'id': 1838716,\n",
       " 'name': 'Bucheon-si',\n",
       " 'cod': 200}"
      ]
     },
     "metadata": {},
     "execution_count": 91
    }
   ],
   "source": [
    "result = requests.get(urlparse(url).geturl()).json()\n",
    "result"
   ]
  },
  {
   "cell_type": "code",
   "execution_count": 92,
   "metadata": {},
   "outputs": [
    {
     "output_type": "execute_result",
     "data": {
      "text/plain": [
       "('Clouds', '튼구름')"
      ]
     },
     "metadata": {},
     "execution_count": 92
    }
   ],
   "source": [
    "main = result['weather'][0]['main']\n",
    "desc = result['weather'][0]['description']\n",
    "main, desc"
   ]
  },
  {
   "cell_type": "code",
   "execution_count": 93,
   "metadata": {},
   "outputs": [],
   "source": [
    "temp = round(result['main']['temp']-0.01,1)\n",
    "temp_min = round(result['main']['temp_min']-0.01,1)\n",
    "temp_max = round(result['main']['temp_max']-0.01,1)\n",
    "pressure = result['main']['pressure']\n",
    "humidity = result['main']['humidity']"
   ]
  },
  {
   "cell_type": "code",
   "execution_count": 94,
   "metadata": {},
   "outputs": [
    {
     "output_type": "execute_result",
     "data": {
      "text/plain": [
       "(3.1, 2.0, 4.0)"
      ]
     },
     "metadata": {},
     "execution_count": 94
    }
   ],
   "source": [
    "temp,temp_min,temp_max"
   ]
  },
  {
   "source": [
    "### address2.csv 파일 읽어서 날씨 정보 입력하기"
   ],
   "cell_type": "markdown",
   "metadata": {}
  },
  {
   "cell_type": "code",
   "execution_count": 95,
   "metadata": {},
   "outputs": [
    {
     "output_type": "execute_result",
     "data": {
      "text/plain": [
       "     건물명                      도로명 주소        lat         lng\n",
       "0   강서구청     서울특별시 강서구 화곡로 302 (화곡동)  37.550966  126.849532\n",
       "1   양천구청    서울특별시 양천구 목동동로 105 (신정동)  37.517075  126.866543\n",
       "2   부천시청      경기도 부천시 길주로 210-2 (중동)  37.502277  126.765004\n",
       "3  영등포구청  서울특별시 영등포구 당산로 123 (당산동3가)  37.525963  126.896367\n",
       "4   김포시청        경기도 김포시 사우중로 1 (사우동)  37.615190  126.715717"
      ],
      "text/html": "<div>\n<style scoped>\n    .dataframe tbody tr th:only-of-type {\n        vertical-align: middle;\n    }\n\n    .dataframe tbody tr th {\n        vertical-align: top;\n    }\n\n    .dataframe thead th {\n        text-align: right;\n    }\n</style>\n<table border=\"1\" class=\"dataframe\">\n  <thead>\n    <tr style=\"text-align: right;\">\n      <th></th>\n      <th>건물명</th>\n      <th>도로명 주소</th>\n      <th>lat</th>\n      <th>lng</th>\n    </tr>\n  </thead>\n  <tbody>\n    <tr>\n      <th>0</th>\n      <td>강서구청</td>\n      <td>서울특별시 강서구 화곡로 302 (화곡동)</td>\n      <td>37.550966</td>\n      <td>126.849532</td>\n    </tr>\n    <tr>\n      <th>1</th>\n      <td>양천구청</td>\n      <td>서울특별시 양천구 목동동로 105 (신정동)</td>\n      <td>37.517075</td>\n      <td>126.866543</td>\n    </tr>\n    <tr>\n      <th>2</th>\n      <td>부천시청</td>\n      <td>경기도 부천시 길주로 210-2 (중동)</td>\n      <td>37.502277</td>\n      <td>126.765004</td>\n    </tr>\n    <tr>\n      <th>3</th>\n      <td>영등포구청</td>\n      <td>서울특별시 영등포구 당산로 123 (당산동3가)</td>\n      <td>37.525963</td>\n      <td>126.896367</td>\n    </tr>\n    <tr>\n      <th>4</th>\n      <td>김포시청</td>\n      <td>경기도 김포시 사우중로 1 (사우동)</td>\n      <td>37.615190</td>\n      <td>126.715717</td>\n    </tr>\n  </tbody>\n</table>\n</div>"
     },
     "metadata": {},
     "execution_count": 95
    }
   ],
   "source": [
    "df = pd.read_csv('address2.csv')\n",
    "df"
   ]
  },
  {
   "cell_type": "code",
   "execution_count": 96,
   "metadata": {},
   "outputs": [],
   "source": [
    "weather_list = []; desc_list = []; temp_list = []\n",
    "for i in df.index:\n",
    "    url = f'http://api.openweathermap.org/data/2.5/weather?lat={df.lat[i]}&lon={df.lng[i]}&appid={oweather_key}&units=metric&lang=kr'\n",
    "    result = requests.get(urlparse(url).geturl()).json()\n",
    "    main = result['weather'][0]['main']\n",
    "    desc = result['weather'][0]['description']\n",
    "    temp = round(result['main']['temp']-0.01,1)\n",
    "    temp_min = round(result['main']['temp_min']-0.01,1)\n",
    "    temp_max = round(result['main']['temp_max']-0.01,1)\n",
    "    weather_list.append(main)\n",
    "    desc_list.append(desc)\n",
    "    temp_list.append(f'{temp}/{temp_min}/{temp_max}')"
   ]
  },
  {
   "cell_type": "code",
   "execution_count": 97,
   "metadata": {},
   "outputs": [
    {
     "output_type": "execute_result",
     "data": {
      "text/plain": [
       "     건물명                      도로명 주소        lat         lng weather desc  \\\n",
       "0   강서구청     서울특별시 강서구 화곡로 302 (화곡동)  37.550966  126.849532  Clouds  튼구름   \n",
       "1   양천구청    서울특별시 양천구 목동동로 105 (신정동)  37.517075  126.866543  Clouds  튼구름   \n",
       "2   부천시청      경기도 부천시 길주로 210-2 (중동)  37.502277  126.765004  Clouds  튼구름   \n",
       "3  영등포구청  서울특별시 영등포구 당산로 123 (당산동3가)  37.525963  126.896367  Clouds  온흐림   \n",
       "4   김포시청        경기도 김포시 사우중로 1 (사우동)  37.615190  126.715717  Clouds  튼구름   \n",
       "\n",
       "          temp  \n",
       "0  3.1/2.0/4.0  \n",
       "1  3.9/3.0/5.0  \n",
       "2  3.0/2.0/4.0  \n",
       "3  3.9/3.0/5.0  \n",
       "4  3.0/2.0/4.0  "
      ],
      "text/html": "<div>\n<style scoped>\n    .dataframe tbody tr th:only-of-type {\n        vertical-align: middle;\n    }\n\n    .dataframe tbody tr th {\n        vertical-align: top;\n    }\n\n    .dataframe thead th {\n        text-align: right;\n    }\n</style>\n<table border=\"1\" class=\"dataframe\">\n  <thead>\n    <tr style=\"text-align: right;\">\n      <th></th>\n      <th>건물명</th>\n      <th>도로명 주소</th>\n      <th>lat</th>\n      <th>lng</th>\n      <th>weather</th>\n      <th>desc</th>\n      <th>temp</th>\n    </tr>\n  </thead>\n  <tbody>\n    <tr>\n      <th>0</th>\n      <td>강서구청</td>\n      <td>서울특별시 강서구 화곡로 302 (화곡동)</td>\n      <td>37.550966</td>\n      <td>126.849532</td>\n      <td>Clouds</td>\n      <td>튼구름</td>\n      <td>3.1/2.0/4.0</td>\n    </tr>\n    <tr>\n      <th>1</th>\n      <td>양천구청</td>\n      <td>서울특별시 양천구 목동동로 105 (신정동)</td>\n      <td>37.517075</td>\n      <td>126.866543</td>\n      <td>Clouds</td>\n      <td>튼구름</td>\n      <td>3.9/3.0/5.0</td>\n    </tr>\n    <tr>\n      <th>2</th>\n      <td>부천시청</td>\n      <td>경기도 부천시 길주로 210-2 (중동)</td>\n      <td>37.502277</td>\n      <td>126.765004</td>\n      <td>Clouds</td>\n      <td>튼구름</td>\n      <td>3.0/2.0/4.0</td>\n    </tr>\n    <tr>\n      <th>3</th>\n      <td>영등포구청</td>\n      <td>서울특별시 영등포구 당산로 123 (당산동3가)</td>\n      <td>37.525963</td>\n      <td>126.896367</td>\n      <td>Clouds</td>\n      <td>온흐림</td>\n      <td>3.9/3.0/5.0</td>\n    </tr>\n    <tr>\n      <th>4</th>\n      <td>김포시청</td>\n      <td>경기도 김포시 사우중로 1 (사우동)</td>\n      <td>37.615190</td>\n      <td>126.715717</td>\n      <td>Clouds</td>\n      <td>튼구름</td>\n      <td>3.0/2.0/4.0</td>\n    </tr>\n  </tbody>\n</table>\n</div>"
     },
     "metadata": {},
     "execution_count": 97
    }
   ],
   "source": [
    "df['weather'] = weather_list\n",
    "df['desc'] = desc_list\n",
    "df['temp'] = temp_list\n",
    "df"
   ]
  },
  {
   "cell_type": "code",
   "execution_count": 98,
   "metadata": {},
   "outputs": [],
   "source": [
    "df.to_csv('address3.csv',sep=',',encoding='utf8',index=False)"
   ]
  },
  {
   "cell_type": "code",
   "execution_count": null,
   "metadata": {},
   "outputs": [],
   "source": []
  }
 ]
}